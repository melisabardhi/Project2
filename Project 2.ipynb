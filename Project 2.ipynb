{
 "cells": [
  {
   "cell_type": "markdown",
   "metadata": {
    "toc": true
   },
   "source": [
    "<h1>Table of Contents<span class=\"tocSkip\"></span></h1>\n",
    "<div class=\"toc\"><ul class=\"toc-item\"><li><span><a href=\"#Background\" data-toc-modified-id=\"Background-1\"><span class=\"toc-item-num\">1&nbsp;&nbsp;</span>Background</a></span><ul class=\"toc-item\"><li><span><a href=\"#Data-Science-Framework:-Harvard-Data-Science-Workflow\" data-toc-modified-id=\"Data-Science-Framework:-Harvard-Data-Science-Workflow-1.1\"><span class=\"toc-item-num\">1.1&nbsp;&nbsp;</span>Data Science Framework: Harvard Data Science Workflow</a></span></li><li><span><a href=\"#Preliminary-Analysis-of-Data-Set\" data-toc-modified-id=\"Preliminary-Analysis-of-Data-Set-1.2\"><span class=\"toc-item-num\">1.2&nbsp;&nbsp;</span>Preliminary Analysis of Data Set</a></span></li><li><span><a href=\"#Hypothesis-Tests-Explained\" data-toc-modified-id=\"Hypothesis-Tests-Explained-1.3\"><span class=\"toc-item-num\">1.3&nbsp;&nbsp;</span>Hypothesis Tests Explained</a></span><ul class=\"toc-item\"><li><ul class=\"toc-item\"><li><span><a href=\"#Null-and-Alternative-Hypotheses-Explained\" data-toc-modified-id=\"Null-and-Alternative-Hypotheses-Explained-1.3.0.1\"><span class=\"toc-item-num\">1.3.0.1&nbsp;&nbsp;</span>Null and Alternative Hypotheses Explained</a></span></li><li><span><a href=\"#ANOVA-Test-Explained\" data-toc-modified-id=\"ANOVA-Test-Explained-1.3.0.2\"><span class=\"toc-item-num\">1.3.0.2&nbsp;&nbsp;</span>ANOVA Test Explained</a></span></li><li><span><a href=\"#Student's-T-Test-Explained\" data-toc-modified-id=\"Student's-T-Test-Explained-1.3.0.3\"><span class=\"toc-item-num\">1.3.0.3&nbsp;&nbsp;</span>Student's T-Test Explained</a></span></li><li><span><a href=\"#Welch's-T-test-Explained\" data-toc-modified-id=\"Welch's-T-test-Explained-1.3.0.4\"><span class=\"toc-item-num\">1.3.0.4&nbsp;&nbsp;</span>Welch's T-test Explained</a></span></li><li><span><a href=\"#Cohen's-D-Explained\" data-toc-modified-id=\"Cohen's-D-Explained-1.3.0.5\"><span class=\"toc-item-num\">1.3.0.5&nbsp;&nbsp;</span>Cohen's D Explained</a></span></li><li><span><a href=\"#Tukey's-(HSD)-Test-Explained\" data-toc-modified-id=\"Tukey's-(HSD)-Test-Explained-1.3.0.6\"><span class=\"toc-item-num\">1.3.0.6&nbsp;&nbsp;</span>Tukey's (HSD) Test Explained</a></span></li><li><span><a href=\"#Bootstrapping\" data-toc-modified-id=\"Bootstrapping-1.3.0.7\"><span class=\"toc-item-num\">1.3.0.7&nbsp;&nbsp;</span>Bootstrapping</a></span></li></ul></li></ul></li></ul></li><li><span><a href=\"#Formulate-Hypothesis-Tests\" data-toc-modified-id=\"Formulate-Hypothesis-Tests-2\"><span class=\"toc-item-num\">2&nbsp;&nbsp;</span>Formulate Hypothesis Tests</a></span></li><li><span><a href=\"#Topic-1:-Discount-Effectiveness\" data-toc-modified-id=\"Topic-1:-Discount-Effectiveness-3\"><span class=\"toc-item-num\">3&nbsp;&nbsp;</span>Topic 1: Discount Effectiveness</a></span><ul class=\"toc-item\"><li><span><a href=\"#Hypothesis-1:-Is-there-a-statistically-significant-difference-between-the-quantity-ordered-of-discounted-vs.-non-discounted-products?\" data-toc-modified-id=\"Hypothesis-1:-Is-there-a-statistically-significant-difference-between-the-quantity-ordered-of-discounted-vs.-non-discounted-products?-3.1\"><span class=\"toc-item-num\">3.1&nbsp;&nbsp;</span>Hypothesis 1: Is there a statistically significant difference between the quantity ordered of discounted vs. non-discounted products?</a></span><ul class=\"toc-item\"><li><span><a href=\"#Hypothesis-1-Result\" data-toc-modified-id=\"Hypothesis-1-Result-3.1.1\"><span class=\"toc-item-num\">3.1.1&nbsp;&nbsp;</span>Hypothesis 1 Result</a></span></li></ul></li><li><span><a href=\"#Hypothesis-2:-Is-there-a-statistically-significant-impact-of-discounts-on-revenue?\" data-toc-modified-id=\"Hypothesis-2:-Is-there-a-statistically-significant-impact-of-discounts-on-revenue?-3.2\"><span class=\"toc-item-num\">3.2&nbsp;&nbsp;</span>Hypothesis 2: Is there a statistically significant impact of discounts on revenue?</a></span><ul class=\"toc-item\"><li><span><a href=\"#Hypothesis-2-Result\" data-toc-modified-id=\"Hypothesis-2-Result-3.2.1\"><span class=\"toc-item-num\">3.2.1&nbsp;&nbsp;</span>Hypothesis 2 Result</a></span></li></ul></li><li><span><a href=\"#Hypothesis-3:-At-what-levels-of-discount-does-quantity-of-an-order-have-a-statistically-significant-effect-on-the-quantity-purchased-of-a-product-in-an-order?\" data-toc-modified-id=\"Hypothesis-3:-At-what-levels-of-discount-does-quantity-of-an-order-have-a-statistically-significant-effect-on-the-quantity-purchased-of-a-product-in-an-order?-3.3\"><span class=\"toc-item-num\">3.3&nbsp;&nbsp;</span>Hypothesis 3: At what levels of discount does quantity of an order have a statistically significant effect on the quantity purchased of a product in an order?</a></span><ul class=\"toc-item\"><li><span><a href=\"#Hypothesis-2-Result\" data-toc-modified-id=\"Hypothesis-2-Result-3.3.1\"><span class=\"toc-item-num\">3.3.1&nbsp;&nbsp;</span>Hypothesis 2 Result</a></span></li></ul></li><li><span><a href=\"#Hypothesis-4:-Is-there-a-statistically-significant-difference-in-discounts-given-by-USA-and-UK-employees?\" data-toc-modified-id=\"Hypothesis-4:-Is-there-a-statistically-significant-difference-in-discounts-given-by-USA-and-UK-employees?-3.4\"><span class=\"toc-item-num\">3.4&nbsp;&nbsp;</span>Hypothesis 4: Is there a statistically significant difference in discounts given by USA and UK employees?</a></span><ul class=\"toc-item\"><li><span><a href=\"#Hypothesis-4-Result\" data-toc-modified-id=\"Hypothesis-4-Result-3.4.1\"><span class=\"toc-item-num\">3.4.1&nbsp;&nbsp;</span>Hypothesis 4 Result</a></span></li></ul></li><li><span><a href=\"#Hypothesis-5:-Is-there-a-statistically-significant-difference-in-the-discounts-offered-due-to-the-demand-of-produce-per-month?\" data-toc-modified-id=\"Hypothesis-5:-Is-there-a-statistically-significant-difference-in-the-discounts-offered-due-to-the-demand-of-produce-per-month?-3.5\"><span class=\"toc-item-num\">3.5&nbsp;&nbsp;</span>Hypothesis 5: Is there a statistically significant difference in the discounts offered due to the demand of produce per month?</a></span><ul class=\"toc-item\"><li><span><a href=\"#Hypothesis-4-Result\" data-toc-modified-id=\"Hypothesis-4-Result-3.5.1\"><span class=\"toc-item-num\">3.5.1&nbsp;&nbsp;</span>Hypothesis 4 Result</a></span></li></ul></li><li><span><a href=\"#Hypothesis-6:-Is-there-a-statistically-significant-difference-in-discount-between-categories?\" data-toc-modified-id=\"Hypothesis-6:-Is-there-a-statistically-significant-difference-in-discount-between-categories?-3.6\"><span class=\"toc-item-num\">3.6&nbsp;&nbsp;</span>Hypothesis 6: Is there a statistically significant difference in discount between categories?</a></span><ul class=\"toc-item\"><li><span><a href=\"#Hypothesis-6-Result\" data-toc-modified-id=\"Hypothesis-6-Result-3.6.1\"><span class=\"toc-item-num\">3.6.1&nbsp;&nbsp;</span>Hypothesis 6 Result</a></span></li></ul></li></ul></li><li><span><a href=\"#Topic-2:-Performance-of-Shipping-Companies\" data-toc-modified-id=\"Topic-2:-Performance-of-Shipping-Companies-4\"><span class=\"toc-item-num\">4&nbsp;&nbsp;</span>Topic 2: Performance of Shipping Companies</a></span><ul class=\"toc-item\"><li><span><a href=\"#Hypothesis-7:-Do-different-shippers-have-a-statistically-significant-greater-freight-cost?\" data-toc-modified-id=\"Hypothesis-7:-Do-different-shippers-have-a-statistically-significant-greater-freight-cost?-4.1\"><span class=\"toc-item-num\">4.1&nbsp;&nbsp;</span>Hypothesis 7: Do different shippers have a statistically significant greater freight cost?</a></span><ul class=\"toc-item\"><li><span><a href=\"#Hypothesis-7-Result\" data-toc-modified-id=\"Hypothesis-7-Result-4.1.1\"><span class=\"toc-item-num\">4.1.1&nbsp;&nbsp;</span>Hypothesis 7 Result</a></span></li></ul></li><li><span><a href=\"#Hypothesis-8:-Do-shippers-have-a-statistically-significant-impact-on-Revenue---Freight-Cost?\" data-toc-modified-id=\"Hypothesis-8:-Do-shippers-have-a-statistically-significant-impact-on-Revenue---Freight-Cost?-4.2\"><span class=\"toc-item-num\">4.2&nbsp;&nbsp;</span>Hypothesis 8: Do shippers have a statistically significant impact on Revenue - Freight Cost?</a></span><ul class=\"toc-item\"><li><span><a href=\"#Hypothesis-8-Result\" data-toc-modified-id=\"Hypothesis-8-Result-4.2.1\"><span class=\"toc-item-num\">4.2.1&nbsp;&nbsp;</span>Hypothesis 8 Result</a></span></li></ul></li></ul></li><li><span><a href=\"#Topic-3:-Performance-of-the-US-relative-to-the-UK\" data-toc-modified-id=\"Topic-3:-Performance-of-the-US-relative-to-the-UK-5\"><span class=\"toc-item-num\">5&nbsp;&nbsp;</span>Topic 3: Performance of the US relative to the UK</a></span><ul class=\"toc-item\"><li><span><a href=\"#Hypothesis-9:-Is-there-a-statistically-significant-difference-in-revenue-between-employees-in-the-US-and-UK?\" data-toc-modified-id=\"Hypothesis-9:-Is-there-a-statistically-significant-difference-in-revenue-between-employees-in-the-US-and-UK?-5.1\"><span class=\"toc-item-num\">5.1&nbsp;&nbsp;</span>Hypothesis 9: Is there a statistically significant difference in revenue between employees in the US and UK?</a></span><ul class=\"toc-item\"><li><span><a href=\"#Hypothesis-9-Result\" data-toc-modified-id=\"Hypothesis-9-Result-5.1.1\"><span class=\"toc-item-num\">5.1.1&nbsp;&nbsp;</span>Hypothesis 9 Result</a></span></li></ul></li><li><span><a href=\"#Hypothesis-10:-Is-there-a-statistically-significant-difference-in-performance-between-employees-from-US-and-UK-(measured-by-amount-of-orders-processed)?\" data-toc-modified-id=\"Hypothesis-10:-Is-there-a-statistically-significant-difference-in-performance-between-employees-from-US-and-UK-(measured-by-amount-of-orders-processed)?-5.2\"><span class=\"toc-item-num\">5.2&nbsp;&nbsp;</span>Hypothesis 10: Is there a statistically significant difference in performance between employees from US and UK (measured by amount of orders processed)?</a></span><ul class=\"toc-item\"><li><span><a href=\"#Hypothesis-10-Result\" data-toc-modified-id=\"Hypothesis-10-Result-5.2.1\"><span class=\"toc-item-num\">5.2.1&nbsp;&nbsp;</span>Hypothesis 10 Result</a></span></li></ul></li></ul></li><li><span><a href=\"#Conclusion\" data-toc-modified-id=\"Conclusion-6\"><span class=\"toc-item-num\">6&nbsp;&nbsp;</span>Conclusion</a></span><ul class=\"toc-item\"><li><span><a href=\"#Summary-of-Results\" data-toc-modified-id=\"Summary-of-Results-6.1\"><span class=\"toc-item-num\">6.1&nbsp;&nbsp;</span>Summary of Results</a></span></li><li><span><a href=\"#Ideas-for-Future-Exploration\" data-toc-modified-id=\"Ideas-for-Future-Exploration-6.2\"><span class=\"toc-item-num\">6.2&nbsp;&nbsp;</span>Ideas for Future Exploration</a></span></li></ul></li></ul></div>"
   ]
  },
  {
   "cell_type": "markdown",
   "metadata": {},
   "source": [
    "Name: Melisa Bardhi\n",
    "\n",
    "Instructor: Jeff Herman\n",
    "\n",
    "Project: V2 Module 3 Project\n",
    "\n",
    "Blog 2: https://melisabardhi.github.io/evaluating_the_effectiveness_of_americas_response_to_covid-19"
   ]
  },
  {
   "cell_type": "markdown",
   "metadata": {},
   "source": [
    "# Background"
   ]
  },
  {
   "cell_type": "markdown",
   "metadata": {},
   "source": [
    "## Data Science Framework: Harvard Data Science Workflow\n",
    "\n",
    "For this project, I will use the Harvard Data Science Workflow. I am specifically choosing this workflow because it is centered around asking business questions to drive data analysis and meaningful results.\n",
    "\n",
    "Below are the steps of the Harvard Data Science Workflow:\n",
    "1. Ask an interesting question\n",
    "2. Obtain the data\n",
    "3. Explore the data\n",
    "4. Model the data \n",
    "5. Communicate and visualize the results\n",
    "\n",
    "\n"
   ]
  },
  {
   "cell_type": "code",
   "execution_count": 1,
   "metadata": {},
   "outputs": [],
   "source": [
    "# Start with importing all relevant libraries \n",
    "\n",
    "# Using Numpy to perform mathematical operations and manipulate arrays\n",
    "import numpy as np \n",
    "\n",
    "# Using pandas for building DataFrames from SQL queries:\n",
    "import pandas as pd \n",
    "\n",
    "# Using Scikit learn to run multiple linear regression\n",
    "from sklearn.linear_model import LinearRegression\n",
    "from sklearn.preprocessing import MinMaxScaler\n",
    "from sklearn.linear_model import Lasso, Ridge, LinearRegression\n",
    "from sklearn.model_selection import train_test_split\n",
    "import matplotlib.pyplot as plt\n",
    "from sklearn.linear_model import LinearRegression\n",
    "from sklearn.model_selection import cross_val_score\n",
    "from sklearn.model_selection import KFold\n",
    "from sklearn import preprocessing\n",
    "from sklearn import linear_model as lm\n",
    "\n",
    "# Using statsmodels to perform statistical analysis\n",
    "import statsmodels.api as sm # ANOVA Hypothesis Tesls\n",
    "from statsmodels.stats.multicomp import pairwise_tukeyhsd # Calculate pairwise comparisons with TukeyHSD CI \n",
    "from statsmodels.stats.multicomp import MultiComparison # Tests for multiple comparisons\n",
    "from statsmodels.formula.api import ols #Ordinary Least Squares\n",
    "from scipy import stats # Determine significance levels, normality\n",
    "import itertools # Run combinations\n",
    "from statsmodels.graphics.factorplots import interaction_plot # Statistical visualization\n",
    "from pprint import pprint\n",
    "\n",
    "# Using Matplotlib and Seaborn for generting visualizations:\n",
    "import matplotlib.pyplot as plt \n",
    "%matplotlib inline\n",
    "import seaborn as sns #For plotting histograms with kdes\n",
    "\n",
    "#Connect database and create cursor using SQLite to read SQL statements\n",
    "import sqlite3 \n",
    "conn = sqlite3.connect('Northwind_small.sqlite')\n",
    "cur = conn.cursor()\n",
    "\n",
    "# Warnings\n",
    "import warnings\n",
    "warnings.filterwarnings('ignore')"
   ]
  },
  {
   "cell_type": "markdown",
   "metadata": {},
   "source": [
    "## Preliminary Analysis of Data Set"
   ]
  },
  {
   "cell_type": "markdown",
   "metadata": {},
   "source": [
    "Once obtaining the data set, I would like to start with exploring the data set, specifically the following categories:\n",
    "\n",
    "A. Employees\n",
    "- Who works for Northwind; what is their demographic and employement profile?\n",
    "\n",
    "B. Customers \n",
    "- What are Northwind's customer profiles?\n",
    "- What are the customer product preferences?\n",
    "- Which regions or territories have the highest and lowest growth?\n",
    "\n",
    "C. Shippers\n",
    "- Who are the main shippers?\n",
    "- How profitable are they?\n",
    "\n",
    "D. Suppliers\n",
    "- Who are the suppliers and what is their business relationship with Northwind? \n",
    "\n",
    "By looking at each of these segments of the data set, we can understand the full product lifecycle from the suppliers to the customers."
   ]
  },
  {
   "cell_type": "code",
   "execution_count": 2,
   "metadata": {},
   "outputs": [
    {
     "data": {
      "text/plain": [
       "[('Employee',),\n",
       " ('Category',),\n",
       " ('Customer',),\n",
       " ('Shipper',),\n",
       " ('Supplier',),\n",
       " ('Order',),\n",
       " ('Product',),\n",
       " ('OrderDetail',),\n",
       " ('CustomerCustomerDemo',),\n",
       " ('CustomerDemographic',),\n",
       " ('Region',),\n",
       " ('Territory',),\n",
       " ('EmployeeTerritory',)]"
      ]
     },
     "execution_count": 2,
     "metadata": {},
     "output_type": "execute_result"
    }
   ],
   "source": [
    "# connecting to Northwind Database through sqlite\n",
    "conn = sqlite3.connect('Northwind_small.sqlite')\n",
    "cur = conn.cursor()\n",
    "\n",
    "# Deriving high level data schema / table information from Northwind database\n",
    "cur.execute(\"SELECT name FROM sqlite_master WHERE type = 'table';\").fetchall()"
   ]
  },
  {
   "cell_type": "markdown",
   "metadata": {},
   "source": [
    "##### Employees"
   ]
  },
  {
   "cell_type": "code",
   "execution_count": 3,
   "metadata": {
    "scrolled": true
   },
   "outputs": [
    {
     "data": {
      "text/html": [
       "<div>\n",
       "<style scoped>\n",
       "    .dataframe tbody tr th:only-of-type {\n",
       "        vertical-align: middle;\n",
       "    }\n",
       "\n",
       "    .dataframe tbody tr th {\n",
       "        vertical-align: top;\n",
       "    }\n",
       "\n",
       "    .dataframe thead th {\n",
       "        text-align: right;\n",
       "    }\n",
       "</style>\n",
       "<table border=\"1\" class=\"dataframe\">\n",
       "  <thead>\n",
       "    <tr style=\"text-align: right;\">\n",
       "      <th></th>\n",
       "      <th>Id</th>\n",
       "      <th>LastName</th>\n",
       "      <th>FirstName</th>\n",
       "      <th>Title</th>\n",
       "      <th>TitleOfCourtesy</th>\n",
       "      <th>BirthDate</th>\n",
       "      <th>HireDate</th>\n",
       "      <th>Address</th>\n",
       "      <th>City</th>\n",
       "      <th>Region</th>\n",
       "      <th>PostalCode</th>\n",
       "      <th>Country</th>\n",
       "      <th>HomePhone</th>\n",
       "      <th>Extension</th>\n",
       "      <th>Photo</th>\n",
       "      <th>Notes</th>\n",
       "      <th>ReportsTo</th>\n",
       "      <th>PhotoPath</th>\n",
       "    </tr>\n",
       "  </thead>\n",
       "  <tbody>\n",
       "    <tr>\n",
       "      <td>0</td>\n",
       "      <td>1</td>\n",
       "      <td>Davolio</td>\n",
       "      <td>Nancy</td>\n",
       "      <td>Sales Representative</td>\n",
       "      <td>Ms.</td>\n",
       "      <td>1980-12-08</td>\n",
       "      <td>2024-05-01</td>\n",
       "      <td>507 - 20th Ave. E. Apt. 2A</td>\n",
       "      <td>Seattle</td>\n",
       "      <td>North America</td>\n",
       "      <td>98122</td>\n",
       "      <td>USA</td>\n",
       "      <td>(206) 555-9857</td>\n",
       "      <td>5467</td>\n",
       "      <td>None</td>\n",
       "      <td>Education includes a BA in psychology from Col...</td>\n",
       "      <td>2.0</td>\n",
       "      <td>http://accweb/emmployees/davolio.bmp</td>\n",
       "    </tr>\n",
       "    <tr>\n",
       "      <td>1</td>\n",
       "      <td>2</td>\n",
       "      <td>Fuller</td>\n",
       "      <td>Andrew</td>\n",
       "      <td>Vice President, Sales</td>\n",
       "      <td>Dr.</td>\n",
       "      <td>1984-02-19</td>\n",
       "      <td>2024-08-14</td>\n",
       "      <td>908 W. Capital Way</td>\n",
       "      <td>Tacoma</td>\n",
       "      <td>North America</td>\n",
       "      <td>98401</td>\n",
       "      <td>USA</td>\n",
       "      <td>(206) 555-9482</td>\n",
       "      <td>3457</td>\n",
       "      <td>None</td>\n",
       "      <td>Andrew received his BTS commercial in 1974 and...</td>\n",
       "      <td>NaN</td>\n",
       "      <td>http://accweb/emmployees/fuller.bmp</td>\n",
       "    </tr>\n",
       "    <tr>\n",
       "      <td>2</td>\n",
       "      <td>3</td>\n",
       "      <td>Leverling</td>\n",
       "      <td>Janet</td>\n",
       "      <td>Sales Representative</td>\n",
       "      <td>Ms.</td>\n",
       "      <td>1995-08-30</td>\n",
       "      <td>2024-04-01</td>\n",
       "      <td>722 Moss Bay Blvd.</td>\n",
       "      <td>Kirkland</td>\n",
       "      <td>North America</td>\n",
       "      <td>98033</td>\n",
       "      <td>USA</td>\n",
       "      <td>(206) 555-3412</td>\n",
       "      <td>3355</td>\n",
       "      <td>None</td>\n",
       "      <td>Janet has a BS degree in chemistry from Boston...</td>\n",
       "      <td>2.0</td>\n",
       "      <td>http://accweb/emmployees/leverling.bmp</td>\n",
       "    </tr>\n",
       "    <tr>\n",
       "      <td>3</td>\n",
       "      <td>4</td>\n",
       "      <td>Peacock</td>\n",
       "      <td>Margaret</td>\n",
       "      <td>Sales Representative</td>\n",
       "      <td>Mrs.</td>\n",
       "      <td>1969-09-19</td>\n",
       "      <td>2025-05-03</td>\n",
       "      <td>4110 Old Redmond Rd.</td>\n",
       "      <td>Redmond</td>\n",
       "      <td>North America</td>\n",
       "      <td>98052</td>\n",
       "      <td>USA</td>\n",
       "      <td>(206) 555-8122</td>\n",
       "      <td>5176</td>\n",
       "      <td>None</td>\n",
       "      <td>Margaret holds a BA in English literature from...</td>\n",
       "      <td>2.0</td>\n",
       "      <td>http://accweb/emmployees/peacock.bmp</td>\n",
       "    </tr>\n",
       "    <tr>\n",
       "      <td>4</td>\n",
       "      <td>5</td>\n",
       "      <td>Buchanan</td>\n",
       "      <td>Steven</td>\n",
       "      <td>Sales Manager</td>\n",
       "      <td>Mr.</td>\n",
       "      <td>1987-03-04</td>\n",
       "      <td>2025-10-17</td>\n",
       "      <td>14 Garrett Hill</td>\n",
       "      <td>London</td>\n",
       "      <td>British Isles</td>\n",
       "      <td>SW1 8JR</td>\n",
       "      <td>UK</td>\n",
       "      <td>(71) 555-4848</td>\n",
       "      <td>3453</td>\n",
       "      <td>None</td>\n",
       "      <td>Steven Buchanan graduated from St. Andrews Uni...</td>\n",
       "      <td>2.0</td>\n",
       "      <td>http://accweb/emmployees/buchanan.bmp</td>\n",
       "    </tr>\n",
       "    <tr>\n",
       "      <td>5</td>\n",
       "      <td>6</td>\n",
       "      <td>Suyama</td>\n",
       "      <td>Michael</td>\n",
       "      <td>Sales Representative</td>\n",
       "      <td>Mr.</td>\n",
       "      <td>1995-07-02</td>\n",
       "      <td>2025-10-17</td>\n",
       "      <td>Coventry House Miner Rd.</td>\n",
       "      <td>London</td>\n",
       "      <td>British Isles</td>\n",
       "      <td>EC2 7JR</td>\n",
       "      <td>UK</td>\n",
       "      <td>(71) 555-7773</td>\n",
       "      <td>428</td>\n",
       "      <td>None</td>\n",
       "      <td>Michael is a graduate of Sussex University (MA...</td>\n",
       "      <td>5.0</td>\n",
       "      <td>http://accweb/emmployees/davolio.bmp</td>\n",
       "    </tr>\n",
       "    <tr>\n",
       "      <td>6</td>\n",
       "      <td>7</td>\n",
       "      <td>King</td>\n",
       "      <td>Robert</td>\n",
       "      <td>Sales Representative</td>\n",
       "      <td>Mr.</td>\n",
       "      <td>1992-05-29</td>\n",
       "      <td>2026-01-02</td>\n",
       "      <td>Edgeham Hollow Winchester Way</td>\n",
       "      <td>London</td>\n",
       "      <td>British Isles</td>\n",
       "      <td>RG1 9SP</td>\n",
       "      <td>UK</td>\n",
       "      <td>(71) 555-5598</td>\n",
       "      <td>465</td>\n",
       "      <td>None</td>\n",
       "      <td>Robert King served in the Peace Corps and trav...</td>\n",
       "      <td>5.0</td>\n",
       "      <td>http://accweb/emmployees/davolio.bmp</td>\n",
       "    </tr>\n",
       "    <tr>\n",
       "      <td>7</td>\n",
       "      <td>8</td>\n",
       "      <td>Callahan</td>\n",
       "      <td>Laura</td>\n",
       "      <td>Inside Sales Coordinator</td>\n",
       "      <td>Ms.</td>\n",
       "      <td>1990-01-09</td>\n",
       "      <td>2026-03-05</td>\n",
       "      <td>4726 - 11th Ave. N.E.</td>\n",
       "      <td>Seattle</td>\n",
       "      <td>North America</td>\n",
       "      <td>98105</td>\n",
       "      <td>USA</td>\n",
       "      <td>(206) 555-1189</td>\n",
       "      <td>2344</td>\n",
       "      <td>None</td>\n",
       "      <td>Laura received a BA in psychology from the Uni...</td>\n",
       "      <td>2.0</td>\n",
       "      <td>http://accweb/emmployees/davolio.bmp</td>\n",
       "    </tr>\n",
       "    <tr>\n",
       "      <td>8</td>\n",
       "      <td>9</td>\n",
       "      <td>Dodsworth</td>\n",
       "      <td>Anne</td>\n",
       "      <td>Sales Representative</td>\n",
       "      <td>Ms.</td>\n",
       "      <td>1998-01-27</td>\n",
       "      <td>2026-11-15</td>\n",
       "      <td>7 Houndstooth Rd.</td>\n",
       "      <td>London</td>\n",
       "      <td>British Isles</td>\n",
       "      <td>WG2 7LT</td>\n",
       "      <td>UK</td>\n",
       "      <td>(71) 555-4444</td>\n",
       "      <td>452</td>\n",
       "      <td>None</td>\n",
       "      <td>Anne has a BA degree in English from St. Lawre...</td>\n",
       "      <td>5.0</td>\n",
       "      <td>http://accweb/emmployees/davolio.bmp</td>\n",
       "    </tr>\n",
       "  </tbody>\n",
       "</table>\n",
       "</div>"
      ],
      "text/plain": [
       "   Id   LastName FirstName                     Title TitleOfCourtesy  \\\n",
       "0   1    Davolio     Nancy      Sales Representative             Ms.   \n",
       "1   2     Fuller    Andrew     Vice President, Sales             Dr.   \n",
       "2   3  Leverling     Janet      Sales Representative             Ms.   \n",
       "3   4    Peacock  Margaret      Sales Representative            Mrs.   \n",
       "4   5   Buchanan    Steven             Sales Manager             Mr.   \n",
       "5   6     Suyama   Michael      Sales Representative             Mr.   \n",
       "6   7       King    Robert      Sales Representative             Mr.   \n",
       "7   8   Callahan     Laura  Inside Sales Coordinator             Ms.   \n",
       "8   9  Dodsworth      Anne      Sales Representative             Ms.   \n",
       "\n",
       "    BirthDate    HireDate                        Address      City  \\\n",
       "0  1980-12-08  2024-05-01     507 - 20th Ave. E. Apt. 2A   Seattle   \n",
       "1  1984-02-19  2024-08-14             908 W. Capital Way    Tacoma   \n",
       "2  1995-08-30  2024-04-01             722 Moss Bay Blvd.  Kirkland   \n",
       "3  1969-09-19  2025-05-03           4110 Old Redmond Rd.   Redmond   \n",
       "4  1987-03-04  2025-10-17                14 Garrett Hill    London   \n",
       "5  1995-07-02  2025-10-17       Coventry House Miner Rd.    London   \n",
       "6  1992-05-29  2026-01-02  Edgeham Hollow Winchester Way    London   \n",
       "7  1990-01-09  2026-03-05          4726 - 11th Ave. N.E.   Seattle   \n",
       "8  1998-01-27  2026-11-15              7 Houndstooth Rd.    London   \n",
       "\n",
       "          Region PostalCode Country       HomePhone Extension Photo  \\\n",
       "0  North America      98122     USA  (206) 555-9857      5467  None   \n",
       "1  North America      98401     USA  (206) 555-9482      3457  None   \n",
       "2  North America      98033     USA  (206) 555-3412      3355  None   \n",
       "3  North America      98052     USA  (206) 555-8122      5176  None   \n",
       "4  British Isles    SW1 8JR      UK   (71) 555-4848      3453  None   \n",
       "5  British Isles    EC2 7JR      UK   (71) 555-7773       428  None   \n",
       "6  British Isles    RG1 9SP      UK   (71) 555-5598       465  None   \n",
       "7  North America      98105     USA  (206) 555-1189      2344  None   \n",
       "8  British Isles    WG2 7LT      UK   (71) 555-4444       452  None   \n",
       "\n",
       "                                               Notes  ReportsTo  \\\n",
       "0  Education includes a BA in psychology from Col...        2.0   \n",
       "1  Andrew received his BTS commercial in 1974 and...        NaN   \n",
       "2  Janet has a BS degree in chemistry from Boston...        2.0   \n",
       "3  Margaret holds a BA in English literature from...        2.0   \n",
       "4  Steven Buchanan graduated from St. Andrews Uni...        2.0   \n",
       "5  Michael is a graduate of Sussex University (MA...        5.0   \n",
       "6  Robert King served in the Peace Corps and trav...        5.0   \n",
       "7  Laura received a BA in psychology from the Uni...        2.0   \n",
       "8  Anne has a BA degree in English from St. Lawre...        5.0   \n",
       "\n",
       "                                PhotoPath  \n",
       "0    http://accweb/emmployees/davolio.bmp  \n",
       "1     http://accweb/emmployees/fuller.bmp  \n",
       "2  http://accweb/emmployees/leverling.bmp  \n",
       "3    http://accweb/emmployees/peacock.bmp  \n",
       "4   http://accweb/emmployees/buchanan.bmp  \n",
       "5    http://accweb/emmployees/davolio.bmp  \n",
       "6    http://accweb/emmployees/davolio.bmp  \n",
       "7    http://accweb/emmployees/davolio.bmp  \n",
       "8    http://accweb/emmployees/davolio.bmp  "
      ]
     },
     "execution_count": 3,
     "metadata": {},
     "output_type": "execute_result"
    }
   ],
   "source": [
    "# Query the data and transpose into a dataframe\n",
    "employee_df = pd.read_sql_query('SELECT * FROM Employee;', conn)\n",
    "employee_df.head(10)"
   ]
  },
  {
   "cell_type": "markdown",
   "metadata": {},
   "source": [
    "##### Customers"
   ]
  },
  {
   "cell_type": "code",
   "execution_count": 4,
   "metadata": {},
   "outputs": [
    {
     "data": {
      "text/html": [
       "<div>\n",
       "<style scoped>\n",
       "    .dataframe tbody tr th:only-of-type {\n",
       "        vertical-align: middle;\n",
       "    }\n",
       "\n",
       "    .dataframe tbody tr th {\n",
       "        vertical-align: top;\n",
       "    }\n",
       "\n",
       "    .dataframe thead th {\n",
       "        text-align: right;\n",
       "    }\n",
       "</style>\n",
       "<table border=\"1\" class=\"dataframe\">\n",
       "  <thead>\n",
       "    <tr style=\"text-align: right;\">\n",
       "      <th></th>\n",
       "      <th>Id</th>\n",
       "      <th>CompanyName</th>\n",
       "      <th>ContactName</th>\n",
       "      <th>ContactTitle</th>\n",
       "      <th>Address</th>\n",
       "      <th>City</th>\n",
       "      <th>Region</th>\n",
       "      <th>PostalCode</th>\n",
       "      <th>Country</th>\n",
       "      <th>Phone</th>\n",
       "      <th>Fax</th>\n",
       "    </tr>\n",
       "  </thead>\n",
       "  <tbody>\n",
       "    <tr>\n",
       "      <td>0</td>\n",
       "      <td>ALFKI</td>\n",
       "      <td>Alfreds Futterkiste</td>\n",
       "      <td>Maria Anders</td>\n",
       "      <td>Sales Representative</td>\n",
       "      <td>Obere Str. 57</td>\n",
       "      <td>Berlin</td>\n",
       "      <td>Western Europe</td>\n",
       "      <td>12209</td>\n",
       "      <td>Germany</td>\n",
       "      <td>030-0074321</td>\n",
       "      <td>030-0076545</td>\n",
       "    </tr>\n",
       "    <tr>\n",
       "      <td>1</td>\n",
       "      <td>ANATR</td>\n",
       "      <td>Ana Trujillo Emparedados y helados</td>\n",
       "      <td>Ana Trujillo</td>\n",
       "      <td>Owner</td>\n",
       "      <td>Avda. de la Constitución 2222</td>\n",
       "      <td>México D.F.</td>\n",
       "      <td>Central America</td>\n",
       "      <td>05021</td>\n",
       "      <td>Mexico</td>\n",
       "      <td>(5) 555-4729</td>\n",
       "      <td>(5) 555-3745</td>\n",
       "    </tr>\n",
       "    <tr>\n",
       "      <td>2</td>\n",
       "      <td>ANTON</td>\n",
       "      <td>Antonio Moreno Taquería</td>\n",
       "      <td>Antonio Moreno</td>\n",
       "      <td>Owner</td>\n",
       "      <td>Mataderos  2312</td>\n",
       "      <td>México D.F.</td>\n",
       "      <td>Central America</td>\n",
       "      <td>05023</td>\n",
       "      <td>Mexico</td>\n",
       "      <td>(5) 555-3932</td>\n",
       "      <td>None</td>\n",
       "    </tr>\n",
       "    <tr>\n",
       "      <td>3</td>\n",
       "      <td>AROUT</td>\n",
       "      <td>Around the Horn</td>\n",
       "      <td>Thomas Hardy</td>\n",
       "      <td>Sales Representative</td>\n",
       "      <td>120 Hanover Sq.</td>\n",
       "      <td>London</td>\n",
       "      <td>British Isles</td>\n",
       "      <td>WA1 1DP</td>\n",
       "      <td>UK</td>\n",
       "      <td>(171) 555-7788</td>\n",
       "      <td>(171) 555-6750</td>\n",
       "    </tr>\n",
       "    <tr>\n",
       "      <td>4</td>\n",
       "      <td>BERGS</td>\n",
       "      <td>Berglunds snabbköp</td>\n",
       "      <td>Christina Berglund</td>\n",
       "      <td>Order Administrator</td>\n",
       "      <td>Berguvsvägen  8</td>\n",
       "      <td>Luleå</td>\n",
       "      <td>Northern Europe</td>\n",
       "      <td>S-958 22</td>\n",
       "      <td>Sweden</td>\n",
       "      <td>0921-12 34 65</td>\n",
       "      <td>0921-12 34 67</td>\n",
       "    </tr>\n",
       "    <tr>\n",
       "      <td>5</td>\n",
       "      <td>BLAUS</td>\n",
       "      <td>Blauer See Delikatessen</td>\n",
       "      <td>Hanna Moos</td>\n",
       "      <td>Sales Representative</td>\n",
       "      <td>Forsterstr. 57</td>\n",
       "      <td>Mannheim</td>\n",
       "      <td>Western Europe</td>\n",
       "      <td>68306</td>\n",
       "      <td>Germany</td>\n",
       "      <td>0621-08460</td>\n",
       "      <td>0621-08924</td>\n",
       "    </tr>\n",
       "    <tr>\n",
       "      <td>6</td>\n",
       "      <td>BLONP</td>\n",
       "      <td>Blondesddsl père et fils</td>\n",
       "      <td>Frédérique Citeaux</td>\n",
       "      <td>Marketing Manager</td>\n",
       "      <td>24, place Kléber</td>\n",
       "      <td>Strasbourg</td>\n",
       "      <td>Western Europe</td>\n",
       "      <td>67000</td>\n",
       "      <td>France</td>\n",
       "      <td>88.60.15.31</td>\n",
       "      <td>88.60.15.32</td>\n",
       "    </tr>\n",
       "    <tr>\n",
       "      <td>7</td>\n",
       "      <td>BOLID</td>\n",
       "      <td>Bólido Comidas preparadas</td>\n",
       "      <td>Martín Sommer</td>\n",
       "      <td>Owner</td>\n",
       "      <td>C/ Araquil, 67</td>\n",
       "      <td>Madrid</td>\n",
       "      <td>Southern Europe</td>\n",
       "      <td>28023</td>\n",
       "      <td>Spain</td>\n",
       "      <td>(91) 555 22 82</td>\n",
       "      <td>(91) 555 91 99</td>\n",
       "    </tr>\n",
       "    <tr>\n",
       "      <td>8</td>\n",
       "      <td>BONAP</td>\n",
       "      <td>Bon app</td>\n",
       "      <td>Laurence Lebihan</td>\n",
       "      <td>Owner</td>\n",
       "      <td>12, rue des Bouchers</td>\n",
       "      <td>Marseille</td>\n",
       "      <td>Western Europe</td>\n",
       "      <td>13008</td>\n",
       "      <td>France</td>\n",
       "      <td>91.24.45.40</td>\n",
       "      <td>91.24.45.41</td>\n",
       "    </tr>\n",
       "    <tr>\n",
       "      <td>9</td>\n",
       "      <td>BOTTM</td>\n",
       "      <td>Bottom-Dollar Markets</td>\n",
       "      <td>Elizabeth Lincoln</td>\n",
       "      <td>Accounting Manager</td>\n",
       "      <td>23 Tsawassen Blvd.</td>\n",
       "      <td>Tsawassen</td>\n",
       "      <td>North America</td>\n",
       "      <td>T2F 8M4</td>\n",
       "      <td>Canada</td>\n",
       "      <td>(604) 555-4729</td>\n",
       "      <td>(604) 555-3745</td>\n",
       "    </tr>\n",
       "  </tbody>\n",
       "</table>\n",
       "</div>"
      ],
      "text/plain": [
       "      Id                         CompanyName         ContactName  \\\n",
       "0  ALFKI                 Alfreds Futterkiste        Maria Anders   \n",
       "1  ANATR  Ana Trujillo Emparedados y helados        Ana Trujillo   \n",
       "2  ANTON             Antonio Moreno Taquería      Antonio Moreno   \n",
       "3  AROUT                     Around the Horn        Thomas Hardy   \n",
       "4  BERGS                  Berglunds snabbköp  Christina Berglund   \n",
       "5  BLAUS             Blauer See Delikatessen          Hanna Moos   \n",
       "6  BLONP            Blondesddsl père et fils  Frédérique Citeaux   \n",
       "7  BOLID           Bólido Comidas preparadas       Martín Sommer   \n",
       "8  BONAP                             Bon app    Laurence Lebihan   \n",
       "9  BOTTM               Bottom-Dollar Markets   Elizabeth Lincoln   \n",
       "\n",
       "           ContactTitle                        Address         City  \\\n",
       "0  Sales Representative                  Obere Str. 57       Berlin   \n",
       "1                 Owner  Avda. de la Constitución 2222  México D.F.   \n",
       "2                 Owner                Mataderos  2312  México D.F.   \n",
       "3  Sales Representative                120 Hanover Sq.       London   \n",
       "4   Order Administrator                Berguvsvägen  8        Luleå   \n",
       "5  Sales Representative                 Forsterstr. 57     Mannheim   \n",
       "6     Marketing Manager               24, place Kléber   Strasbourg   \n",
       "7                 Owner                 C/ Araquil, 67       Madrid   \n",
       "8                 Owner           12, rue des Bouchers    Marseille   \n",
       "9    Accounting Manager             23 Tsawassen Blvd.    Tsawassen   \n",
       "\n",
       "            Region PostalCode  Country           Phone             Fax  \n",
       "0   Western Europe      12209  Germany     030-0074321     030-0076545  \n",
       "1  Central America      05021   Mexico    (5) 555-4729    (5) 555-3745  \n",
       "2  Central America      05023   Mexico    (5) 555-3932            None  \n",
       "3    British Isles    WA1 1DP       UK  (171) 555-7788  (171) 555-6750  \n",
       "4  Northern Europe   S-958 22   Sweden   0921-12 34 65   0921-12 34 67  \n",
       "5   Western Europe      68306  Germany      0621-08460      0621-08924  \n",
       "6   Western Europe      67000   France     88.60.15.31     88.60.15.32  \n",
       "7  Southern Europe      28023    Spain  (91) 555 22 82  (91) 555 91 99  \n",
       "8   Western Europe      13008   France     91.24.45.40     91.24.45.41  \n",
       "9    North America    T2F 8M4   Canada  (604) 555-4729  (604) 555-3745  "
      ]
     },
     "execution_count": 4,
     "metadata": {},
     "output_type": "execute_result"
    }
   ],
   "source": [
    "# Query the data and transpose into a dataframe\n",
    "customer_df = pd.read_sql_query('SELECT * FROM Customer;', conn)\n",
    "customer_df.head(10)"
   ]
  },
  {
   "cell_type": "markdown",
   "metadata": {},
   "source": [
    "##### Shippers"
   ]
  },
  {
   "cell_type": "code",
   "execution_count": 5,
   "metadata": {},
   "outputs": [
    {
     "data": {
      "text/html": [
       "<div>\n",
       "<style scoped>\n",
       "    .dataframe tbody tr th:only-of-type {\n",
       "        vertical-align: middle;\n",
       "    }\n",
       "\n",
       "    .dataframe tbody tr th {\n",
       "        vertical-align: top;\n",
       "    }\n",
       "\n",
       "    .dataframe thead th {\n",
       "        text-align: right;\n",
       "    }\n",
       "</style>\n",
       "<table border=\"1\" class=\"dataframe\">\n",
       "  <thead>\n",
       "    <tr style=\"text-align: right;\">\n",
       "      <th></th>\n",
       "      <th>Id</th>\n",
       "      <th>CompanyName</th>\n",
       "      <th>Phone</th>\n",
       "    </tr>\n",
       "  </thead>\n",
       "  <tbody>\n",
       "    <tr>\n",
       "      <td>0</td>\n",
       "      <td>1</td>\n",
       "      <td>Speedy Express</td>\n",
       "      <td>(503) 555-9831</td>\n",
       "    </tr>\n",
       "    <tr>\n",
       "      <td>1</td>\n",
       "      <td>2</td>\n",
       "      <td>United Package</td>\n",
       "      <td>(503) 555-3199</td>\n",
       "    </tr>\n",
       "    <tr>\n",
       "      <td>2</td>\n",
       "      <td>3</td>\n",
       "      <td>Federal Shipping</td>\n",
       "      <td>(503) 555-9931</td>\n",
       "    </tr>\n",
       "  </tbody>\n",
       "</table>\n",
       "</div>"
      ],
      "text/plain": [
       "   Id       CompanyName           Phone\n",
       "0   1    Speedy Express  (503) 555-9831\n",
       "1   2    United Package  (503) 555-3199\n",
       "2   3  Federal Shipping  (503) 555-9931"
      ]
     },
     "execution_count": 5,
     "metadata": {},
     "output_type": "execute_result"
    }
   ],
   "source": [
    "# Query the data and transpose into a dataframe\n",
    "shipper_df = pd.read_sql_query('SELECT * FROM Shipper;', conn)\n",
    "shipper_df.head(20)"
   ]
  },
  {
   "cell_type": "markdown",
   "metadata": {},
   "source": [
    "##### Suppliers"
   ]
  },
  {
   "cell_type": "code",
   "execution_count": 6,
   "metadata": {},
   "outputs": [
    {
     "data": {
      "text/html": [
       "<div>\n",
       "<style scoped>\n",
       "    .dataframe tbody tr th:only-of-type {\n",
       "        vertical-align: middle;\n",
       "    }\n",
       "\n",
       "    .dataframe tbody tr th {\n",
       "        vertical-align: top;\n",
       "    }\n",
       "\n",
       "    .dataframe thead th {\n",
       "        text-align: right;\n",
       "    }\n",
       "</style>\n",
       "<table border=\"1\" class=\"dataframe\">\n",
       "  <thead>\n",
       "    <tr style=\"text-align: right;\">\n",
       "      <th></th>\n",
       "      <th>Id</th>\n",
       "      <th>CompanyName</th>\n",
       "      <th>ContactName</th>\n",
       "      <th>ContactTitle</th>\n",
       "      <th>Address</th>\n",
       "      <th>City</th>\n",
       "      <th>Region</th>\n",
       "      <th>PostalCode</th>\n",
       "      <th>Country</th>\n",
       "      <th>Phone</th>\n",
       "      <th>Fax</th>\n",
       "      <th>HomePage</th>\n",
       "    </tr>\n",
       "  </thead>\n",
       "  <tbody>\n",
       "    <tr>\n",
       "      <td>0</td>\n",
       "      <td>1</td>\n",
       "      <td>Exotic Liquids</td>\n",
       "      <td>Charlotte Cooper</td>\n",
       "      <td>Purchasing Manager</td>\n",
       "      <td>49 Gilbert St.</td>\n",
       "      <td>London</td>\n",
       "      <td>British Isles</td>\n",
       "      <td>EC1 4SD</td>\n",
       "      <td>UK</td>\n",
       "      <td>(171) 555-2222</td>\n",
       "      <td>None</td>\n",
       "      <td>None</td>\n",
       "    </tr>\n",
       "    <tr>\n",
       "      <td>1</td>\n",
       "      <td>2</td>\n",
       "      <td>New Orleans Cajun Delights</td>\n",
       "      <td>Shelley Burke</td>\n",
       "      <td>Order Administrator</td>\n",
       "      <td>P.O. Box 78934</td>\n",
       "      <td>New Orleans</td>\n",
       "      <td>North America</td>\n",
       "      <td>70117</td>\n",
       "      <td>USA</td>\n",
       "      <td>(100) 555-4822</td>\n",
       "      <td>None</td>\n",
       "      <td>#CAJUN.HTM#</td>\n",
       "    </tr>\n",
       "    <tr>\n",
       "      <td>2</td>\n",
       "      <td>3</td>\n",
       "      <td>Grandma Kelly's Homestead</td>\n",
       "      <td>Regina Murphy</td>\n",
       "      <td>Sales Representative</td>\n",
       "      <td>707 Oxford Rd.</td>\n",
       "      <td>Ann Arbor</td>\n",
       "      <td>North America</td>\n",
       "      <td>48104</td>\n",
       "      <td>USA</td>\n",
       "      <td>(313) 555-5735</td>\n",
       "      <td>(313) 555-3349</td>\n",
       "      <td>None</td>\n",
       "    </tr>\n",
       "    <tr>\n",
       "      <td>3</td>\n",
       "      <td>4</td>\n",
       "      <td>Tokyo Traders</td>\n",
       "      <td>Yoshi Nagase</td>\n",
       "      <td>Marketing Manager</td>\n",
       "      <td>9-8 Sekimai Musashino-shi</td>\n",
       "      <td>Tokyo</td>\n",
       "      <td>Eastern Asia</td>\n",
       "      <td>100</td>\n",
       "      <td>Japan</td>\n",
       "      <td>(03) 3555-5011</td>\n",
       "      <td>None</td>\n",
       "      <td>None</td>\n",
       "    </tr>\n",
       "    <tr>\n",
       "      <td>4</td>\n",
       "      <td>5</td>\n",
       "      <td>Cooperativa de Quesos 'Las Cabras'</td>\n",
       "      <td>Antonio del Valle Saavedra</td>\n",
       "      <td>Export Administrator</td>\n",
       "      <td>Calle del Rosal 4</td>\n",
       "      <td>Oviedo</td>\n",
       "      <td>Southern Europe</td>\n",
       "      <td>33007</td>\n",
       "      <td>Spain</td>\n",
       "      <td>(98) 598 76 54</td>\n",
       "      <td>None</td>\n",
       "      <td>None</td>\n",
       "    </tr>\n",
       "    <tr>\n",
       "      <td>5</td>\n",
       "      <td>6</td>\n",
       "      <td>Mayumi's</td>\n",
       "      <td>Mayumi Ohno</td>\n",
       "      <td>Marketing Representative</td>\n",
       "      <td>92 Setsuko Chuo-ku</td>\n",
       "      <td>Osaka</td>\n",
       "      <td>Eastern Asia</td>\n",
       "      <td>545</td>\n",
       "      <td>Japan</td>\n",
       "      <td>(06) 431-7877</td>\n",
       "      <td>None</td>\n",
       "      <td>Mayumi's (on the World Wide Web)#http://www.mi...</td>\n",
       "    </tr>\n",
       "    <tr>\n",
       "      <td>6</td>\n",
       "      <td>7</td>\n",
       "      <td>Pavlova, Ltd.</td>\n",
       "      <td>Ian Devling</td>\n",
       "      <td>Marketing Manager</td>\n",
       "      <td>74 Rose St. Moonie Ponds</td>\n",
       "      <td>Melbourne</td>\n",
       "      <td>Victoria</td>\n",
       "      <td>3058</td>\n",
       "      <td>Australia</td>\n",
       "      <td>(03) 444-2343</td>\n",
       "      <td>(03) 444-6588</td>\n",
       "      <td>None</td>\n",
       "    </tr>\n",
       "    <tr>\n",
       "      <td>7</td>\n",
       "      <td>8</td>\n",
       "      <td>Specialty Biscuits, Ltd.</td>\n",
       "      <td>Peter Wilson</td>\n",
       "      <td>Sales Representative</td>\n",
       "      <td>29 King's Way</td>\n",
       "      <td>Manchester</td>\n",
       "      <td>British Isles</td>\n",
       "      <td>M14 GSD</td>\n",
       "      <td>UK</td>\n",
       "      <td>(161) 555-4448</td>\n",
       "      <td>None</td>\n",
       "      <td>None</td>\n",
       "    </tr>\n",
       "    <tr>\n",
       "      <td>8</td>\n",
       "      <td>9</td>\n",
       "      <td>PB Knäckebröd AB</td>\n",
       "      <td>Lars Peterson</td>\n",
       "      <td>Sales Agent</td>\n",
       "      <td>Kaloadagatan 13</td>\n",
       "      <td>Göteborg</td>\n",
       "      <td>Northern Europe</td>\n",
       "      <td>S-345 67</td>\n",
       "      <td>Sweden</td>\n",
       "      <td>031-987 65 43</td>\n",
       "      <td>031-987 65 91</td>\n",
       "      <td>None</td>\n",
       "    </tr>\n",
       "    <tr>\n",
       "      <td>9</td>\n",
       "      <td>10</td>\n",
       "      <td>Refrescos Americanas LTDA</td>\n",
       "      <td>Carlos Diaz</td>\n",
       "      <td>Marketing Manager</td>\n",
       "      <td>Av. das Americanas 12.890</td>\n",
       "      <td>Sao Paulo</td>\n",
       "      <td>South America</td>\n",
       "      <td>5442</td>\n",
       "      <td>Brazil</td>\n",
       "      <td>(11) 555 4640</td>\n",
       "      <td>None</td>\n",
       "      <td>None</td>\n",
       "    </tr>\n",
       "  </tbody>\n",
       "</table>\n",
       "</div>"
      ],
      "text/plain": [
       "   Id                         CompanyName                 ContactName  \\\n",
       "0   1                      Exotic Liquids            Charlotte Cooper   \n",
       "1   2          New Orleans Cajun Delights               Shelley Burke   \n",
       "2   3           Grandma Kelly's Homestead               Regina Murphy   \n",
       "3   4                       Tokyo Traders                Yoshi Nagase   \n",
       "4   5  Cooperativa de Quesos 'Las Cabras'  Antonio del Valle Saavedra   \n",
       "5   6                            Mayumi's                 Mayumi Ohno   \n",
       "6   7                       Pavlova, Ltd.                 Ian Devling   \n",
       "7   8            Specialty Biscuits, Ltd.                Peter Wilson   \n",
       "8   9                    PB Knäckebröd AB               Lars Peterson   \n",
       "9  10           Refrescos Americanas LTDA                 Carlos Diaz   \n",
       "\n",
       "               ContactTitle                    Address         City  \\\n",
       "0        Purchasing Manager             49 Gilbert St.       London   \n",
       "1       Order Administrator             P.O. Box 78934  New Orleans   \n",
       "2      Sales Representative             707 Oxford Rd.    Ann Arbor   \n",
       "3         Marketing Manager  9-8 Sekimai Musashino-shi        Tokyo   \n",
       "4      Export Administrator          Calle del Rosal 4       Oviedo   \n",
       "5  Marketing Representative         92 Setsuko Chuo-ku        Osaka   \n",
       "6         Marketing Manager   74 Rose St. Moonie Ponds    Melbourne   \n",
       "7      Sales Representative              29 King's Way   Manchester   \n",
       "8               Sales Agent            Kaloadagatan 13     Göteborg   \n",
       "9         Marketing Manager  Av. das Americanas 12.890    Sao Paulo   \n",
       "\n",
       "            Region PostalCode    Country           Phone             Fax  \\\n",
       "0    British Isles    EC1 4SD         UK  (171) 555-2222            None   \n",
       "1    North America      70117        USA  (100) 555-4822            None   \n",
       "2    North America      48104        USA  (313) 555-5735  (313) 555-3349   \n",
       "3     Eastern Asia        100      Japan  (03) 3555-5011            None   \n",
       "4  Southern Europe      33007      Spain  (98) 598 76 54            None   \n",
       "5     Eastern Asia        545      Japan   (06) 431-7877            None   \n",
       "6         Victoria       3058  Australia   (03) 444-2343   (03) 444-6588   \n",
       "7    British Isles    M14 GSD         UK  (161) 555-4448            None   \n",
       "8  Northern Europe   S-345 67     Sweden   031-987 65 43   031-987 65 91   \n",
       "9    South America       5442     Brazil   (11) 555 4640            None   \n",
       "\n",
       "                                            HomePage  \n",
       "0                                               None  \n",
       "1                                        #CAJUN.HTM#  \n",
       "2                                               None  \n",
       "3                                               None  \n",
       "4                                               None  \n",
       "5  Mayumi's (on the World Wide Web)#http://www.mi...  \n",
       "6                                               None  \n",
       "7                                               None  \n",
       "8                                               None  \n",
       "9                                               None  "
      ]
     },
     "execution_count": 6,
     "metadata": {},
     "output_type": "execute_result"
    }
   ],
   "source": [
    "# Query the data and transpose into a dataframe\n",
    "suppliers_df = pd.read_sql_query('SELECT * FROM Supplier;', conn)\n",
    "suppliers_df.head(10)"
   ]
  },
  {
   "cell_type": "markdown",
   "metadata": {},
   "source": [
    "##### Orders"
   ]
  },
  {
   "cell_type": "code",
   "execution_count": 7,
   "metadata": {},
   "outputs": [
    {
     "data": {
      "text/html": [
       "<div>\n",
       "<style scoped>\n",
       "    .dataframe tbody tr th:only-of-type {\n",
       "        vertical-align: middle;\n",
       "    }\n",
       "\n",
       "    .dataframe tbody tr th {\n",
       "        vertical-align: top;\n",
       "    }\n",
       "\n",
       "    .dataframe thead th {\n",
       "        text-align: right;\n",
       "    }\n",
       "</style>\n",
       "<table border=\"1\" class=\"dataframe\">\n",
       "  <thead>\n",
       "    <tr style=\"text-align: right;\">\n",
       "      <th></th>\n",
       "      <th>Id</th>\n",
       "      <th>CustomerId</th>\n",
       "      <th>EmployeeId</th>\n",
       "      <th>OrderDate</th>\n",
       "      <th>RequiredDate</th>\n",
       "      <th>ShippedDate</th>\n",
       "      <th>ShipVia</th>\n",
       "      <th>Freight</th>\n",
       "      <th>ShipName</th>\n",
       "      <th>ShipAddress</th>\n",
       "      <th>ShipCity</th>\n",
       "      <th>ShipRegion</th>\n",
       "      <th>ShipPostalCode</th>\n",
       "      <th>ShipCountry</th>\n",
       "    </tr>\n",
       "  </thead>\n",
       "  <tbody>\n",
       "    <tr>\n",
       "      <td>0</td>\n",
       "      <td>10248</td>\n",
       "      <td>VINET</td>\n",
       "      <td>5</td>\n",
       "      <td>2012-07-04</td>\n",
       "      <td>2012-08-01</td>\n",
       "      <td>2012-07-16</td>\n",
       "      <td>3</td>\n",
       "      <td>32.38</td>\n",
       "      <td>Vins et alcools Chevalier</td>\n",
       "      <td>59 rue de l'Abbaye</td>\n",
       "      <td>Reims</td>\n",
       "      <td>Western Europe</td>\n",
       "      <td>51100</td>\n",
       "      <td>France</td>\n",
       "    </tr>\n",
       "    <tr>\n",
       "      <td>1</td>\n",
       "      <td>10249</td>\n",
       "      <td>TOMSP</td>\n",
       "      <td>6</td>\n",
       "      <td>2012-07-05</td>\n",
       "      <td>2012-08-16</td>\n",
       "      <td>2012-07-10</td>\n",
       "      <td>1</td>\n",
       "      <td>11.61</td>\n",
       "      <td>Toms Spezialitäten</td>\n",
       "      <td>Luisenstr. 48</td>\n",
       "      <td>Münster</td>\n",
       "      <td>Western Europe</td>\n",
       "      <td>44087</td>\n",
       "      <td>Germany</td>\n",
       "    </tr>\n",
       "    <tr>\n",
       "      <td>2</td>\n",
       "      <td>10250</td>\n",
       "      <td>HANAR</td>\n",
       "      <td>4</td>\n",
       "      <td>2012-07-08</td>\n",
       "      <td>2012-08-05</td>\n",
       "      <td>2012-07-12</td>\n",
       "      <td>2</td>\n",
       "      <td>65.83</td>\n",
       "      <td>Hanari Carnes</td>\n",
       "      <td>Rua do Paço, 67</td>\n",
       "      <td>Rio de Janeiro</td>\n",
       "      <td>South America</td>\n",
       "      <td>05454-876</td>\n",
       "      <td>Brazil</td>\n",
       "    </tr>\n",
       "    <tr>\n",
       "      <td>3</td>\n",
       "      <td>10251</td>\n",
       "      <td>VICTE</td>\n",
       "      <td>3</td>\n",
       "      <td>2012-07-08</td>\n",
       "      <td>2012-08-05</td>\n",
       "      <td>2012-07-15</td>\n",
       "      <td>1</td>\n",
       "      <td>41.34</td>\n",
       "      <td>Victuailles en stock</td>\n",
       "      <td>2, rue du Commerce</td>\n",
       "      <td>Lyon</td>\n",
       "      <td>Western Europe</td>\n",
       "      <td>69004</td>\n",
       "      <td>France</td>\n",
       "    </tr>\n",
       "    <tr>\n",
       "      <td>4</td>\n",
       "      <td>10252</td>\n",
       "      <td>SUPRD</td>\n",
       "      <td>4</td>\n",
       "      <td>2012-07-09</td>\n",
       "      <td>2012-08-06</td>\n",
       "      <td>2012-07-11</td>\n",
       "      <td>2</td>\n",
       "      <td>51.30</td>\n",
       "      <td>Suprêmes délices</td>\n",
       "      <td>Boulevard Tirou, 255</td>\n",
       "      <td>Charleroi</td>\n",
       "      <td>Western Europe</td>\n",
       "      <td>B-6000</td>\n",
       "      <td>Belgium</td>\n",
       "    </tr>\n",
       "    <tr>\n",
       "      <td>5</td>\n",
       "      <td>10253</td>\n",
       "      <td>HANAR</td>\n",
       "      <td>3</td>\n",
       "      <td>2012-07-10</td>\n",
       "      <td>2012-07-24</td>\n",
       "      <td>2012-07-16</td>\n",
       "      <td>2</td>\n",
       "      <td>58.17</td>\n",
       "      <td>Hanari Carnes</td>\n",
       "      <td>Rua do Paço, 67</td>\n",
       "      <td>Rio de Janeiro</td>\n",
       "      <td>South America</td>\n",
       "      <td>05454-876</td>\n",
       "      <td>Brazil</td>\n",
       "    </tr>\n",
       "    <tr>\n",
       "      <td>6</td>\n",
       "      <td>10254</td>\n",
       "      <td>CHOPS</td>\n",
       "      <td>5</td>\n",
       "      <td>2012-07-11</td>\n",
       "      <td>2012-08-08</td>\n",
       "      <td>2012-07-23</td>\n",
       "      <td>2</td>\n",
       "      <td>22.98</td>\n",
       "      <td>Chop-suey Chinese</td>\n",
       "      <td>Hauptstr. 31</td>\n",
       "      <td>Bern</td>\n",
       "      <td>Western Europe</td>\n",
       "      <td>3012</td>\n",
       "      <td>Switzerland</td>\n",
       "    </tr>\n",
       "    <tr>\n",
       "      <td>7</td>\n",
       "      <td>10255</td>\n",
       "      <td>RICSU</td>\n",
       "      <td>9</td>\n",
       "      <td>2012-07-12</td>\n",
       "      <td>2012-08-09</td>\n",
       "      <td>2012-07-15</td>\n",
       "      <td>3</td>\n",
       "      <td>148.33</td>\n",
       "      <td>Richter Supermarkt</td>\n",
       "      <td>Starenweg 5</td>\n",
       "      <td>Genève</td>\n",
       "      <td>Western Europe</td>\n",
       "      <td>1204</td>\n",
       "      <td>Switzerland</td>\n",
       "    </tr>\n",
       "    <tr>\n",
       "      <td>8</td>\n",
       "      <td>10256</td>\n",
       "      <td>WELLI</td>\n",
       "      <td>3</td>\n",
       "      <td>2012-07-15</td>\n",
       "      <td>2012-08-12</td>\n",
       "      <td>2012-07-17</td>\n",
       "      <td>2</td>\n",
       "      <td>13.97</td>\n",
       "      <td>Wellington Importadora</td>\n",
       "      <td>Rua do Mercado, 12</td>\n",
       "      <td>Resende</td>\n",
       "      <td>South America</td>\n",
       "      <td>08737-363</td>\n",
       "      <td>Brazil</td>\n",
       "    </tr>\n",
       "    <tr>\n",
       "      <td>9</td>\n",
       "      <td>10257</td>\n",
       "      <td>HILAA</td>\n",
       "      <td>4</td>\n",
       "      <td>2012-07-16</td>\n",
       "      <td>2012-08-13</td>\n",
       "      <td>2012-07-22</td>\n",
       "      <td>3</td>\n",
       "      <td>81.91</td>\n",
       "      <td>HILARION-Abastos</td>\n",
       "      <td>Carrera 22 con Ave. Carlos Soublette #8-35</td>\n",
       "      <td>San Cristóbal</td>\n",
       "      <td>South America</td>\n",
       "      <td>5022</td>\n",
       "      <td>Venezuela</td>\n",
       "    </tr>\n",
       "  </tbody>\n",
       "</table>\n",
       "</div>"
      ],
      "text/plain": [
       "      Id CustomerId  EmployeeId   OrderDate RequiredDate ShippedDate  ShipVia  \\\n",
       "0  10248      VINET           5  2012-07-04   2012-08-01  2012-07-16        3   \n",
       "1  10249      TOMSP           6  2012-07-05   2012-08-16  2012-07-10        1   \n",
       "2  10250      HANAR           4  2012-07-08   2012-08-05  2012-07-12        2   \n",
       "3  10251      VICTE           3  2012-07-08   2012-08-05  2012-07-15        1   \n",
       "4  10252      SUPRD           4  2012-07-09   2012-08-06  2012-07-11        2   \n",
       "5  10253      HANAR           3  2012-07-10   2012-07-24  2012-07-16        2   \n",
       "6  10254      CHOPS           5  2012-07-11   2012-08-08  2012-07-23        2   \n",
       "7  10255      RICSU           9  2012-07-12   2012-08-09  2012-07-15        3   \n",
       "8  10256      WELLI           3  2012-07-15   2012-08-12  2012-07-17        2   \n",
       "9  10257      HILAA           4  2012-07-16   2012-08-13  2012-07-22        3   \n",
       "\n",
       "   Freight                   ShipName  \\\n",
       "0    32.38  Vins et alcools Chevalier   \n",
       "1    11.61         Toms Spezialitäten   \n",
       "2    65.83              Hanari Carnes   \n",
       "3    41.34       Victuailles en stock   \n",
       "4    51.30           Suprêmes délices   \n",
       "5    58.17              Hanari Carnes   \n",
       "6    22.98          Chop-suey Chinese   \n",
       "7   148.33         Richter Supermarkt   \n",
       "8    13.97     Wellington Importadora   \n",
       "9    81.91           HILARION-Abastos   \n",
       "\n",
       "                                  ShipAddress        ShipCity      ShipRegion  \\\n",
       "0                          59 rue de l'Abbaye           Reims  Western Europe   \n",
       "1                               Luisenstr. 48         Münster  Western Europe   \n",
       "2                             Rua do Paço, 67  Rio de Janeiro   South America   \n",
       "3                          2, rue du Commerce            Lyon  Western Europe   \n",
       "4                        Boulevard Tirou, 255       Charleroi  Western Europe   \n",
       "5                             Rua do Paço, 67  Rio de Janeiro   South America   \n",
       "6                                Hauptstr. 31            Bern  Western Europe   \n",
       "7                                 Starenweg 5          Genève  Western Europe   \n",
       "8                          Rua do Mercado, 12         Resende   South America   \n",
       "9  Carrera 22 con Ave. Carlos Soublette #8-35   San Cristóbal   South America   \n",
       "\n",
       "  ShipPostalCode  ShipCountry  \n",
       "0          51100       France  \n",
       "1          44087      Germany  \n",
       "2      05454-876       Brazil  \n",
       "3          69004       France  \n",
       "4         B-6000      Belgium  \n",
       "5      05454-876       Brazil  \n",
       "6           3012  Switzerland  \n",
       "7           1204  Switzerland  \n",
       "8      08737-363       Brazil  \n",
       "9           5022    Venezuela  "
      ]
     },
     "execution_count": 7,
     "metadata": {},
     "output_type": "execute_result"
    }
   ],
   "source": [
    "# Query the data and transpose into dataframe\n",
    "order_df = pd.read_sql_query('SELECT * FROM [Order];', conn)\n",
    "order_df.head(10)"
   ]
  },
  {
   "cell_type": "markdown",
   "metadata": {},
   "source": [
    "##### Products, Order Details and Discounts"
   ]
  },
  {
   "cell_type": "code",
   "execution_count": 8,
   "metadata": {},
   "outputs": [
    {
     "data": {
      "text/html": [
       "<div>\n",
       "<style scoped>\n",
       "    .dataframe tbody tr th:only-of-type {\n",
       "        vertical-align: middle;\n",
       "    }\n",
       "\n",
       "    .dataframe tbody tr th {\n",
       "        vertical-align: top;\n",
       "    }\n",
       "\n",
       "    .dataframe thead th {\n",
       "        text-align: right;\n",
       "    }\n",
       "</style>\n",
       "<table border=\"1\" class=\"dataframe\">\n",
       "  <thead>\n",
       "    <tr style=\"text-align: right;\">\n",
       "      <th></th>\n",
       "      <th>Id</th>\n",
       "      <th>ProductName</th>\n",
       "      <th>SupplierId</th>\n",
       "      <th>CategoryId</th>\n",
       "      <th>QuantityPerUnit</th>\n",
       "      <th>UnitPrice</th>\n",
       "      <th>UnitsInStock</th>\n",
       "      <th>UnitsOnOrder</th>\n",
       "      <th>ReorderLevel</th>\n",
       "      <th>Discontinued</th>\n",
       "    </tr>\n",
       "  </thead>\n",
       "  <tbody>\n",
       "    <tr>\n",
       "      <td>0</td>\n",
       "      <td>1</td>\n",
       "      <td>Chai</td>\n",
       "      <td>1</td>\n",
       "      <td>1</td>\n",
       "      <td>10 boxes x 20 bags</td>\n",
       "      <td>18.00</td>\n",
       "      <td>39</td>\n",
       "      <td>0</td>\n",
       "      <td>10</td>\n",
       "      <td>0</td>\n",
       "    </tr>\n",
       "    <tr>\n",
       "      <td>1</td>\n",
       "      <td>2</td>\n",
       "      <td>Chang</td>\n",
       "      <td>1</td>\n",
       "      <td>1</td>\n",
       "      <td>24 - 12 oz bottles</td>\n",
       "      <td>19.00</td>\n",
       "      <td>17</td>\n",
       "      <td>40</td>\n",
       "      <td>25</td>\n",
       "      <td>0</td>\n",
       "    </tr>\n",
       "    <tr>\n",
       "      <td>2</td>\n",
       "      <td>3</td>\n",
       "      <td>Aniseed Syrup</td>\n",
       "      <td>1</td>\n",
       "      <td>2</td>\n",
       "      <td>12 - 550 ml bottles</td>\n",
       "      <td>10.00</td>\n",
       "      <td>13</td>\n",
       "      <td>70</td>\n",
       "      <td>25</td>\n",
       "      <td>0</td>\n",
       "    </tr>\n",
       "    <tr>\n",
       "      <td>3</td>\n",
       "      <td>4</td>\n",
       "      <td>Chef Anton's Cajun Seasoning</td>\n",
       "      <td>2</td>\n",
       "      <td>2</td>\n",
       "      <td>48 - 6 oz jars</td>\n",
       "      <td>22.00</td>\n",
       "      <td>53</td>\n",
       "      <td>0</td>\n",
       "      <td>0</td>\n",
       "      <td>0</td>\n",
       "    </tr>\n",
       "    <tr>\n",
       "      <td>4</td>\n",
       "      <td>5</td>\n",
       "      <td>Chef Anton's Gumbo Mix</td>\n",
       "      <td>2</td>\n",
       "      <td>2</td>\n",
       "      <td>36 boxes</td>\n",
       "      <td>21.35</td>\n",
       "      <td>0</td>\n",
       "      <td>0</td>\n",
       "      <td>0</td>\n",
       "      <td>1</td>\n",
       "    </tr>\n",
       "    <tr>\n",
       "      <td>5</td>\n",
       "      <td>6</td>\n",
       "      <td>Grandma's Boysenberry Spread</td>\n",
       "      <td>3</td>\n",
       "      <td>2</td>\n",
       "      <td>12 - 8 oz jars</td>\n",
       "      <td>25.00</td>\n",
       "      <td>120</td>\n",
       "      <td>0</td>\n",
       "      <td>25</td>\n",
       "      <td>0</td>\n",
       "    </tr>\n",
       "    <tr>\n",
       "      <td>6</td>\n",
       "      <td>7</td>\n",
       "      <td>Uncle Bob's Organic Dried Pears</td>\n",
       "      <td>3</td>\n",
       "      <td>7</td>\n",
       "      <td>12 - 1 lb pkgs.</td>\n",
       "      <td>30.00</td>\n",
       "      <td>15</td>\n",
       "      <td>0</td>\n",
       "      <td>10</td>\n",
       "      <td>0</td>\n",
       "    </tr>\n",
       "    <tr>\n",
       "      <td>7</td>\n",
       "      <td>8</td>\n",
       "      <td>Northwoods Cranberry Sauce</td>\n",
       "      <td>3</td>\n",
       "      <td>2</td>\n",
       "      <td>12 - 12 oz jars</td>\n",
       "      <td>40.00</td>\n",
       "      <td>6</td>\n",
       "      <td>0</td>\n",
       "      <td>0</td>\n",
       "      <td>0</td>\n",
       "    </tr>\n",
       "    <tr>\n",
       "      <td>8</td>\n",
       "      <td>9</td>\n",
       "      <td>Mishi Kobe Niku</td>\n",
       "      <td>4</td>\n",
       "      <td>6</td>\n",
       "      <td>18 - 500 g pkgs.</td>\n",
       "      <td>97.00</td>\n",
       "      <td>29</td>\n",
       "      <td>0</td>\n",
       "      <td>0</td>\n",
       "      <td>1</td>\n",
       "    </tr>\n",
       "    <tr>\n",
       "      <td>9</td>\n",
       "      <td>10</td>\n",
       "      <td>Ikura</td>\n",
       "      <td>4</td>\n",
       "      <td>8</td>\n",
       "      <td>12 - 200 ml jars</td>\n",
       "      <td>31.00</td>\n",
       "      <td>31</td>\n",
       "      <td>0</td>\n",
       "      <td>0</td>\n",
       "      <td>0</td>\n",
       "    </tr>\n",
       "  </tbody>\n",
       "</table>\n",
       "</div>"
      ],
      "text/plain": [
       "   Id                      ProductName  SupplierId  CategoryId  \\\n",
       "0   1                             Chai           1           1   \n",
       "1   2                            Chang           1           1   \n",
       "2   3                    Aniseed Syrup           1           2   \n",
       "3   4     Chef Anton's Cajun Seasoning           2           2   \n",
       "4   5           Chef Anton's Gumbo Mix           2           2   \n",
       "5   6     Grandma's Boysenberry Spread           3           2   \n",
       "6   7  Uncle Bob's Organic Dried Pears           3           7   \n",
       "7   8       Northwoods Cranberry Sauce           3           2   \n",
       "8   9                  Mishi Kobe Niku           4           6   \n",
       "9  10                            Ikura           4           8   \n",
       "\n",
       "       QuantityPerUnit  UnitPrice  UnitsInStock  UnitsOnOrder  ReorderLevel  \\\n",
       "0   10 boxes x 20 bags      18.00            39             0            10   \n",
       "1   24 - 12 oz bottles      19.00            17            40            25   \n",
       "2  12 - 550 ml bottles      10.00            13            70            25   \n",
       "3       48 - 6 oz jars      22.00            53             0             0   \n",
       "4             36 boxes      21.35             0             0             0   \n",
       "5       12 - 8 oz jars      25.00           120             0            25   \n",
       "6      12 - 1 lb pkgs.      30.00            15             0            10   \n",
       "7      12 - 12 oz jars      40.00             6             0             0   \n",
       "8     18 - 500 g pkgs.      97.00            29             0             0   \n",
       "9     12 - 200 ml jars      31.00            31             0             0   \n",
       "\n",
       "   Discontinued  \n",
       "0             0  \n",
       "1             0  \n",
       "2             0  \n",
       "3             0  \n",
       "4             1  \n",
       "5             0  \n",
       "6             0  \n",
       "7             0  \n",
       "8             1  \n",
       "9             0  "
      ]
     },
     "execution_count": 8,
     "metadata": {},
     "output_type": "execute_result"
    }
   ],
   "source": [
    "# Query the data and transpose into dataframe\n",
    "product_df = pd.read_sql_query('SELECT * FROM product;', conn)\n",
    "product_df.head(10)"
   ]
  },
  {
   "cell_type": "code",
   "execution_count": 9,
   "metadata": {},
   "outputs": [
    {
     "data": {
      "text/html": [
       "<div>\n",
       "<style scoped>\n",
       "    .dataframe tbody tr th:only-of-type {\n",
       "        vertical-align: middle;\n",
       "    }\n",
       "\n",
       "    .dataframe tbody tr th {\n",
       "        vertical-align: top;\n",
       "    }\n",
       "\n",
       "    .dataframe thead th {\n",
       "        text-align: right;\n",
       "    }\n",
       "</style>\n",
       "<table border=\"1\" class=\"dataframe\">\n",
       "  <thead>\n",
       "    <tr style=\"text-align: right;\">\n",
       "      <th></th>\n",
       "      <th>Id</th>\n",
       "      <th>OrderId</th>\n",
       "      <th>ProductId</th>\n",
       "      <th>UnitPrice</th>\n",
       "      <th>Quantity</th>\n",
       "      <th>Discount</th>\n",
       "    </tr>\n",
       "  </thead>\n",
       "  <tbody>\n",
       "    <tr>\n",
       "      <td>0</td>\n",
       "      <td>10248/11</td>\n",
       "      <td>10248</td>\n",
       "      <td>11</td>\n",
       "      <td>14.0</td>\n",
       "      <td>12</td>\n",
       "      <td>0.00</td>\n",
       "    </tr>\n",
       "    <tr>\n",
       "      <td>1</td>\n",
       "      <td>10248/42</td>\n",
       "      <td>10248</td>\n",
       "      <td>42</td>\n",
       "      <td>9.8</td>\n",
       "      <td>10</td>\n",
       "      <td>0.00</td>\n",
       "    </tr>\n",
       "    <tr>\n",
       "      <td>2</td>\n",
       "      <td>10248/72</td>\n",
       "      <td>10248</td>\n",
       "      <td>72</td>\n",
       "      <td>34.8</td>\n",
       "      <td>5</td>\n",
       "      <td>0.00</td>\n",
       "    </tr>\n",
       "    <tr>\n",
       "      <td>3</td>\n",
       "      <td>10249/14</td>\n",
       "      <td>10249</td>\n",
       "      <td>14</td>\n",
       "      <td>18.6</td>\n",
       "      <td>9</td>\n",
       "      <td>0.00</td>\n",
       "    </tr>\n",
       "    <tr>\n",
       "      <td>4</td>\n",
       "      <td>10249/51</td>\n",
       "      <td>10249</td>\n",
       "      <td>51</td>\n",
       "      <td>42.4</td>\n",
       "      <td>40</td>\n",
       "      <td>0.00</td>\n",
       "    </tr>\n",
       "    <tr>\n",
       "      <td>5</td>\n",
       "      <td>10250/41</td>\n",
       "      <td>10250</td>\n",
       "      <td>41</td>\n",
       "      <td>7.7</td>\n",
       "      <td>10</td>\n",
       "      <td>0.00</td>\n",
       "    </tr>\n",
       "    <tr>\n",
       "      <td>6</td>\n",
       "      <td>10250/51</td>\n",
       "      <td>10250</td>\n",
       "      <td>51</td>\n",
       "      <td>42.4</td>\n",
       "      <td>35</td>\n",
       "      <td>0.15</td>\n",
       "    </tr>\n",
       "    <tr>\n",
       "      <td>7</td>\n",
       "      <td>10250/65</td>\n",
       "      <td>10250</td>\n",
       "      <td>65</td>\n",
       "      <td>16.8</td>\n",
       "      <td>15</td>\n",
       "      <td>0.15</td>\n",
       "    </tr>\n",
       "    <tr>\n",
       "      <td>8</td>\n",
       "      <td>10251/22</td>\n",
       "      <td>10251</td>\n",
       "      <td>22</td>\n",
       "      <td>16.8</td>\n",
       "      <td>6</td>\n",
       "      <td>0.05</td>\n",
       "    </tr>\n",
       "    <tr>\n",
       "      <td>9</td>\n",
       "      <td>10251/57</td>\n",
       "      <td>10251</td>\n",
       "      <td>57</td>\n",
       "      <td>15.6</td>\n",
       "      <td>15</td>\n",
       "      <td>0.05</td>\n",
       "    </tr>\n",
       "  </tbody>\n",
       "</table>\n",
       "</div>"
      ],
      "text/plain": [
       "         Id  OrderId  ProductId  UnitPrice  Quantity  Discount\n",
       "0  10248/11    10248         11       14.0        12      0.00\n",
       "1  10248/42    10248         42        9.8        10      0.00\n",
       "2  10248/72    10248         72       34.8         5      0.00\n",
       "3  10249/14    10249         14       18.6         9      0.00\n",
       "4  10249/51    10249         51       42.4        40      0.00\n",
       "5  10250/41    10250         41        7.7        10      0.00\n",
       "6  10250/51    10250         51       42.4        35      0.15\n",
       "7  10250/65    10250         65       16.8        15      0.15\n",
       "8  10251/22    10251         22       16.8         6      0.05\n",
       "9  10251/57    10251         57       15.6        15      0.05"
      ]
     },
     "execution_count": 9,
     "metadata": {},
     "output_type": "execute_result"
    }
   ],
   "source": [
    "# # Query the data and transpose into dataframe\n",
    "OrderDetail_df = pd.read_sql_query('SELECT * FROM OrderDetail;', conn)\n",
    "OrderDetail_df.head(10)"
   ]
  },
  {
   "cell_type": "code",
   "execution_count": 10,
   "metadata": {},
   "outputs": [
    {
     "data": {
      "text/html": [
       "<div>\n",
       "<style scoped>\n",
       "    .dataframe tbody tr th:only-of-type {\n",
       "        vertical-align: middle;\n",
       "    }\n",
       "\n",
       "    .dataframe tbody tr th {\n",
       "        vertical-align: top;\n",
       "    }\n",
       "\n",
       "    .dataframe thead th {\n",
       "        text-align: right;\n",
       "    }\n",
       "</style>\n",
       "<table border=\"1\" class=\"dataframe\">\n",
       "  <thead>\n",
       "    <tr style=\"text-align: right;\">\n",
       "      <th></th>\n",
       "      <th>Id</th>\n",
       "      <th>OrderId</th>\n",
       "      <th>ProductId</th>\n",
       "      <th>UnitPrice</th>\n",
       "      <th>Quantity</th>\n",
       "      <th>Discount</th>\n",
       "      <th>OrderPrice</th>\n",
       "      <th>DiscountPrice</th>\n",
       "    </tr>\n",
       "  </thead>\n",
       "  <tbody>\n",
       "    <tr>\n",
       "      <td>0</td>\n",
       "      <td>10248/11</td>\n",
       "      <td>10248</td>\n",
       "      <td>11</td>\n",
       "      <td>14.0</td>\n",
       "      <td>12</td>\n",
       "      <td>0.00</td>\n",
       "      <td>168.0</td>\n",
       "      <td>168.00</td>\n",
       "    </tr>\n",
       "    <tr>\n",
       "      <td>1</td>\n",
       "      <td>10248/42</td>\n",
       "      <td>10248</td>\n",
       "      <td>42</td>\n",
       "      <td>9.8</td>\n",
       "      <td>10</td>\n",
       "      <td>0.00</td>\n",
       "      <td>98.0</td>\n",
       "      <td>98.00</td>\n",
       "    </tr>\n",
       "    <tr>\n",
       "      <td>2</td>\n",
       "      <td>10248/72</td>\n",
       "      <td>10248</td>\n",
       "      <td>72</td>\n",
       "      <td>34.8</td>\n",
       "      <td>5</td>\n",
       "      <td>0.00</td>\n",
       "      <td>174.0</td>\n",
       "      <td>174.00</td>\n",
       "    </tr>\n",
       "    <tr>\n",
       "      <td>3</td>\n",
       "      <td>10249/14</td>\n",
       "      <td>10249</td>\n",
       "      <td>14</td>\n",
       "      <td>18.6</td>\n",
       "      <td>9</td>\n",
       "      <td>0.00</td>\n",
       "      <td>167.4</td>\n",
       "      <td>167.40</td>\n",
       "    </tr>\n",
       "    <tr>\n",
       "      <td>4</td>\n",
       "      <td>10249/51</td>\n",
       "      <td>10249</td>\n",
       "      <td>51</td>\n",
       "      <td>42.4</td>\n",
       "      <td>40</td>\n",
       "      <td>0.00</td>\n",
       "      <td>1696.0</td>\n",
       "      <td>1696.00</td>\n",
       "    </tr>\n",
       "    <tr>\n",
       "      <td>5</td>\n",
       "      <td>10250/41</td>\n",
       "      <td>10250</td>\n",
       "      <td>41</td>\n",
       "      <td>7.7</td>\n",
       "      <td>10</td>\n",
       "      <td>0.00</td>\n",
       "      <td>77.0</td>\n",
       "      <td>77.00</td>\n",
       "    </tr>\n",
       "    <tr>\n",
       "      <td>6</td>\n",
       "      <td>10250/51</td>\n",
       "      <td>10250</td>\n",
       "      <td>51</td>\n",
       "      <td>42.4</td>\n",
       "      <td>35</td>\n",
       "      <td>0.15</td>\n",
       "      <td>1484.0</td>\n",
       "      <td>1261.40</td>\n",
       "    </tr>\n",
       "    <tr>\n",
       "      <td>7</td>\n",
       "      <td>10250/65</td>\n",
       "      <td>10250</td>\n",
       "      <td>65</td>\n",
       "      <td>16.8</td>\n",
       "      <td>15</td>\n",
       "      <td>0.15</td>\n",
       "      <td>252.0</td>\n",
       "      <td>214.20</td>\n",
       "    </tr>\n",
       "    <tr>\n",
       "      <td>8</td>\n",
       "      <td>10251/22</td>\n",
       "      <td>10251</td>\n",
       "      <td>22</td>\n",
       "      <td>16.8</td>\n",
       "      <td>6</td>\n",
       "      <td>0.05</td>\n",
       "      <td>100.8</td>\n",
       "      <td>95.76</td>\n",
       "    </tr>\n",
       "    <tr>\n",
       "      <td>9</td>\n",
       "      <td>10251/57</td>\n",
       "      <td>10251</td>\n",
       "      <td>57</td>\n",
       "      <td>15.6</td>\n",
       "      <td>15</td>\n",
       "      <td>0.05</td>\n",
       "      <td>234.0</td>\n",
       "      <td>222.30</td>\n",
       "    </tr>\n",
       "  </tbody>\n",
       "</table>\n",
       "</div>"
      ],
      "text/plain": [
       "         Id  OrderId  ProductId  UnitPrice  Quantity  Discount  OrderPrice  \\\n",
       "0  10248/11    10248         11       14.0        12      0.00       168.0   \n",
       "1  10248/42    10248         42        9.8        10      0.00        98.0   \n",
       "2  10248/72    10248         72       34.8         5      0.00       174.0   \n",
       "3  10249/14    10249         14       18.6         9      0.00       167.4   \n",
       "4  10249/51    10249         51       42.4        40      0.00      1696.0   \n",
       "5  10250/41    10250         41        7.7        10      0.00        77.0   \n",
       "6  10250/51    10250         51       42.4        35      0.15      1484.0   \n",
       "7  10250/65    10250         65       16.8        15      0.15       252.0   \n",
       "8  10251/22    10251         22       16.8         6      0.05       100.8   \n",
       "9  10251/57    10251         57       15.6        15      0.05       234.0   \n",
       "\n",
       "   DiscountPrice  \n",
       "0         168.00  \n",
       "1          98.00  \n",
       "2         174.00  \n",
       "3         167.40  \n",
       "4        1696.00  \n",
       "5          77.00  \n",
       "6        1261.40  \n",
       "7         214.20  \n",
       "8          95.76  \n",
       "9         222.30  "
      ]
     },
     "execution_count": 10,
     "metadata": {},
     "output_type": "execute_result"
    }
   ],
   "source": [
    "# Calculate total order price and discounted price, where discounted price = order price * (1 - discount%)\n",
    "OrderDetail_df['OrderPrice'] = OrderDetail_df.Quantity * OrderDetail_df.UnitPrice\n",
    "OrderDetail_df['DiscountPrice'] = OrderDetail_df.OrderPrice * (1-OrderDetail_df.Discount)\n",
    "OrderDetail_df.head(10)"
   ]
  },
  {
   "cell_type": "code",
   "execution_count": 11,
   "metadata": {},
   "outputs": [
    {
     "name": "stdout",
     "output_type": "stream",
     "text": [
      "<class 'pandas.core.frame.DataFrame'>\n",
      "RangeIndex: 2155 entries, 0 to 2154\n",
      "Data columns (total 8 columns):\n",
      "Id               2155 non-null object\n",
      "OrderId          2155 non-null int64\n",
      "ProductId        2155 non-null int64\n",
      "UnitPrice        2155 non-null float64\n",
      "Quantity         2155 non-null int64\n",
      "Discount         2155 non-null float64\n",
      "OrderPrice       2155 non-null float64\n",
      "DiscountPrice    2155 non-null float64\n",
      "dtypes: float64(4), int64(3), object(1)\n",
      "memory usage: 134.8+ KB\n"
     ]
    }
   ],
   "source": [
    "# Determine data types for each column in order details dataframe\n",
    "OrderDetail_df.info()"
   ]
  },
  {
   "cell_type": "code",
   "execution_count": 12,
   "metadata": {},
   "outputs": [
    {
     "data": {
      "text/plain": [
       "Id               0\n",
       "OrderId          0\n",
       "ProductId        0\n",
       "UnitPrice        0\n",
       "Quantity         0\n",
       "Discount         0\n",
       "OrderPrice       0\n",
       "DiscountPrice    0\n",
       "dtype: int64"
      ]
     },
     "execution_count": 12,
     "metadata": {},
     "output_type": "execute_result"
    }
   ],
   "source": [
    "# Check for missing data\n",
    "OrderDetail_df.isna().sum()"
   ]
  },
  {
   "cell_type": "code",
   "execution_count": 13,
   "metadata": {},
   "outputs": [
    {
     "data": {
      "text/html": [
       "<div>\n",
       "<style scoped>\n",
       "    .dataframe tbody tr th:only-of-type {\n",
       "        vertical-align: middle;\n",
       "    }\n",
       "\n",
       "    .dataframe tbody tr th {\n",
       "        vertical-align: top;\n",
       "    }\n",
       "\n",
       "    .dataframe thead th {\n",
       "        text-align: right;\n",
       "    }\n",
       "</style>\n",
       "<table border=\"1\" class=\"dataframe\">\n",
       "  <thead>\n",
       "    <tr style=\"text-align: right;\">\n",
       "      <th></th>\n",
       "      <th>OrderId</th>\n",
       "      <th>ProductId</th>\n",
       "      <th>UnitPrice</th>\n",
       "      <th>Quantity</th>\n",
       "      <th>Discount</th>\n",
       "      <th>OrderPrice</th>\n",
       "      <th>DiscountPrice</th>\n",
       "    </tr>\n",
       "  </thead>\n",
       "  <tbody>\n",
       "    <tr>\n",
       "      <td>count</td>\n",
       "      <td>2155.000000</td>\n",
       "      <td>2155.000000</td>\n",
       "      <td>2155.000000</td>\n",
       "      <td>2155.000000</td>\n",
       "      <td>2155.000000</td>\n",
       "      <td>2155.000000</td>\n",
       "      <td>2155.000000</td>\n",
       "    </tr>\n",
       "    <tr>\n",
       "      <td>mean</td>\n",
       "      <td>10659.375870</td>\n",
       "      <td>40.793039</td>\n",
       "      <td>26.218520</td>\n",
       "      <td>23.812993</td>\n",
       "      <td>0.056167</td>\n",
       "      <td>628.519067</td>\n",
       "      <td>587.374960</td>\n",
       "    </tr>\n",
       "    <tr>\n",
       "      <td>std</td>\n",
       "      <td>241.378032</td>\n",
       "      <td>22.159019</td>\n",
       "      <td>29.827418</td>\n",
       "      <td>19.022047</td>\n",
       "      <td>0.083450</td>\n",
       "      <td>1036.466980</td>\n",
       "      <td>969.224235</td>\n",
       "    </tr>\n",
       "    <tr>\n",
       "      <td>min</td>\n",
       "      <td>10248.000000</td>\n",
       "      <td>1.000000</td>\n",
       "      <td>2.000000</td>\n",
       "      <td>1.000000</td>\n",
       "      <td>0.000000</td>\n",
       "      <td>4.800000</td>\n",
       "      <td>4.800000</td>\n",
       "    </tr>\n",
       "    <tr>\n",
       "      <td>25%</td>\n",
       "      <td>10451.000000</td>\n",
       "      <td>22.000000</td>\n",
       "      <td>12.000000</td>\n",
       "      <td>10.000000</td>\n",
       "      <td>0.000000</td>\n",
       "      <td>154.000000</td>\n",
       "      <td>147.000000</td>\n",
       "    </tr>\n",
       "    <tr>\n",
       "      <td>50%</td>\n",
       "      <td>10657.000000</td>\n",
       "      <td>41.000000</td>\n",
       "      <td>18.400000</td>\n",
       "      <td>20.000000</td>\n",
       "      <td>0.000000</td>\n",
       "      <td>360.000000</td>\n",
       "      <td>337.750000</td>\n",
       "    </tr>\n",
       "    <tr>\n",
       "      <td>75%</td>\n",
       "      <td>10862.500000</td>\n",
       "      <td>60.000000</td>\n",
       "      <td>32.000000</td>\n",
       "      <td>30.000000</td>\n",
       "      <td>0.100000</td>\n",
       "      <td>722.250000</td>\n",
       "      <td>656.000000</td>\n",
       "    </tr>\n",
       "    <tr>\n",
       "      <td>max</td>\n",
       "      <td>11077.000000</td>\n",
       "      <td>77.000000</td>\n",
       "      <td>263.500000</td>\n",
       "      <td>130.000000</td>\n",
       "      <td>0.250000</td>\n",
       "      <td>15810.000000</td>\n",
       "      <td>15810.000000</td>\n",
       "    </tr>\n",
       "  </tbody>\n",
       "</table>\n",
       "</div>"
      ],
      "text/plain": [
       "            OrderId    ProductId    UnitPrice     Quantity     Discount  \\\n",
       "count   2155.000000  2155.000000  2155.000000  2155.000000  2155.000000   \n",
       "mean   10659.375870    40.793039    26.218520    23.812993     0.056167   \n",
       "std      241.378032    22.159019    29.827418    19.022047     0.083450   \n",
       "min    10248.000000     1.000000     2.000000     1.000000     0.000000   \n",
       "25%    10451.000000    22.000000    12.000000    10.000000     0.000000   \n",
       "50%    10657.000000    41.000000    18.400000    20.000000     0.000000   \n",
       "75%    10862.500000    60.000000    32.000000    30.000000     0.100000   \n",
       "max    11077.000000    77.000000   263.500000   130.000000     0.250000   \n",
       "\n",
       "         OrderPrice  DiscountPrice  \n",
       "count   2155.000000    2155.000000  \n",
       "mean     628.519067     587.374960  \n",
       "std     1036.466980     969.224235  \n",
       "min        4.800000       4.800000  \n",
       "25%      154.000000     147.000000  \n",
       "50%      360.000000     337.750000  \n",
       "75%      722.250000     656.000000  \n",
       "max    15810.000000   15810.000000  "
      ]
     },
     "execution_count": 13,
     "metadata": {},
     "output_type": "execute_result"
    }
   ],
   "source": [
    "# View distribution analysis\n",
    "OrderDetail_df.describe()"
   ]
  },
  {
   "cell_type": "code",
   "execution_count": 14,
   "metadata": {},
   "outputs": [
    {
     "data": {
      "text/plain": [
       "Text(0.5, 0, 'Quantity of Product Ordered')"
      ]
     },
     "execution_count": 14,
     "metadata": {},
     "output_type": "execute_result"
    },
    {
     "data": {
      "image/png": "[encoded data removed]",
      "text/plain": [
       "<Figure size 1440x720 with 1 Axes>"
      ]
     },
     "metadata": {},
     "output_type": "display_data"
    }
   ],
   "source": [
    "# Build distribution diagram using seaborn\n",
    "sns.set_style('whitegrid')\n",
    "plt.figure(figsize=(20, 10))\n",
    "sns.distplot(OrderDetail_df['Quantity'])\n",
    "plt.title('Distribution of Product Quantity Ordered', fontsize=20)\n",
    "plt.xlabel('Quantity of Product Ordered', fontsize=20)"
   ]
  },
  {
   "cell_type": "markdown",
   "metadata": {},
   "source": [
    "The above distribution is positively skewed or right tailed, displaying the proportion of total product ordered is predominantly under a quantity of 80"
   ]
  },
  {
   "cell_type": "markdown",
   "metadata": {},
   "source": [
    "## Hypothesis Tests Explained\n",
    "\n",
    "#### Null and Alternative Hypotheses Explained\n",
    "\n",
    "The null and alternative hypotheses express different possible characterizations of the population we are studying. The null hypothesis typically defines a specific case (with an equal sign), while the alternative is complex in that it covers many different conditions with less than (<), greater than (>), or unequal (!=) signs. \n",
    "\n",
    "Null Hypothesis: \n",
    "In the two-treatment-group case, the usual null hypothesis is that the two population means are equal, usually written as H0 : μ1 = μ2. Note that the null hypothesis is interpretable as nothing interesting is going on, or there is no noticeable difference between the two populations we are studying.\n",
    "\n",
    "Alternative Hypothesis: \n",
    "In the two-treatment-group case, the typical alternative hypothesis is that the two population means are unequal, written as HA : μ1 != μ2. Occasionally we use an alternative hypothesis that states that one population mean is less than the other, though this one-sided hypothesis is intended for cases when the opposite direction is impossible. The alternative hypothesis is complex because there are an infinite number options, e.g., |μ0−μ1| = 1, |μ0−μ1| = 2, etc.\n",
    "\n",
    "#### Student's T-Test Explained\n",
    "The t-test uses statistical inference to determine whether there is a significant difference between the means of two groups. Statistical inference is used to learn about unknown population parameters.\n",
    "\n",
    "A p-value is the probability that any future experiment could produce a value equal to, or more extreme, than the observed value in our actual experiment. The most common decision rule is to reject the null hypothesis if the p-value is less than or equal to 0.05 and to retain it otherwise.\n",
    "\n",
    "You can compare a sample mean to a target value using a one-sample t-test, and the means of two groups with a two-sample t-test. \n",
    "\n",
    "##### 1 Sample T-Test\n",
    "A 1 sample t-test is used to compare a sample mean to a hypothetical population mean. It answers the question: \"what is the probability that the sample came from a distribution with the desired hypothetical mean?\" Use this test when you are comparing your sample against a known target.\n",
    "\n",
    "##### 2 Sample T-Test\n",
    "A 2 sample T-Test compares two sets of data, which are both approximately normally distributed. The null hypothesis, in this case, is that the two distributions have the same mean. Use this when you are comparing two different numerical samples.\n",
    "\n",
    "#### ANOVA Test Explained\n",
    "ANOVA compares more than 2 numerical datasets without increasing the probability of a false positive.\n",
    "In order to use ANOVA,\n",
    "1. The samples should be normally distributed\n",
    "2. The standard deviations of the data should be similar\n",
    "3. The samples should be independent\n",
    "\n",
    "You can do a one way or two way ANOVA:\n",
    "\n",
    "One-way ANOVA: Compare 2 means\n",
    "- A one way ANOVA is used to compare two means from two independent groups using the F-distribution. \n",
    "\n",
    "Two Way ANOVA: You can do with or without replication\n",
    "- A two way ANOVA without replication: used when you have one group and you’re double-testing that same group. For example, you’re testing one set of individuals before and after they take a medication to see if it works or not.\n",
    "\n",
    "- Two way ANOVA with replication: Two groups, and the members of those groups are doing more than one thing. For example, two groups of patients from different hospitals trying two different therapies.\n",
    "\n",
    "#### Welch's T-test Explained\n",
    "A Welch's T-test is a two-sample location test which is used to test whether two populations have equal means when the two samples have unequal variances and/or unequal sample sizes.\n",
    "\n",
    "#### Cohen's D Explained\n",
    "Cohen's D is an effect size used to indicate the standardised difference between two means and to accompany reporting of t-test and ANOVA results. \n",
    "\n",
    "Cohen suggests that:\n",
    "d=0.2 be considered a 'small' effect size\n",
    "d=0.5 represents a 'medium' effect size\n",
    "d=0.8 a 'large' effect size.\n",
    "\n",
    "This means that if two groups' means don't differ by 0.2 standard deviations or more, the difference is trivial, even if it is statistically signficant.\n",
    "\n",
    "#### Tukey's (HSD) Test Explained\n",
    "Tukey's Range Test compares more than 2 numerical datasets without increasing the probability of a false positive. The Tukey's honestly significant difference test (Tukey's HSD) is a post-hoc test based on the studentized range distribution. Unlike an ANOVA test - which can tell if your results are significant overall (without specifying where those differences lie) - Tukey tells us which specific dataset(s) are significantly different from the others. Note, pairwise_tukeyhsd is from StatsModels, not the SciPy library."
   ]
  },
  {
   "cell_type": "markdown",
   "metadata": {},
   "source": [
    "#### Bootstrapping"
   ]
  },
  {
   "cell_type": "markdown",
   "metadata": {},
   "source": [
    "Bootstrapping is a type of resampling where large numbers of smaller samples of the same size are repeatedly drawn, with replacement, from a single original sample."
   ]
  },
  {
   "cell_type": "code",
   "execution_count": 15,
   "metadata": {},
   "outputs": [],
   "source": [
    "# We can define bootstraping with the following for loop:\n",
    "def bootstrap(sample, n):\n",
    "    bootstrap_sampling_dist = []\n",
    "    for i in range(n):\n",
    "        bootstrap_sampling_dist.append(np.random.choice(sample, size=len(sample), replace=True).mean())\n",
    "    return np.array(bootstrap_sampling_dist)"
   ]
  },
  {
   "cell_type": "markdown",
   "metadata": {},
   "source": [
    "# Formulate Hypothesis Tests"
   ]
  },
  {
   "cell_type": "markdown",
   "metadata": {},
   "source": [
    "For this reserch project, I am interested in exploring 3 topics, and have formulated 10 tests to understand them, listed below:\n",
    "\n",
    "Topic 1: Discount Effectiveness\n",
    "- Hypothesis 1: Is there a statistically significant difference between the quantity ordered of discounted vs. non-discounted products? In other words, does discounting a product make a difference in customer's willingness to purchase. \n",
    "\n",
    "- Hypothesis 2: At what levels of discount does quantity of an order have a statistically significant effect on the quantity of a product in an order? Or, exactly how much discount is necessary for a customer to be convinced to purchase?\n",
    "\n",
    "- Hypothesis 3: Is there a statistically significant difference in discounts given by USA and UK employees? Does the US offer greater or lower discounts compared to the UK?\n",
    "\n",
    "- Hypothesis 4: Is there a statistically significant difference in the discounts offered due to the demand of produce per month? Heightened demand means customers are more willing to pay the retail price and thusly not require a discount. Therefore, during times of heightened demand, are discounts offered? \n",
    "\n",
    "- Hypothesis 5: Is there a statistically significant difference in discount between categories? Do certain products demand more of a discount than others?\n",
    "\n",
    "Topic 2: Performance of Shipping Companies\n",
    "- Hypothesis 6: Do different shippers have a statistically significant greater freight cost? Which shippers are the most versus least expensive to use?\n",
    " \n",
    "- Hypothesis 7: Do shippers have a statistically significant impact on profit, or Revenue - Freight Cost? Or, which shipping companies are the most profitable?\n",
    "\n",
    "- Hypothesis 8: Is there a significant difference in processing time of shipping companies? Do specific companies take much longer than others to ship?\n",
    "\n",
    "Topic 3: Performance of the US relative to the UK\n",
    "- Hypothesis 9: Is there a statistically significant difference in revenue between employees in the US and UK? Does the US generate more or less revenue?\n",
    "\n",
    "- Hypothesis 10: Is there a statistically significant difference in performance between employees from US and UK? Do US employees process more or fewer orders compared to the UK?"
   ]
  },
  {
   "cell_type": "markdown",
   "metadata": {},
   "source": [
    "# Topic 1: Discount Effectiveness"
   ]
  },
  {
   "cell_type": "markdown",
   "metadata": {},
   "source": [
    "## Hypothesis 1: Is there a statistically significant difference between the quantity ordered of discounted vs. non-discounted products?"
   ]
  },
  {
   "cell_type": "code",
   "execution_count": 16,
   "metadata": {
    "scrolled": true
   },
   "outputs": [
    {
     "name": "stdout",
     "output_type": "stream",
     "text": [
      "<class 'pandas.core.frame.DataFrame'>\n",
      "Int64Index: 838 entries, 6 to 2152\n",
      "Data columns (total 8 columns):\n",
      "Id               838 non-null object\n",
      "OrderId          838 non-null int64\n",
      "ProductId        838 non-null int64\n",
      "UnitPrice        838 non-null float64\n",
      "Quantity         838 non-null int64\n",
      "Discount         838 non-null float64\n",
      "OrderPrice       838 non-null float64\n",
      "DiscountPrice    838 non-null float64\n",
      "dtypes: float64(4), int64(3), object(1)\n",
      "memory usage: 58.9+ KB\n",
      "Discounted Table None\n",
      "########################################################################################################################\n",
      "<class 'pandas.core.frame.DataFrame'>\n",
      "Int64Index: 1317 entries, 0 to 2154\n",
      "Data columns (total 8 columns):\n",
      "Id               1317 non-null object\n",
      "OrderId          1317 non-null int64\n",
      "ProductId        1317 non-null int64\n",
      "UnitPrice        1317 non-null float64\n",
      "Quantity         1317 non-null int64\n",
      "Discount         1317 non-null float64\n",
      "OrderPrice       1317 non-null float64\n",
      "DiscountPrice    1317 non-null float64\n",
      "dtypes: float64(4), int64(3), object(1)\n",
      "memory usage: 92.6+ KB\n",
      "Full Price Table None\n"
     ]
    }
   ],
   "source": [
    "# Check type of data categories between discounted and non-discounted orders\n",
    "discount = OrderDetail_df.loc[OrderDetail_df['Discount'] > 0]\n",
    "full = OrderDetail_df.loc[OrderDetail_df['Discount'] == 0]\n",
    "print(\"Discounted Table\", discount.info())\n",
    "print('#'*120)\n",
    "print(\"Full Price Table\", full.info())"
   ]
  },
  {
   "cell_type": "code",
   "execution_count": 17,
   "metadata": {},
   "outputs": [
    {
     "data": {
      "text/plain": [
       "Ttest_indResult(statistic=6.4785631962949015, pvalue=1.1440924523215966e-10)"
      ]
     },
     "execution_count": 17,
     "metadata": {},
     "output_type": "execute_result"
    }
   ],
   "source": [
    "# Run t-test\n",
    "stats.ttest_ind(discount.Quantity.values, full.Quantity.values)"
   ]
  },
  {
   "cell_type": "markdown",
   "metadata": {},
   "source": [
    "The T-Test indicates a low p-value (1.14e-10, which is close to 0 and less than .05). Therefore we reject the null hypothesis that there is no statistically significant difference in the quantity ordered of discounted vs. non-discounted products (or, we accept the alternative that there is a difference)."
   ]
  },
  {
   "cell_type": "code",
   "execution_count": 18,
   "metadata": {
    "scrolled": true
   },
   "outputs": [
    {
     "data": {
      "text/plain": [
       "Ttest_indResult(statistic=6.239069142123973, pvalue=5.65641429030433e-10)"
      ]
     },
     "execution_count": 18,
     "metadata": {},
     "output_type": "execute_result"
    }
   ],
   "source": [
    "# Run Welch's t-test\n",
    "stats.ttest_ind(discount.Quantity.values, full.Quantity.values, equal_var=False)"
   ]
  },
  {
   "cell_type": "markdown",
   "metadata": {},
   "source": [
    "The Welch's T-Test also indicates a low p-value (5.65e-10, which is close to 0 and less than .05). Therefore we reject the null hypothesis that there is no statistically significant difference in the quantity ordered of discounted vs. non-discounted products."
   ]
  },
  {
   "cell_type": "code",
   "execution_count": 19,
   "metadata": {},
   "outputs": [
    {
     "data": {
      "text/plain": [
       "0.2862724481729282"
      ]
     },
     "execution_count": 19,
     "metadata": {},
     "output_type": "execute_result"
    }
   ],
   "source": [
    "# Run Cohen's D\n",
    "def cohens_d(group1, group2):\n",
    "    numer = group1.mean() - group2.mean()\n",
    "    n1, n2 = len(group1), len(group2)\n",
    "    var1, var2 = group1.var(), group2.var()\n",
    "    pooled_var = (n1 * var1 + n2 * var2) / (n1 + n2)\n",
    "    denom = np.sqrt(pooled_var)\n",
    "    return numer / denom\n",
    "cohens_d(discount.Quantity, full.Quantity)"
   ]
  },
  {
   "cell_type": "markdown",
   "metadata": {},
   "source": [
    "The Cohen's D Effect Size indicates a 0.29 d-value. Therefore, we can conclude with some confidence that the effect size is slightly more than a 'small' effect size. Since all three of our tests have suggested we accept the alternative hypothesis, we can proceed to further analyze by how much purchase quantity is influenced by discounts."
   ]
  },
  {
   "cell_type": "code",
   "execution_count": 20,
   "metadata": {},
   "outputs": [
    {
     "data": {
      "text/html": [
       "<div>\n",
       "<style scoped>\n",
       "    .dataframe tbody tr th:only-of-type {\n",
       "        vertical-align: middle;\n",
       "    }\n",
       "\n",
       "    .dataframe tbody tr th {\n",
       "        vertical-align: top;\n",
       "    }\n",
       "\n",
       "    .dataframe thead th {\n",
       "        text-align: right;\n",
       "    }\n",
       "</style>\n",
       "<table border=\"1\" class=\"dataframe\">\n",
       "  <thead>\n",
       "    <tr style=\"text-align: right;\">\n",
       "      <th></th>\n",
       "      <th>ProductName</th>\n",
       "      <th>UnitPrice</th>\n",
       "      <th>Quantity</th>\n",
       "      <th>Discount</th>\n",
       "    </tr>\n",
       "  </thead>\n",
       "  <tbody>\n",
       "    <tr>\n",
       "      <td>0</td>\n",
       "      <td>Queso Cabrales</td>\n",
       "      <td>14.0</td>\n",
       "      <td>12</td>\n",
       "      <td>0.0</td>\n",
       "    </tr>\n",
       "    <tr>\n",
       "      <td>1</td>\n",
       "      <td>Singaporean Hokkien Fried Mee</td>\n",
       "      <td>9.8</td>\n",
       "      <td>10</td>\n",
       "      <td>0.0</td>\n",
       "    </tr>\n",
       "    <tr>\n",
       "      <td>2</td>\n",
       "      <td>Mozzarella di Giovanni</td>\n",
       "      <td>34.8</td>\n",
       "      <td>5</td>\n",
       "      <td>0.0</td>\n",
       "    </tr>\n",
       "    <tr>\n",
       "      <td>3</td>\n",
       "      <td>Tofu</td>\n",
       "      <td>18.6</td>\n",
       "      <td>9</td>\n",
       "      <td>0.0</td>\n",
       "    </tr>\n",
       "    <tr>\n",
       "      <td>4</td>\n",
       "      <td>Manjimup Dried Apples</td>\n",
       "      <td>42.4</td>\n",
       "      <td>40</td>\n",
       "      <td>0.0</td>\n",
       "    </tr>\n",
       "  </tbody>\n",
       "</table>\n",
       "</div>"
      ],
      "text/plain": [
       "                     ProductName  UnitPrice  Quantity  Discount\n",
       "0                 Queso Cabrales       14.0        12       0.0\n",
       "1  Singaporean Hokkien Fried Mee        9.8        10       0.0\n",
       "2         Mozzarella di Giovanni       34.8         5       0.0\n",
       "3                           Tofu       18.6         9       0.0\n",
       "4          Manjimup Dried Apples       42.4        40       0.0"
      ]
     },
     "execution_count": 20,
     "metadata": {},
     "output_type": "execute_result"
    }
   ],
   "source": [
    "# Query relevant columns on product using SQLite\n",
    "query = \"\"\"\n",
    "SELECT \n",
    "    p.ProductName, od.UnitPrice, od.Quantity, od.Discount\n",
    "FROM \n",
    "    Product p\n",
    "    JOIN\n",
    "    OrderDetail od\n",
    "    ON \n",
    "    p.Id = od.ProductId\"\"\"\n",
    "\n",
    "cur.execute(query)\n",
    "\n",
    "# Ensure dataframe pulls in right column names\n",
    "df = pd.DataFrame(cur.fetchall())\n",
    "df.columns = [x[0] for x in cur.description]\n",
    "df.head()"
   ]
  },
  {
   "cell_type": "code",
   "execution_count": 21,
   "metadata": {
    "scrolled": true
   },
   "outputs": [
    {
     "data": {
      "text/plain": [
       "77"
      ]
     },
     "execution_count": 21,
     "metadata": {},
     "output_type": "execute_result"
    }
   ],
   "source": [
    "# Check number of unique products\n",
    "df.ProductName.nunique()"
   ]
  },
  {
   "cell_type": "code",
   "execution_count": 22,
   "metadata": {},
   "outputs": [
    {
     "data": {
      "text/html": [
       "<div>\n",
       "<style scoped>\n",
       "    .dataframe tbody tr th:only-of-type {\n",
       "        vertical-align: middle;\n",
       "    }\n",
       "\n",
       "    .dataframe tbody tr th {\n",
       "        vertical-align: top;\n",
       "    }\n",
       "\n",
       "    .dataframe thead th {\n",
       "        text-align: right;\n",
       "    }\n",
       "</style>\n",
       "<table border=\"1\" class=\"dataframe\">\n",
       "  <thead>\n",
       "    <tr style=\"text-align: right;\">\n",
       "      <th></th>\n",
       "      <th>UnitPrice</th>\n",
       "      <th>Quantity</th>\n",
       "      <th>Discount</th>\n",
       "    </tr>\n",
       "  </thead>\n",
       "  <tbody>\n",
       "    <tr>\n",
       "      <td>count</td>\n",
       "      <td>838.000000</td>\n",
       "      <td>838.000000</td>\n",
       "      <td>838.000000</td>\n",
       "    </tr>\n",
       "    <tr>\n",
       "      <td>mean</td>\n",
       "      <td>26.292363</td>\n",
       "      <td>27.109785</td>\n",
       "      <td>0.144439</td>\n",
       "    </tr>\n",
       "    <tr>\n",
       "      <td>std</td>\n",
       "      <td>30.017214</td>\n",
       "      <td>20.771439</td>\n",
       "      <td>0.071808</td>\n",
       "    </tr>\n",
       "    <tr>\n",
       "      <td>min</td>\n",
       "      <td>2.000000</td>\n",
       "      <td>1.000000</td>\n",
       "      <td>0.010000</td>\n",
       "    </tr>\n",
       "    <tr>\n",
       "      <td>25%</td>\n",
       "      <td>12.500000</td>\n",
       "      <td>12.000000</td>\n",
       "      <td>0.100000</td>\n",
       "    </tr>\n",
       "    <tr>\n",
       "      <td>50%</td>\n",
       "      <td>18.000000</td>\n",
       "      <td>20.000000</td>\n",
       "      <td>0.150000</td>\n",
       "    </tr>\n",
       "    <tr>\n",
       "      <td>75%</td>\n",
       "      <td>31.230000</td>\n",
       "      <td>36.000000</td>\n",
       "      <td>0.200000</td>\n",
       "    </tr>\n",
       "    <tr>\n",
       "      <td>max</td>\n",
       "      <td>263.500000</td>\n",
       "      <td>130.000000</td>\n",
       "      <td>0.250000</td>\n",
       "    </tr>\n",
       "  </tbody>\n",
       "</table>\n",
       "</div>"
      ],
      "text/plain": [
       "        UnitPrice    Quantity    Discount\n",
       "count  838.000000  838.000000  838.000000\n",
       "mean    26.292363   27.109785    0.144439\n",
       "std     30.017214   20.771439    0.071808\n",
       "min      2.000000    1.000000    0.010000\n",
       "25%     12.500000   12.000000    0.100000\n",
       "50%     18.000000   20.000000    0.150000\n",
       "75%     31.230000   36.000000    0.200000\n",
       "max    263.500000  130.000000    0.250000"
      ]
     },
     "execution_count": 22,
     "metadata": {},
     "output_type": "execute_result"
    }
   ],
   "source": [
    "# Differentiate between discounted and non-discounted products\n",
    "df_disc, df_ndisc = df.loc[df.Discount > 0], df.loc[df.Discount == 0]\n",
    "\n",
    "# Describe statistics of dataset\n",
    "df_disc.describe()"
   ]
  },
  {
   "cell_type": "code",
   "execution_count": 23,
   "metadata": {
    "scrolled": true
   },
   "outputs": [
    {
     "data": {
      "image/png": "[encoded data removed]",
      "text/plain": [
       "<Figure size 1440x720 with 1 Axes>"
      ]
     },
     "metadata": {},
     "output_type": "display_data"
    }
   ],
   "source": [
    "# Plot Discounted vs. non-Discounted\n",
    "plt.figure(figsize=(20, 10))\n",
    "df_disc.Quantity.plot.kde(label='Discounted')\n",
    "df_ndisc.Quantity.plot.kde(label='Non-Discounted')\n",
    "plt.title('Probability Density Function of Discounted vs. Non-Discounted Order Quantity',fontsize = 20)\n",
    "plt.xlabel('Quantity per Order',fontsize = 20)\n",
    "plt.legend(fontsize = 20)\n",
    "plt.show()"
   ]
  },
  {
   "cell_type": "markdown",
   "metadata": {},
   "source": [
    "It looks like discounted orders have a slightly different distribution than non-discounted orders. Let's run a t-test to understand the difference in the means of the two distributions:"
   ]
  },
  {
   "cell_type": "code",
   "execution_count": 24,
   "metadata": {},
   "outputs": [],
   "source": [
    "# Two-sample t-test\n",
    "results = stats.ttest_ind(df_disc.Quantity, df_ndisc.Quantity, equal_var=False)"
   ]
  },
  {
   "cell_type": "code",
   "execution_count": 25,
   "metadata": {},
   "outputs": [
    {
     "name": "stdout",
     "output_type": "stream",
     "text": [
      "Reject null: mean discounted > mean non-discounted\n"
     ]
    }
   ],
   "source": [
    "# If mean of discounted is > mean of non-discounted, reject null hypothesis\n",
    "alpha = 0.05\n",
    "if (results[0] > 0) & (results[1]/2 < alpha):\n",
    "      print(\"Reject null: mean discounted > mean non-discounted\")\n",
    "else:\n",
    "    print(\"Accept null: there is no difference between the means\")"
   ]
  },
  {
   "cell_type": "code",
   "execution_count": 26,
   "metadata": {
    "scrolled": false
   },
   "outputs": [
    {
     "data": {
      "text/plain": [
       "Ttest_indResult(statistic=6.239069142123973, pvalue=5.65641429030433e-10)"
      ]
     },
     "execution_count": 26,
     "metadata": {},
     "output_type": "execute_result"
    }
   ],
   "source": [
    "# Run t-test results\n",
    "results"
   ]
  },
  {
   "cell_type": "markdown",
   "metadata": {},
   "source": [
    "### Hypothesis 1 Result\n",
    "Our p-value appears close to 0, reaffirming that we should reject the null hypothesis and accept that discounts do have a significant effect on the amount of a product ordered."
   ]
  },
  {
   "cell_type": "markdown",
   "metadata": {},
   "source": [
    "Since discounts impact how much of a product is ordered, would those extra orders translate into increased revenue? Instead of just looking at quantity, we will generate a new column called 'Revenue' such that Revenue = Quantity * Unit Price * (1 - Discount), and then run a significance test to understand if discounts impact revenue. "
   ]
  },
  {
   "cell_type": "markdown",
   "metadata": {},
   "source": [
    "## Hypothesis 2: Is there a statistically significant impact of discounts on revenue? "
   ]
  },
  {
   "cell_type": "code",
   "execution_count": 27,
   "metadata": {},
   "outputs": [],
   "source": [
    "# Genereate new revenue column in dataframe\n",
    "df_disc['Revenue'] = df_disc.Quantity * df_disc.UnitPrice * (1 - df_disc.Discount)\n",
    "df_ndisc['Revenue'] = df_ndisc.Quantity * df_ndisc.UnitPrice * (1 - df_ndisc.Discount)"
   ]
  },
  {
   "cell_type": "code",
   "execution_count": 28,
   "metadata": {},
   "outputs": [
    {
     "data": {
      "image/png": "[encoded data removed]",
      "text/plain": [
       "<Figure size 1440x720 with 1 Axes>"
      ]
     },
     "metadata": {},
     "output_type": "display_data"
    }
   ],
   "source": [
    "# Plot Probability Density Function of Revenue between discounted & non-discounted products\n",
    "plt.figure(figsize=(20, 10))\n",
    "df_disc.Revenue.plot.kde(label='Discounted')\n",
    "df_ndisc.Revenue.plot.kde(label='Non-Discounted')\n",
    "plt.title('Discounted vs. Non-Discounted Order Revenue PDFs',fontsize = 20)\n",
    "plt.xlabel('Revenue per Order', fontsize = 20)\n",
    "plt.legend(fontsize = 20)\n",
    "plt.show()"
   ]
  },
  {
   "cell_type": "code",
   "execution_count": 29,
   "metadata": {},
   "outputs": [
    {
     "data": {
      "text/plain": [
       "count      838.000000\n",
       "mean       614.671157\n",
       "std        981.388386\n",
       "min          8.500000\n",
       "25%        162.000000\n",
       "50%        347.775000\n",
       "75%        693.600000\n",
       "max      15019.500000\n",
       "Name: Revenue, dtype: float64"
      ]
     },
     "execution_count": 29,
     "metadata": {},
     "output_type": "execute_result"
    }
   ],
   "source": [
    "# Analyze statistics of discounted data set \n",
    "df_disc.Revenue.describe()"
   ]
  },
  {
   "cell_type": "code",
   "execution_count": 30,
   "metadata": {
    "scrolled": true
   },
   "outputs": [
    {
     "data": {
      "text/plain": [
       "count     1317.000000\n",
       "mean       570.006538\n",
       "std        961.375030\n",
       "min          4.800000\n",
       "25%        142.500000\n",
       "50%        325.000000\n",
       "75%        640.000000\n",
       "max      15810.000000\n",
       "Name: Revenue, dtype: float64"
      ]
     },
     "execution_count": 30,
     "metadata": {},
     "output_type": "execute_result"
    }
   ],
   "source": [
    "# Analyze statistics of non-discounted data set \n",
    "df_ndisc.Revenue.describe()"
   ]
  },
  {
   "cell_type": "markdown",
   "metadata": {},
   "source": [
    "Looking at the statistics above, we notice the average revenue is a little higher for discounted orders on average (340 versus 336). Let's perform a t-test to confirm if this small difference is statistically significant."
   ]
  },
  {
   "cell_type": "code",
   "execution_count": 31,
   "metadata": {},
   "outputs": [
    {
     "name": "stdout",
     "output_type": "stream",
     "text": [
      "Accept null: there is no difference between the means\n"
     ]
    }
   ],
   "source": [
    "# Get two-sample t-test\n",
    "results = stats.ttest_ind(df_disc.Revenue, df_ndisc.Revenue, equal_var=False)\n",
    "\n",
    "# If mean Discounted > Non-discounted reject the null hypothesis\n",
    "alpha = 0.05\n",
    "if (results[0] > 0) & (results[1]/2 < alpha):\n",
    "    print(\"Reject null: mean discounted > mean non-discounted\")\n",
    "else:\n",
    "    print(\"Accept null: there is no difference between the means\")"
   ]
  },
  {
   "cell_type": "code",
   "execution_count": 32,
   "metadata": {},
   "outputs": [
    {
     "data": {
      "text/plain": [
       "Ttest_indResult(statistic=1.0381255545690475, pvalue=0.2993546075168257)"
      ]
     },
     "execution_count": 32,
     "metadata": {},
     "output_type": "execute_result"
    }
   ],
   "source": [
    "results"
   ]
  },
  {
   "cell_type": "markdown",
   "metadata": {},
   "source": [
    "### Hypothesis 2 Result\n",
    "Our results have quite a high p-value at .52, further reafirming that the difference in revenue due to discounting products is too small and statistically insignificant. It seems that although discounts provide a statistically significant affect on order quantity (hypothesis 1), they do not have a statistically significant affect on Revenue (hypothesis 2). Let's take this a step further and see if discount size has any affect at certain levels, versus overall.\n",
    "\n",
    "Next, we could consider the monetary affect of discounts and determine whether increasing the discount threshold gives us statistically significant results. This would be valuable insight to business stakeholders who might be interested in offering discounts large enough to solicit more purchases and impact revenue."
   ]
  },
  {
   "cell_type": "markdown",
   "metadata": {},
   "source": [
    "## Hypothesis 3: At what levels of discount does quantity of an order have a statistically significant effect on the quantity purchased of a product in an order?"
   ]
  },
  {
   "cell_type": "code",
   "execution_count": 33,
   "metadata": {
    "code_folding": []
   },
   "outputs": [
    {
     "data": {
      "text/plain": [
       "Discount\n",
       "0.00    1317\n",
       "0.01       1\n",
       "0.02       2\n",
       "0.03       3\n",
       "0.04       1\n",
       "0.05     185\n",
       "0.06       1\n",
       "0.10     173\n",
       "0.15     157\n",
       "0.20     161\n",
       "0.25     154\n",
       "Name: Revenue, dtype: int64"
      ]
     },
     "execution_count": 33,
     "metadata": {},
     "output_type": "execute_result"
    }
   ],
   "source": [
    "# Define revenue as a function of discount, and examine by level of discount \n",
    "df['Revenue'] = df.Quantity * df.UnitPrice * (1 - df.Discount)\n",
    "df.groupby('Discount').Revenue.count()"
   ]
  },
  {
   "cell_type": "code",
   "execution_count": 34,
   "metadata": {},
   "outputs": [],
   "source": [
    "# Define discounts as 1% of price or greater (> .01)\n",
    "df_disc, df_ndisc = df.loc[df.Discount >= 0.1], df.loc[df.Discount < 0.1]"
   ]
  },
  {
   "cell_type": "code",
   "execution_count": 35,
   "metadata": {
    "scrolled": true
   },
   "outputs": [
    {
     "name": "stdout",
     "output_type": "stream",
     "text": [
      "Accept null: there is no difference between the means\n"
     ]
    }
   ],
   "source": [
    "# Run test\n",
    "results = stats.ttest_ind(df_disc.Revenue, df_ndisc.Revenue, equal_var=False)\n",
    "\n",
    "# Interpret p value\n",
    "alpha = 0.05\n",
    "if (results[0] > 0) & (results[1]/2 < alpha):\n",
    "    print(\"Reject null: mean discounted > mean non-discounted\")\n",
    "else:\n",
    "    print(\"Accept null: there is no difference between the means\")\n"
   ]
  },
  {
   "cell_type": "code",
   "execution_count": 36,
   "metadata": {
    "scrolled": true
   },
   "outputs": [
    {
     "data": {
      "text/plain": [
       "Ttest_indResult(statistic=-0.6284830250070176, pvalue=0.5297804753579476)"
      ]
     },
     "execution_count": 36,
     "metadata": {},
     "output_type": "execute_result"
    }
   ],
   "source": [
    "results"
   ]
  },
  {
   "cell_type": "markdown",
   "metadata": {},
   "source": [
    "Our p-value indicates there is no difference in the revenue generated between orders with a discount of 1% or more, versus those without a discount. Let's look at the impact of different sizes of discounts.\n"
   ]
  },
  {
   "cell_type": "markdown",
   "metadata": {},
   "source": [
    "In order to understand whether there is a difference in purchase quantity due to the discount level, we could conduct a Welch's t-test. We specifically want to use Welch's because it is intended in cases where the two samples whose means we are comparing have unequal variances and/or unequal sample sizes. We know that is the case between the discounted group of orders (experimental) versus the non-discounted group (control). \n",
    "\n",
    "We can start by visualizing the difference in order frequency (or probability) of orders by discount level, by using a probability distribtion, which shows us the probabilities of specific data values within the distribution.\n",
    "- The control distribution includes order quantities without a discount.\n",
    "- The experimental distribution includes order quantities with a discount at any level."
   ]
  },
  {
   "cell_type": "code",
   "execution_count": 37,
   "metadata": {},
   "outputs": [],
   "source": [
    "# We can use the following formula to generate this visualization:  \n",
    "def visualization(control, experimental):\n",
    "    plt.figure(figsize=(20,10))\n",
    "    #plot the distribution of both using 30 dividing bins\n",
    "    sns.distplot(experimental, bins=30,  label='Experiment / discount')\n",
    "    sns.distplot(control, bins=30,  label='Control / no discount')\n",
    "    # plot a red line on the mean of the control data\n",
    "    plt.axvline(x=control.mean(), color='r', linestyle='--')\n",
    "    # plot a green line on the mean of the experiment data\n",
    "    plt.axvline(x=experimental.mean(), color='g', linestyle='--')\n",
    "    #labels\n",
    "    plt.title('Control and Experimental Distributions', fontsize=20)\n",
    "    plt.xlabel('Distributions',fontsize=20)\n",
    "    plt.ylabel('Frequency',fontsize=20)\n",
    "    plt.legend()\n",
    "    plt.show()"
   ]
  },
  {
   "cell_type": "code",
   "execution_count": 38,
   "metadata": {},
   "outputs": [],
   "source": [
    "# We can define Cohen's D with the following formula:\n",
    "def Cohen_d(group1, group2):\n",
    "    diff = group1.mean() - group2.mean()\n",
    "    n1, n2 = len(group1), len(group2)\n",
    "    var1 = group1.var()\n",
    "    var2 = group2.var()\n",
    "    # Calculate the pooled threshold as shown earlier\n",
    "    pooled_var = (n1 * var1 + n2 * var2) / (n1 + n2)\n",
    "    # Calculate Cohen's d statistic\n",
    "    d = diff / np.sqrt(pooled_var)\n",
    "    return abs(d)"
   ]
  },
  {
   "cell_type": "code",
   "execution_count": 193,
   "metadata": {
    "code_folding": []
   },
   "outputs": [
    {
     "name": "stdout",
     "output_type": "stream",
     "text": [
      "Accept the alternative: there is a difference in the means\n",
      "CohensD: 0.2862724481729282\n"
     ]
    },
    {
     "data": {
      "image/png": "[encoded data removed]",
      "text/plain": [
       "<Figure size 1440x720 with 1 Axes>"
      ]
     },
     "metadata": {},
     "output_type": "display_data"
    }
   ],
   "source": [
    "# Define the sample populations\n",
    "control = OrderDetail_df[OrderDetail_df['Discount']==0]['Quantity']\n",
    "experimental = OrderDetail_df[OrderDetail_df['Discount']!=0]['Quantity']\n",
    "\n",
    "# Develop t-test\n",
    "t_stat, p = stats.ttest_ind(control, experimental)\n",
    "d = Cohen_d(experimental, control)\n",
    "print('Accept the alternative: there is a difference in the means') if p < 0.05 else print('Accept null: there is no difference')\n",
    "print(\"Cohens D:\", d)\n",
    "\n",
    "# Run the visualization\n",
    "visualization(control, experimental)"
   ]
  },
  {
   "cell_type": "markdown",
   "metadata": {},
   "source": [
    "The distribution above illustrates a few things:\n",
    "    - Orders with discounts are sold more on average (green line at 25%) than those without (red line at ~ 20%)\n",
    "    - Orders without a discount are bought most frequently in smaller quantities (orange bars), compared to those with discounts (blue bars) \n",
    "      \n",
    "A Cohen's D of .28 suggests that our effect size is small. While our results are statistically significant, the effect of discounts is only marginal. Let's see how much it varies with each level through a table.\n"
   ]
  },
  {
   "cell_type": "markdown",
   "metadata": {},
   "source": [
    "##### Differency by discount amount"
   ]
  },
  {
   "cell_type": "code",
   "execution_count": 182,
   "metadata": {},
   "outputs": [
    {
     "data": {
      "text/html": [
       "<div>\n",
       "<style scoped>\n",
       "    .dataframe tbody tr th:only-of-type {\n",
       "        vertical-align: middle;\n",
       "    }\n",
       "\n",
       "    .dataframe tbody tr th {\n",
       "        vertical-align: top;\n",
       "    }\n",
       "\n",
       "    .dataframe thead th {\n",
       "        text-align: right;\n",
       "    }\n",
       "</style>\n",
       "<table border=\"1\" class=\"dataframe\">\n",
       "  <thead>\n",
       "    <tr style=\"text-align: right;\">\n",
       "      <th></th>\n",
       "      <th>Discount</th>\n",
       "      <th>Null Hypothesis</th>\n",
       "      <th>CohensD</th>\n",
       "    </tr>\n",
       "  </thead>\n",
       "  <tbody>\n",
       "    <tr>\n",
       "      <td>0</td>\n",
       "      <td>5.0%</td>\n",
       "      <td>Reject null, there is an effect at this level</td>\n",
       "      <td>0.346877</td>\n",
       "    </tr>\n",
       "    <tr>\n",
       "      <td>1</td>\n",
       "      <td>10.0%</td>\n",
       "      <td>Reject null, there is an effect at this level</td>\n",
       "      <td>0.195942</td>\n",
       "    </tr>\n",
       "    <tr>\n",
       "      <td>2</td>\n",
       "      <td>15.0%</td>\n",
       "      <td>Reject null, there is an effect at this level</td>\n",
       "      <td>0.372404</td>\n",
       "    </tr>\n",
       "    <tr>\n",
       "      <td>3</td>\n",
       "      <td>20.0%</td>\n",
       "      <td>Reject null, there is an effect at this level</td>\n",
       "      <td>0.300712</td>\n",
       "    </tr>\n",
       "    <tr>\n",
       "      <td>4</td>\n",
       "      <td>25.0%</td>\n",
       "      <td>Reject null, there is an effect at this level</td>\n",
       "      <td>0.366593</td>\n",
       "    </tr>\n",
       "  </tbody>\n",
       "</table>\n",
       "</div>"
      ],
      "text/plain": [
       "  Discount                                Null Hypothesis   CohensD\n",
       "0     5.0%  Reject null, there is an effect at this level  0.346877\n",
       "1    10.0%  Reject null, there is an effect at this level  0.195942\n",
       "2    15.0%  Reject null, there is an effect at this level  0.372404\n",
       "3    20.0%  Reject null, there is an effect at this level  0.300712\n",
       "4    25.0%  Reject null, there is an effect at this level  0.366593"
      ]
     },
     "execution_count": 182,
     "metadata": {},
     "output_type": "execute_result"
    }
   ],
   "source": [
    "# Create table summarizing all tests for different levels of discount\n",
    "discounts_significance_df = pd.DataFrame(columns=['Discount','Null Hypothesis','CohensD'], index=None)\n",
    "\n",
    "# Dictate discount levels for sample\n",
    "discounts = [0.05, 0.1, 0.15, 0.2, 0.25]\n",
    "control = OrderDetail_df[OrderDetail_df['Discount']==0]['Quantity']\n",
    "\n",
    "# For loop generating hypothesis results at each discount level\n",
    "for i in discounts:\n",
    "    experimental = OrderDetail_df[OrderDetail_df['Discount']==i]['Quantity']\n",
    "    st, p = stats.ttest_ind(control, experimental)\n",
    "    d = Cohen_d(experimental, control)\n",
    "    discounts_significance_df = discounts_significance_df.append({'Discount': str(i*100)+'%', 'Null Hypothesis': 'Reject null, there is an effect at this level' if p < 0.5 else 'Accept null: no effect at this level', 'CohensD' : d }, ignore_index=True)    \n",
    "\n",
    "\n",
    "discounts_significance_df"
   ]
  },
  {
   "cell_type": "markdown",
   "metadata": {},
   "source": [
    "We should reject the null hypothesis because the results indicate that there is statistically significant difference in the quantities of orders with no discount vs. those with discounts at every level! (5%, 10%, 15%, 20%, 25%). Cohen's D continues to emphasize, however, that the effect at each level is between small (.2) to medium (.5).\n",
    "\n",
    "Next, let's see if there is a difference when looking at a range of discounts versus a discrete discount."
   ]
  },
  {
   "cell_type": "code",
   "execution_count": 185,
   "metadata": {},
   "outputs": [
    {
     "data": {
      "image/png": "[encoded data removed]",
      "text/plain": [
       "<Figure size 576x360 with 1 Axes>"
      ]
     },
     "metadata": {},
     "output_type": "display_data"
    }
   ],
   "source": [
    "# Display order of effects at each level\n",
    "plt.figure(figsize=(8,5))\n",
    "sns.barplot(discounts_significance_df.Discount, discounts_significance_df.CohensD, alpha=0.8)\n",
    "plt.title('Significance effect at each discount level')\n",
    "plt.ylabel('Cohens D', fontsize=15)\n",
    "plt.xlabel('Discount Amount', fontsize=15)\n",
    "plt.show()"
   ]
  },
  {
   "cell_type": "markdown",
   "metadata": {},
   "source": [
    "##### Difference by  5% discount range increments"
   ]
  },
  {
   "cell_type": "code",
   "execution_count": 210,
   "metadata": {
    "code_folding": [],
    "scrolled": false
   },
   "outputs": [
    {
     "data": {
      "text/html": [
       "<div>\n",
       "<style scoped>\n",
       "    .dataframe tbody tr th:only-of-type {\n",
       "        vertical-align: middle;\n",
       "    }\n",
       "\n",
       "    .dataframe tbody tr th {\n",
       "        vertical-align: top;\n",
       "    }\n",
       "\n",
       "    .dataframe thead th {\n",
       "        text-align: right;\n",
       "    }\n",
       "</style>\n",
       "<table border=\"1\" class=\"dataframe\">\n",
       "  <thead>\n",
       "    <tr style=\"text-align: right;\">\n",
       "      <th></th>\n",
       "      <th>Discount</th>\n",
       "      <th>Null Hypothesis</th>\n",
       "      <th>CohensD</th>\n",
       "    </tr>\n",
       "  </thead>\n",
       "  <tbody>\n",
       "    <tr>\n",
       "      <td>4</td>\n",
       "      <td>10.0% - 15.0%</td>\n",
       "      <td>Accept null: no effect at this level</td>\n",
       "      <td>0.149332</td>\n",
       "    </tr>\n",
       "    <tr>\n",
       "      <td>5</td>\n",
       "      <td>10.0% - 20.0%</td>\n",
       "      <td>Accept null: no effect at this level</td>\n",
       "      <td>0.089008</td>\n",
       "    </tr>\n",
       "    <tr>\n",
       "      <td>6</td>\n",
       "      <td>10.0% - 25.0%</td>\n",
       "      <td>Accept null: no effect at this level</td>\n",
       "      <td>0.145146</td>\n",
       "    </tr>\n",
       "    <tr>\n",
       "      <td>7</td>\n",
       "      <td>15.0% - 20.0%</td>\n",
       "      <td>Accept null: no effect at this level</td>\n",
       "      <td>0.068234</td>\n",
       "    </tr>\n",
       "    <tr>\n",
       "      <td>8</td>\n",
       "      <td>15.0% - 25.0%</td>\n",
       "      <td>Accept null: no effect at this level</td>\n",
       "      <td>0.006912</td>\n",
       "    </tr>\n",
       "    <tr>\n",
       "      <td>9</td>\n",
       "      <td>20.0% - 25.0%</td>\n",
       "      <td>Accept null: no effect at this level</td>\n",
       "      <td>0.062415</td>\n",
       "    </tr>\n",
       "    <tr>\n",
       "      <td>0</td>\n",
       "      <td>5.0% - 10.0%</td>\n",
       "      <td>Accept null: no effect at this level</td>\n",
       "      <td>0.127769</td>\n",
       "    </tr>\n",
       "    <tr>\n",
       "      <td>1</td>\n",
       "      <td>5.0% - 15.0%</td>\n",
       "      <td>Accept null: no effect at this level</td>\n",
       "      <td>0.017179</td>\n",
       "    </tr>\n",
       "    <tr>\n",
       "      <td>2</td>\n",
       "      <td>5.0% - 20.0%</td>\n",
       "      <td>Accept null: no effect at this level</td>\n",
       "      <td>0.047644</td>\n",
       "    </tr>\n",
       "    <tr>\n",
       "      <td>3</td>\n",
       "      <td>5.0% - 25.0%</td>\n",
       "      <td>Accept null: no effect at this level</td>\n",
       "      <td>0.010786</td>\n",
       "    </tr>\n",
       "  </tbody>\n",
       "</table>\n",
       "</div>"
      ],
      "text/plain": [
       "        Discount                       Null Hypothesis   CohensD\n",
       "4  10.0% - 15.0%  Accept null: no effect at this level  0.149332\n",
       "5  10.0% - 20.0%  Accept null: no effect at this level  0.089008\n",
       "6  10.0% - 25.0%  Accept null: no effect at this level  0.145146\n",
       "7  15.0% - 20.0%  Accept null: no effect at this level  0.068234\n",
       "8  15.0% - 25.0%  Accept null: no effect at this level  0.006912\n",
       "9  20.0% - 25.0%  Accept null: no effect at this level  0.062415\n",
       "0   5.0% - 10.0%  Accept null: no effect at this level  0.127769\n",
       "1   5.0% - 15.0%  Accept null: no effect at this level  0.017179\n",
       "2   5.0% - 20.0%  Accept null: no effect at this level  0.047644\n",
       "3   5.0% - 25.0%  Accept null: no effect at this level  0.010786"
      ]
     },
     "execution_count": 210,
     "metadata": {},
     "output_type": "execute_result"
    }
   ],
   "source": [
    "# Create table summarizing all tests for 5% increment ranges of discount\n",
    "discounts = np.array([0.05, 0.1, 0.15, 0.2, 0.25])\n",
    "comb = itertools.combinations(discounts, 2)\n",
    "discount_levels_df = pd.DataFrame(columns=['Discount','Null Hypothesis','CohensD'], index=None)\n",
    "\n",
    "# For loop generating hypothesis and Cohen's D results for each 5% increment/range \n",
    "for i in comb:\n",
    "    # Control is i[0] and Experimental is i[1]\n",
    "    control = OrderDetail_df[OrderDetail_df['Discount']==i[0]]['Quantity']\n",
    "    experimental = OrderDetail_df[OrderDetail_df['Discount']==i[1]]['Quantity']\n",
    "    \n",
    "    st, p = stats.ttest_ind(experimental, control)\n",
    "    d = Cohen_d(experimental, control)\n",
    "    \n",
    "    #Increment is min to max discount in each 5% range\n",
    "    discount_levels_df = discount_levels_df.append({'Discount': str(i[0]*100)+'% - '+str(i[1]*100)+'%', 'Null Hypothesis': 'Reject, there is an effect at this level' if p < 0.05 else 'Accept null: no effect at this level', 'CohensD':d}, ignore_index=True)    \n",
    "\n",
    "# Sort Cohen's D in ascending order\n",
    "discount_levels_df.sort_values('Discount', ascending=True)"
   ]
  },
  {
   "cell_type": "code",
   "execution_count": 211,
   "metadata": {},
   "outputs": [
    {
     "data": {
      "image/png": "[encoded data removed]",
      "text/plain": [
       "<Figure size 1800x360 with 1 Axes>"
      ]
     },
     "metadata": {},
     "output_type": "display_data"
    }
   ],
   "source": [
    "# Display order of effects at each level\n",
    "plt.figure(figsize=(25,5))\n",
    "sns.barplot(discount_levels_df.Discount, discount_levels_df.CohensD, alpha=0.8)\n",
    "plt.title('Significance effect at each discount increment')\n",
    "plt.ylabel('Cohens D', fontsize=15)\n",
    "plt.xlabel('Discount Amount', fontsize=15)\n",
    "plt.show()"
   ]
  },
  {
   "cell_type": "markdown",
   "metadata": {},
   "source": [
    "Results show that there is no statistically significant difference in order quantity when looking at the 5% increments of discount. \n",
    "\n",
    "Next, let's try to determine specifically what discount amounts to target in order to solicit larger quantity of sales."
   ]
  },
  {
   "cell_type": "markdown",
   "metadata": {},
   "source": [
    "##### Difference in sales by discount threshold"
   ]
  },
  {
   "cell_type": "code",
   "execution_count": 42,
   "metadata": {
    "scrolled": true
   },
   "outputs": [
    {
     "data": {
      "image/png": "[encoded data removed]",
      "text/plain": [
       "<Figure size 1440x720 with 1 Axes>"
      ]
     },
     "metadata": {},
     "output_type": "display_data"
    },
    {
     "name": "stdout",
     "output_type": "stream",
     "text": [
      "Conclusion\n",
      "On average 70.0% of discounted products were sold in larger quantities\n",
      "Average number of orders sold with discount was 26.43 items, and without a discount were 21.81 items\n"
     ]
    }
   ],
   "source": [
    "# Illustrate whether discounts appear to make a difference in order quantity\n",
    "discount = OrderDetail_df[OrderDetail_df['Discount']!=0].groupby('ProductId')['Quantity'].mean()\n",
    "no_discount = OrderDetail_df[OrderDetail_df['Discount']==0].groupby('ProductId')['Quantity'].mean()\n",
    "plt.figure(figsize=(20,10))\n",
    "plt.bar(discount.index, discount.values, alpha=1, label='Discount', color='#a0d8f0')\n",
    "plt.bar(no_discount.index, no_discount.values, alpha=0.8, label='No Discount', color='#5e79e6')\n",
    "plt.legend(fontsize=20)\n",
    "plt.title('Order quantities with/without discount', fontsize=20)\n",
    "plt.xlabel('Product ID', fontsize=20)\n",
    "plt.ylabel('Average quantities',fontsize=20)\n",
    "plt.show()\n",
    "\n",
    "print('Conclusion')\n",
    "print(\"On average {}% of discounted products were sold in larger quantities\".format(round(sum(discount.values > no_discount.values)/len(discount.values)*100),2))\n",
    "print(\"Average number of orders sold with discount was {} items, and without a discount were {} items\".format(round(discount.values.mean(),2), round(no_discount.values.mean(),2)))\n"
   ]
  },
  {
   "cell_type": "code",
   "execution_count": 43,
   "metadata": {},
   "outputs": [
    {
     "name": "stdout",
     "output_type": "stream",
     "text": [
      "Discount levels\n",
      "[0.   0.01 0.02 0.03 0.04 0.05 0.06 0.1  0.15 0.2  0.25]\n"
     ]
    }
   ],
   "source": [
    "# Get all discount levels\n",
    "discounts = OrderDetail_df['Discount'].unique()\n",
    "discounts.sort()\n",
    "print('Discount levels')\n",
    "print(discounts)"
   ]
  },
  {
   "cell_type": "code",
   "execution_count": 44,
   "metadata": {
    "scrolled": true
   },
   "outputs": [
    {
     "data": {
      "text/html": [
       "<div>\n",
       "<style scoped>\n",
       "    .dataframe tbody tr th:only-of-type {\n",
       "        vertical-align: middle;\n",
       "    }\n",
       "\n",
       "    .dataframe tbody tr th {\n",
       "        vertical-align: top;\n",
       "    }\n",
       "\n",
       "    .dataframe thead th {\n",
       "        text-align: right;\n",
       "    }\n",
       "</style>\n",
       "<table border=\"1\" class=\"dataframe\">\n",
       "  <thead>\n",
       "    <tr style=\"text-align: right;\">\n",
       "      <th></th>\n",
       "      <th>Discount %</th>\n",
       "      <th>Orders</th>\n",
       "      <th>Avg. Order Quantity</th>\n",
       "    </tr>\n",
       "  </thead>\n",
       "  <tbody>\n",
       "    <tr>\n",
       "      <td>0</td>\n",
       "      <td>0.0</td>\n",
       "      <td>1317.0</td>\n",
       "      <td>21.715262</td>\n",
       "    </tr>\n",
       "    <tr>\n",
       "      <td>1</td>\n",
       "      <td>1.0</td>\n",
       "      <td>1.0</td>\n",
       "      <td>2.000000</td>\n",
       "    </tr>\n",
       "    <tr>\n",
       "      <td>2</td>\n",
       "      <td>2.0</td>\n",
       "      <td>2.0</td>\n",
       "      <td>2.000000</td>\n",
       "    </tr>\n",
       "    <tr>\n",
       "      <td>3</td>\n",
       "      <td>3.0</td>\n",
       "      <td>3.0</td>\n",
       "      <td>1.666667</td>\n",
       "    </tr>\n",
       "    <tr>\n",
       "      <td>4</td>\n",
       "      <td>4.0</td>\n",
       "      <td>1.0</td>\n",
       "      <td>1.000000</td>\n",
       "    </tr>\n",
       "    <tr>\n",
       "      <td>5</td>\n",
       "      <td>5.0</td>\n",
       "      <td>185.0</td>\n",
       "      <td>28.010811</td>\n",
       "    </tr>\n",
       "    <tr>\n",
       "      <td>6</td>\n",
       "      <td>6.0</td>\n",
       "      <td>1.0</td>\n",
       "      <td>2.000000</td>\n",
       "    </tr>\n",
       "    <tr>\n",
       "      <td>7</td>\n",
       "      <td>10.0</td>\n",
       "      <td>173.0</td>\n",
       "      <td>25.236994</td>\n",
       "    </tr>\n",
       "    <tr>\n",
       "      <td>8</td>\n",
       "      <td>15.0</td>\n",
       "      <td>157.0</td>\n",
       "      <td>28.382166</td>\n",
       "    </tr>\n",
       "    <tr>\n",
       "      <td>9</td>\n",
       "      <td>20.0</td>\n",
       "      <td>161.0</td>\n",
       "      <td>27.024845</td>\n",
       "    </tr>\n",
       "    <tr>\n",
       "      <td>10</td>\n",
       "      <td>25.0</td>\n",
       "      <td>154.0</td>\n",
       "      <td>28.240260</td>\n",
       "    </tr>\n",
       "  </tbody>\n",
       "</table>\n",
       "</div>"
      ],
      "text/plain": [
       "    Discount %  Orders  Avg. Order Quantity\n",
       "0          0.0  1317.0            21.715262\n",
       "1          1.0     1.0             2.000000\n",
       "2          2.0     2.0             2.000000\n",
       "3          3.0     3.0             1.666667\n",
       "4          4.0     1.0             1.000000\n",
       "5          5.0   185.0            28.010811\n",
       "6          6.0     1.0             2.000000\n",
       "7         10.0   173.0            25.236994\n",
       "8         15.0   157.0            28.382166\n",
       "9         20.0   161.0            27.024845\n",
       "10        25.0   154.0            28.240260"
      ]
     },
     "execution_count": 44,
     "metadata": {},
     "output_type": "execute_result"
    }
   ],
   "source": [
    "# Group number of orders for each discount amount\n",
    "\n",
    "# Each group is a DataFrame containing orders with certain discount level\n",
    "groups = {}\n",
    "for i in discounts:\n",
    "    groups[i] = OrderDetail_df[OrderDetail_df['Discount']==i]\n",
    "\n",
    "# Create new dataframe with discounts and order quantity columns\n",
    "discounts_df = pd.DataFrame(columns=['Discount %','Orders','Avg. Order Quantity'])\n",
    "\n",
    "# Iterate through table to generate results for each level\n",
    "for i in groups.keys():\n",
    "    discounts_df = discounts_df.append({'Discount %':i*100,'Orders':len(groups[i]),'Avg. Order Quantity':groups[i]['Quantity'].mean()}, ignore_index=True)\n",
    "\n",
    "# Display\n",
    "discounts_df"
   ]
  },
  {
   "cell_type": "markdown",
   "metadata": {},
   "source": [
    "### Hypothesis 2 Result\n",
    "There is statistically significant difference in the quantities of orders with no discount vs. those with discounts at every level! (5%, 10%, 15%, 20%, 25%), however, not when comparing discount increment ranges. The highest quantity of orders were in the 15%, 25% and 5% categories. \n",
    "\n",
    "Next, let's look at discounts by country. "
   ]
  },
  {
   "cell_type": "markdown",
   "metadata": {},
   "source": [
    "## Hypothesis 4: Is there a statistically significant difference in discounts given by USA and UK employees?"
   ]
  },
  {
   "cell_type": "code",
   "execution_count": 45,
   "metadata": {
    "scrolled": false
   },
   "outputs": [
    {
     "name": "stdout",
     "output_type": "stream",
     "text": [
      "               sum_sq      df         F    PR(>F)\n",
      "C(Country)   0.067081     1.0  9.671415  0.001896\n",
      "Residual    14.933259  2153.0       NaN       NaN\n"
     ]
    }
   ],
   "source": [
    "# Query the USA and UK data\n",
    "query  = '''\n",
    "\n",
    "                    SELECT OD.Discount, E.Country FROM [Order] AS O\n",
    "                    JOIN OrderDetail AS OD ON O.Id = OD.OrderId\n",
    "                    JOIN Employee AS E ON O.EmployeeId = E.Id\n",
    "\n",
    "'''\n",
    "\n",
    "usa_uk_discount = pd.read_sql_query(query, conn)\n",
    "formula = 'Discount ~ C(Country)'\n",
    "\n",
    "# Fit OLS around UK and US data\n",
    "lm = ols(formula, usa_uk_discount).fit()\n",
    "\n",
    "# Run ANOVA test on fitted linear model\n",
    "table = sm.stats.anova_lm(lm, typ=2)\n",
    "print(table)"
   ]
  },
  {
   "cell_type": "markdown",
   "metadata": {},
   "source": [
    "### Hypothesis 4 Result\n",
    "Our PR(F), the p-value for our significance is .00, showing that there is a statistically significant difference in the discount amount between employees from USA and UK, hence we reject null hypothesis. Employees from the USA tend to give smaller discounts to their clients."
   ]
  },
  {
   "cell_type": "markdown",
   "metadata": {},
   "source": [
    "## Hypothesis 5: Is there a statistically significant difference in the discounts offered due to the demand of produce per month?"
   ]
  },
  {
   "cell_type": "code",
   "execution_count": 46,
   "metadata": {},
   "outputs": [],
   "source": [
    "# Query the data\n",
    "query = '''\n",
    "\n",
    "                                SELECT O.OrderDate, OD.Quantity, OD.Discount, CategoryId FROM [Order] AS O\n",
    "                                JOIN OrderDetail AS OD\n",
    "                                ON O.Id = OD.OrderId\n",
    "                                JOIN Product\n",
    "                                ON Product.Id = OD.ProductId\n",
    "                                WHERE Product.CategoryId = 7\n",
    "\n",
    "'''\n",
    "produce = pd.read_sql_query(query,conn)  "
   ]
  },
  {
   "cell_type": "code",
   "execution_count": 47,
   "metadata": {},
   "outputs": [],
   "source": [
    "# Dataframe with order dates\n",
    "produce.OrderDate = pd.to_datetime(produce.OrderDate)\n",
    "produce['Month'] = produce.OrderDate.dt.month"
   ]
  },
  {
   "cell_type": "code",
   "execution_count": 48,
   "metadata": {},
   "outputs": [
    {
     "data": {
      "text/html": [
       "<div>\n",
       "<style scoped>\n",
       "    .dataframe tbody tr th:only-of-type {\n",
       "        vertical-align: middle;\n",
       "    }\n",
       "\n",
       "    .dataframe tbody tr th {\n",
       "        vertical-align: top;\n",
       "    }\n",
       "\n",
       "    .dataframe thead th {\n",
       "        text-align: right;\n",
       "    }\n",
       "</style>\n",
       "<table border=\"1\" class=\"dataframe\">\n",
       "  <thead>\n",
       "    <tr style=\"text-align: right;\">\n",
       "      <th></th>\n",
       "      <th>Quantity</th>\n",
       "      <th>Discount</th>\n",
       "      <th>CategoryId</th>\n",
       "    </tr>\n",
       "    <tr>\n",
       "      <th>Month</th>\n",
       "      <th></th>\n",
       "      <th></th>\n",
       "      <th></th>\n",
       "    </tr>\n",
       "  </thead>\n",
       "  <tbody>\n",
       "    <tr>\n",
       "      <td>1</td>\n",
       "      <td>16.545455</td>\n",
       "      <td>0.050000</td>\n",
       "      <td>7.0</td>\n",
       "    </tr>\n",
       "    <tr>\n",
       "      <td>2</td>\n",
       "      <td>15.555556</td>\n",
       "      <td>0.011111</td>\n",
       "      <td>7.0</td>\n",
       "    </tr>\n",
       "    <tr>\n",
       "      <td>3</td>\n",
       "      <td>21.500000</td>\n",
       "      <td>0.004545</td>\n",
       "      <td>7.0</td>\n",
       "    </tr>\n",
       "    <tr>\n",
       "      <td>4</td>\n",
       "      <td>29.105263</td>\n",
       "      <td>0.028947</td>\n",
       "      <td>7.0</td>\n",
       "    </tr>\n",
       "    <tr>\n",
       "      <td>5</td>\n",
       "      <td>12.888889</td>\n",
       "      <td>0.075556</td>\n",
       "      <td>7.0</td>\n",
       "    </tr>\n",
       "    <tr>\n",
       "      <td>6</td>\n",
       "      <td>21.285714</td>\n",
       "      <td>0.085714</td>\n",
       "      <td>7.0</td>\n",
       "    </tr>\n",
       "    <tr>\n",
       "      <td>7</td>\n",
       "      <td>26.375000</td>\n",
       "      <td>0.050000</td>\n",
       "      <td>7.0</td>\n",
       "    </tr>\n",
       "    <tr>\n",
       "      <td>8</td>\n",
       "      <td>15.666667</td>\n",
       "      <td>0.038889</td>\n",
       "      <td>7.0</td>\n",
       "    </tr>\n",
       "    <tr>\n",
       "      <td>9</td>\n",
       "      <td>17.500000</td>\n",
       "      <td>0.025000</td>\n",
       "      <td>7.0</td>\n",
       "    </tr>\n",
       "    <tr>\n",
       "      <td>10</td>\n",
       "      <td>33.250000</td>\n",
       "      <td>0.037500</td>\n",
       "      <td>7.0</td>\n",
       "    </tr>\n",
       "    <tr>\n",
       "      <td>11</td>\n",
       "      <td>16.000000</td>\n",
       "      <td>0.055556</td>\n",
       "      <td>7.0</td>\n",
       "    </tr>\n",
       "    <tr>\n",
       "      <td>12</td>\n",
       "      <td>26.842105</td>\n",
       "      <td>0.100000</td>\n",
       "      <td>7.0</td>\n",
       "    </tr>\n",
       "  </tbody>\n",
       "</table>\n",
       "</div>"
      ],
      "text/plain": [
       "        Quantity  Discount  CategoryId\n",
       "Month                                 \n",
       "1      16.545455  0.050000         7.0\n",
       "2      15.555556  0.011111         7.0\n",
       "3      21.500000  0.004545         7.0\n",
       "4      29.105263  0.028947         7.0\n",
       "5      12.888889  0.075556         7.0\n",
       "6      21.285714  0.085714         7.0\n",
       "7      26.375000  0.050000         7.0\n",
       "8      15.666667  0.038889         7.0\n",
       "9      17.500000  0.025000         7.0\n",
       "10     33.250000  0.037500         7.0\n",
       "11     16.000000  0.055556         7.0\n",
       "12     26.842105  0.100000         7.0"
      ]
     },
     "execution_count": 48,
     "metadata": {},
     "output_type": "execute_result"
    }
   ],
   "source": [
    "# Group all order dates in same month\n",
    "produce.groupby('Month').mean()"
   ]
  },
  {
   "cell_type": "code",
   "execution_count": 49,
   "metadata": {
    "scrolled": true
   },
   "outputs": [
    {
     "name": "stdout",
     "output_type": "stream",
     "text": [
      "                sum_sq     df         F    PR(>F)\n",
      "C(Month)   4834.012843   11.0  1.318794  0.221691\n",
      "Residual  41319.957745  124.0       NaN       NaN\n"
     ]
    }
   ],
   "source": [
    "# Fit OLS around data\n",
    "formula = 'Quantity ~ C(Month)'\n",
    "lm = ols(formula, produce).fit()\n",
    "\n",
    "# Run ANOVA test on OSL\n",
    "table = sm.stats.anova_lm(lm, typ=2)\n",
    "print(table)"
   ]
  },
  {
   "cell_type": "markdown",
   "metadata": {},
   "source": [
    "### Hypothesis 4 Result  \n",
    "Our PR(F), the p-value for our significance is .22, indicating there is no statistically significant difference in order quantity between months, hence we failed to reject null hypothesis."
   ]
  },
  {
   "cell_type": "markdown",
   "metadata": {},
   "source": [
    "## Hypothesis 6: Is there a statistically significant difference in discount between categories?"
   ]
  },
  {
   "cell_type": "code",
   "execution_count": 50,
   "metadata": {},
   "outputs": [],
   "source": [
    "# Query the data\n",
    "query = '''\n",
    "\n",
    "                        SELECT OrderDetail.UnitPrice, Discount, CategoryId FROM OrderDetail\n",
    "                        JOIN Product\n",
    "                        ON OrderDetail.ProductId = Product.Id\n",
    "\n",
    "'''\n",
    "\n",
    "category_discount = pd.read_sql_query(query,conn)"
   ]
  },
  {
   "cell_type": "code",
   "execution_count": 51,
   "metadata": {
    "scrolled": false
   },
   "outputs": [
    {
     "name": "stdout",
     "output_type": "stream",
     "text": [
      "                  sum_sq      df         F    PR(>F)\n",
      "C(CategoryId)   0.074918     7.0  1.539545  0.149326\n",
      "Residual       14.925422  2147.0       NaN       NaN\n"
     ]
    }
   ],
   "source": [
    "# ANOVA test \n",
    "formula = 'Discount ~ C(CategoryId)'\n",
    "lm = ols(formula, category_discount).fit()\n",
    "table = sm.stats.anova_lm(lm, typ=2)\n",
    "print(table)"
   ]
  },
  {
   "cell_type": "markdown",
   "metadata": {
    "code_folding": []
   },
   "source": [
    "### Hypothesis 6 Result\n",
    "Our Results indicate there is no statistically significant difference in discount level between categories (due to the high P value of .14), hence we failed to reject null hypothesis."
   ]
  },
  {
   "cell_type": "markdown",
   "metadata": {
    "code_folding": []
   },
   "source": [
    "# Topic 2: Performance of Shipping Companies"
   ]
  },
  {
   "cell_type": "markdown",
   "metadata": {
    "code_folding": []
   },
   "source": [
    "## Hypothesis 7: Do different shippers have a statistically significant greater freight cost?"
   ]
  },
  {
   "cell_type": "markdown",
   "metadata": {},
   "source": [
    "We can answer this question using both the ANOVA and Tukey test. We will attempt both:"
   ]
  },
  {
   "cell_type": "markdown",
   "metadata": {
    "code_folding": []
   },
   "source": [
    "##### ANOVA Test Approach"
   ]
  },
  {
   "cell_type": "code",
   "execution_count": 52,
   "metadata": {
    "code_folding": []
   },
   "outputs": [
    {
     "data": {
      "text/html": [
       "<div>\n",
       "<style scoped>\n",
       "    .dataframe tbody tr th:only-of-type {\n",
       "        vertical-align: middle;\n",
       "    }\n",
       "\n",
       "    .dataframe tbody tr th {\n",
       "        vertical-align: top;\n",
       "    }\n",
       "\n",
       "    .dataframe thead th {\n",
       "        text-align: right;\n",
       "    }\n",
       "</style>\n",
       "<table border=\"1\" class=\"dataframe\">\n",
       "  <thead>\n",
       "    <tr style=\"text-align: right;\">\n",
       "      <th></th>\n",
       "      <th>CompanyName</th>\n",
       "      <th>Freight</th>\n",
       "    </tr>\n",
       "  </thead>\n",
       "  <tbody>\n",
       "    <tr>\n",
       "      <td>0</td>\n",
       "      <td>Federal Shipping</td>\n",
       "      <td>32.38</td>\n",
       "    </tr>\n",
       "    <tr>\n",
       "      <td>1</td>\n",
       "      <td>Speedy Express</td>\n",
       "      <td>11.61</td>\n",
       "    </tr>\n",
       "    <tr>\n",
       "      <td>2</td>\n",
       "      <td>United Package</td>\n",
       "      <td>65.83</td>\n",
       "    </tr>\n",
       "    <tr>\n",
       "      <td>3</td>\n",
       "      <td>Speedy Express</td>\n",
       "      <td>41.34</td>\n",
       "    </tr>\n",
       "    <tr>\n",
       "      <td>4</td>\n",
       "      <td>United Package</td>\n",
       "      <td>51.30</td>\n",
       "    </tr>\n",
       "  </tbody>\n",
       "</table>\n",
       "</div>"
      ],
      "text/plain": [
       "        CompanyName  Freight\n",
       "0  Federal Shipping    32.38\n",
       "1    Speedy Express    11.61\n",
       "2    United Package    65.83\n",
       "3    Speedy Express    41.34\n",
       "4    United Package    51.30"
      ]
     },
     "execution_count": 52,
     "metadata": {},
     "output_type": "execute_result"
    }
   ],
   "source": [
    "# Query data using SQLite\n",
    "\n",
    "query = \"\"\"\n",
    "SELECT \n",
    "    s.CompanyName, o.Freight\n",
    "FROM \n",
    "    [Shipper] s\n",
    "    JOIN\n",
    "    [Order] o\n",
    "    ON \n",
    "    o.ShipVia = s.Id\n",
    "\"\"\"\n",
    "\n",
    "# Display dataframe results with correct columns\n",
    "cur.execute(query)\n",
    "ship_df = pd.DataFrame(cur.fetchall())\n",
    "ship_df.columns = [x[0] for x in cur.description]\n",
    "ship_df.head()"
   ]
  },
  {
   "cell_type": "code",
   "execution_count": 53,
   "metadata": {},
   "outputs": [
    {
     "data": {
      "text/html": [
       "<div>\n",
       "<style scoped>\n",
       "    .dataframe tbody tr th:only-of-type {\n",
       "        vertical-align: middle;\n",
       "    }\n",
       "\n",
       "    .dataframe tbody tr th {\n",
       "        vertical-align: top;\n",
       "    }\n",
       "\n",
       "    .dataframe thead th {\n",
       "        text-align: right;\n",
       "    }\n",
       "</style>\n",
       "<table border=\"1\" class=\"dataframe\">\n",
       "  <thead>\n",
       "    <tr style=\"text-align: right;\">\n",
       "      <th></th>\n",
       "      <th>CompanyName</th>\n",
       "      <th>Freight</th>\n",
       "    </tr>\n",
       "  </thead>\n",
       "  <tbody>\n",
       "    <tr>\n",
       "      <td>0</td>\n",
       "      <td>Federal Shipping</td>\n",
       "      <td>32.38</td>\n",
       "    </tr>\n",
       "    <tr>\n",
       "      <td>1</td>\n",
       "      <td>Speedy Express</td>\n",
       "      <td>11.61</td>\n",
       "    </tr>\n",
       "    <tr>\n",
       "      <td>2</td>\n",
       "      <td>United Package</td>\n",
       "      <td>65.83</td>\n",
       "    </tr>\n",
       "    <tr>\n",
       "      <td>3</td>\n",
       "      <td>Speedy Express</td>\n",
       "      <td>41.34</td>\n",
       "    </tr>\n",
       "    <tr>\n",
       "      <td>4</td>\n",
       "      <td>United Package</td>\n",
       "      <td>51.30</td>\n",
       "    </tr>\n",
       "    <tr>\n",
       "      <td>5</td>\n",
       "      <td>United Package</td>\n",
       "      <td>58.17</td>\n",
       "    </tr>\n",
       "    <tr>\n",
       "      <td>6</td>\n",
       "      <td>United Package</td>\n",
       "      <td>22.98</td>\n",
       "    </tr>\n",
       "    <tr>\n",
       "      <td>7</td>\n",
       "      <td>Federal Shipping</td>\n",
       "      <td>148.33</td>\n",
       "    </tr>\n",
       "    <tr>\n",
       "      <td>8</td>\n",
       "      <td>United Package</td>\n",
       "      <td>13.97</td>\n",
       "    </tr>\n",
       "    <tr>\n",
       "      <td>9</td>\n",
       "      <td>Federal Shipping</td>\n",
       "      <td>81.91</td>\n",
       "    </tr>\n",
       "  </tbody>\n",
       "</table>\n",
       "</div>"
      ],
      "text/plain": [
       "        CompanyName  Freight\n",
       "0  Federal Shipping    32.38\n",
       "1    Speedy Express    11.61\n",
       "2    United Package    65.83\n",
       "3    Speedy Express    41.34\n",
       "4    United Package    51.30\n",
       "5    United Package    58.17\n",
       "6    United Package    22.98\n",
       "7  Federal Shipping   148.33\n",
       "8    United Package    13.97\n",
       "9  Federal Shipping    81.91"
      ]
     },
     "execution_count": 53,
     "metadata": {},
     "output_type": "execute_result"
    }
   ],
   "source": [
    "# Show 10 examples\n",
    "ship_df.head(10)"
   ]
  },
  {
   "cell_type": "code",
   "execution_count": 54,
   "metadata": {},
   "outputs": [],
   "source": [
    "# Isolate each shipping company into its own dataframe\n",
    "fed_df = ship_df.loc[ship_df.CompanyName == 'Federal Shipping']\n",
    "speed_df = ship_df.loc[ship_df.CompanyName == 'Speedy Express']\n",
    "united_df = ship_df.loc[ship_df.CompanyName == 'United Package']"
   ]
  },
  {
   "cell_type": "code",
   "execution_count": 55,
   "metadata": {},
   "outputs": [
    {
     "data": {
      "text/html": [
       "<div>\n",
       "<style scoped>\n",
       "    .dataframe tbody tr th:only-of-type {\n",
       "        vertical-align: middle;\n",
       "    }\n",
       "\n",
       "    .dataframe tbody tr th {\n",
       "        vertical-align: top;\n",
       "    }\n",
       "\n",
       "    .dataframe thead tr th {\n",
       "        text-align: left;\n",
       "    }\n",
       "\n",
       "    .dataframe thead tr:last-of-type th {\n",
       "        text-align: right;\n",
       "    }\n",
       "</style>\n",
       "<table border=\"1\" class=\"dataframe\">\n",
       "  <thead>\n",
       "    <tr>\n",
       "      <th></th>\n",
       "      <th colspan=\"8\" halign=\"left\">Freight</th>\n",
       "    </tr>\n",
       "    <tr>\n",
       "      <th></th>\n",
       "      <th>count</th>\n",
       "      <th>mean</th>\n",
       "      <th>std</th>\n",
       "      <th>min</th>\n",
       "      <th>25%</th>\n",
       "      <th>50%</th>\n",
       "      <th>75%</th>\n",
       "      <th>max</th>\n",
       "    </tr>\n",
       "    <tr>\n",
       "      <th>CompanyName</th>\n",
       "      <th></th>\n",
       "      <th></th>\n",
       "      <th></th>\n",
       "      <th></th>\n",
       "      <th></th>\n",
       "      <th></th>\n",
       "      <th></th>\n",
       "      <th></th>\n",
       "    </tr>\n",
       "  </thead>\n",
       "  <tbody>\n",
       "    <tr>\n",
       "      <td>Federal Shipping</td>\n",
       "      <td>255.0</td>\n",
       "      <td>80.441216</td>\n",
       "      <td>119.362844</td>\n",
       "      <td>0.40</td>\n",
       "      <td>12.86</td>\n",
       "      <td>36.710</td>\n",
       "      <td>99.49</td>\n",
       "      <td>1007.64</td>\n",
       "    </tr>\n",
       "    <tr>\n",
       "      <td>Speedy Express</td>\n",
       "      <td>249.0</td>\n",
       "      <td>65.001325</td>\n",
       "      <td>75.393587</td>\n",
       "      <td>0.12</td>\n",
       "      <td>12.75</td>\n",
       "      <td>40.420</td>\n",
       "      <td>89.90</td>\n",
       "      <td>458.78</td>\n",
       "    </tr>\n",
       "    <tr>\n",
       "      <td>United Package</td>\n",
       "      <td>326.0</td>\n",
       "      <td>86.640644</td>\n",
       "      <td>138.219262</td>\n",
       "      <td>0.02</td>\n",
       "      <td>14.04</td>\n",
       "      <td>44.135</td>\n",
       "      <td>91.43</td>\n",
       "      <td>890.78</td>\n",
       "    </tr>\n",
       "  </tbody>\n",
       "</table>\n",
       "</div>"
      ],
      "text/plain": [
       "                 Freight                                                     \\\n",
       "                   count       mean         std   min    25%     50%    75%   \n",
       "CompanyName                                                                   \n",
       "Federal Shipping   255.0  80.441216  119.362844  0.40  12.86  36.710  99.49   \n",
       "Speedy Express     249.0  65.001325   75.393587  0.12  12.75  40.420  89.90   \n",
       "United Package     326.0  86.640644  138.219262  0.02  14.04  44.135  91.43   \n",
       "\n",
       "                           \n",
       "                      max  \n",
       "CompanyName                \n",
       "Federal Shipping  1007.64  \n",
       "Speedy Express     458.78  \n",
       "United Package     890.78  "
      ]
     },
     "execution_count": 55,
     "metadata": {},
     "output_type": "execute_result"
    }
   ],
   "source": [
    "# Get statistics for each \n",
    "ship_df.groupby('CompanyName').describe()"
   ]
  },
  {
   "cell_type": "code",
   "execution_count": 56,
   "metadata": {},
   "outputs": [
    {
     "data": {
      "image/png": "[encoded data removed]",
      "text/plain": [
       "<Figure size 1440x720 with 1 Axes>"
      ]
     },
     "metadata": {},
     "output_type": "display_data"
    }
   ],
   "source": [
    "# Plot Probability Denstity Distribiton (PDF) of freight cost for all 3 shippers\n",
    "plt.figure(figsize=(20, 10))\n",
    "fed_df.Freight.plot.kde(label='Federal Shipping',fontsize=20)\n",
    "speed_df.Freight.plot.kde(label='Speedy Express',fontsize=20)\n",
    "united_df.Freight.plot.kde(label='United Package',fontsize=20)\n",
    "plt.title('Shipper Freight PDFs',fontsize=20)\n",
    "plt.xlabel('Freight Cost', fontsize=20)\n",
    "plt.legend(fontsize=20)\n",
    "plt.savefig('freight.png')\n",
    "plt.show()"
   ]
  },
  {
   "cell_type": "markdown",
   "metadata": {},
   "source": [
    "The freight costs for all 3 companies appear really close, even at their mean. Let's conduct an ANOVA test to evaluate if 2 or more of the companies do have the same mean."
   ]
  },
  {
   "cell_type": "code",
   "execution_count": 57,
   "metadata": {},
   "outputs": [],
   "source": [
    "# ANOVA F-test\n",
    "F, p = stats.f_oneway(fed_df.Freight, speed_df.Freight, united_df.Freight)"
   ]
  },
  {
   "cell_type": "code",
   "execution_count": 58,
   "metadata": {},
   "outputs": [
    {
     "data": {
      "text/plain": [
       "(2.49781040377206, 0.08288539205995446)"
      ]
     },
     "execution_count": 58,
     "metadata": {},
     "output_type": "execute_result"
    }
   ],
   "source": [
    "F, p"
   ]
  },
  {
   "cell_type": "markdown",
   "metadata": {},
   "source": [
    "Although the p-value is low at .08, it is not below the 0.05 threshold. However, the ANOVA test makes some assumptions:\n",
    "\n",
    "- The samples are independent\n",
    "- Each sample is from a normally distributed population\n",
    "- The population standard deviations are equal\n",
    "\n",
    "\n",
    "We see using our groupby above that each standard deviation is quite different (119, 75 and 138). Additionally, these distributions are most likely not normally distributed. Therefore, we need to do some further analysis as the ANOVA test might not be the best suited.\n",
    "\n",
    "We also see using our describe function that Speedy Express has quite a lower mean than the other two shippers (65 vs. 80 and 86). \n",
    "\n",
    "Next, let's compare the Speedy Express population mean with individual t-tests against the other distributions (Federal and United). We will test whether the mean freight cost for Speedy Express is less than that of United, and less than that of Federal."
   ]
  },
  {
   "cell_type": "code",
   "execution_count": 59,
   "metadata": {},
   "outputs": [
    {
     "name": "stdout",
     "output_type": "stream",
     "text": [
      "Reject null hypothesis, mean of Speedy Express is less than than mean of Federal Shipping\n",
      "Reject null hypothesis, mean of Speedy Express is less than than mean of United Package\n"
     ]
    }
   ],
   "source": [
    "# T-tests for Speedy Express\n",
    "for data in [fed_df, united_df]:\n",
    "    results = stats.ttest_ind(speed_df.Freight, data.Freight, equal_var=False)\n",
    "    alpha = 0.05\n",
    "    if (results[0] < 0) & (results[1]/2 < alpha):\n",
    "        print(f\"Reject null hypothesis, mean of Speedy Express is less than than mean of {data.CompanyName.iloc[0]}\")\n",
    "    else:\n",
    "        print(f\"Accept null hypothesis, there is no difference for Speedy ({data.CompanyName.iloc[0]})\")"
   ]
  },
  {
   "cell_type": "markdown",
   "metadata": {},
   "source": [
    "It seems that Speedy Express has statistically significant lower freight costs than the other two shippers! Let's now compare Federal shipping with the other two."
   ]
  },
  {
   "cell_type": "code",
   "execution_count": 60,
   "metadata": {},
   "outputs": [
    {
     "name": "stdout",
     "output_type": "stream",
     "text": [
      "Accept null hypothesis, there is no difference for Federal compared to Speedy Express\n",
      "Accept null hypothesis, there is no difference for Federal compared to United Package\n"
     ]
    }
   ],
   "source": [
    "# T-tests for Federal Shipping\n",
    "for data in [speed_df, united_df]:\n",
    "    results = stats.ttest_ind(fed_df.Freight, data.Freight, equal_var=False)\n",
    "    alpha = 0.05\n",
    "    if (results[0] < 0) & (results[1]/2 < alpha):\n",
    "        print(f\"Reject null hypothesis, mean of Federal is less than than mean of {data.CompanyName.iloc[0]}\")\n",
    "    else:\n",
    "        print(f\"Accept null hypothesis, there is no difference for Federal compared to {data.CompanyName.iloc[0]}\")"
   ]
  },
  {
   "cell_type": "markdown",
   "metadata": {},
   "source": [
    "Here, we see that Federal shipping does not have statistically lower means than the other two. For speedy shipping this was clear, but for united package this was less clear. A final step could be checking whether United Package has a statistically significant greater mean than the other two."
   ]
  },
  {
   "cell_type": "code",
   "execution_count": 61,
   "metadata": {
    "scrolled": false
   },
   "outputs": [
    {
     "name": "stdout",
     "output_type": "stream",
     "text": [
      "Reject null hypothesis, mean of United is greater than than mean of Speedy Express\n",
      "Accept null hypothesis, there is no difference for United compared to Federal Shipping\n"
     ]
    }
   ],
   "source": [
    "# T-tests for United Package\n",
    "for data in [speed_df, fed_df]:\n",
    "    results = stats.ttest_ind(united_df.Freight, data.Freight, equal_var=False)\n",
    "    alpha = 0.05\n",
    "    if (results[0] > 0) & (results[1]/2 < alpha):\n",
    "        print(f\"Reject null hypothesis, mean of United is greater than than mean of {data.CompanyName.iloc[0]}\")\n",
    "    else:\n",
    "        print(f\"Accept null hypothesis, there is no difference for United compared to {data.CompanyName.iloc[0]}\")"
   ]
  },
  {
   "cell_type": "markdown",
   "metadata": {},
   "source": [
    "##### Tukey Test Approach"
   ]
  },
  {
   "cell_type": "code",
   "execution_count": 62,
   "metadata": {},
   "outputs": [],
   "source": [
    "# Drop object data (company name) from original 3 data frames\n",
    "fed_df_float64 = fed_df.drop(columns='CompanyName')\n",
    "united_df_float64 = united_df.drop(columns='CompanyName')\n",
    "speed_df_float64 = speed_df.drop(columns='CompanyName')"
   ]
  },
  {
   "cell_type": "code",
   "execution_count": 63,
   "metadata": {},
   "outputs": [],
   "source": [
    "# Tukey Test\n",
    "v = np.concatenate([fed_df_float64, united_df_float64, speed_df_float64])"
   ]
  },
  {
   "cell_type": "code",
   "execution_count": 64,
   "metadata": {
    "scrolled": false
   },
   "outputs": [
    {
     "name": "stdout",
     "output_type": "stream",
     "text": [
      "           Multiple Comparison of Means - Tukey HSD, FWER=0.05            \n",
      "==========================================================================\n",
      "     group1            group2      meandiff p-adj   lower    upper  reject\n",
      "--------------------------------------------------------------------------\n",
      "  fed_df_float64  speed_df_float64 -15.4399 0.2984  -39.825  8.9452  False\n",
      "  fed_df_float64 united_df_float64   6.1994 0.7799 -16.6823 29.0811  False\n",
      "speed_df_float64 united_df_float64  21.6393 0.0709  -1.3965 44.6752  False\n",
      "--------------------------------------------------------------------------\n"
     ]
    }
   ],
   "source": [
    "# Perform Tukey test\n",
    "labels = ['fed_df_float64'] * len(fed_df_float64) + ['united_df_float64'] * len(united_df_float64) + ['speed_df_float64'] * len(speed_df_float64)\n",
    "tukey_results = pairwise_tukeyhsd(v, labels, 0.05)\n",
    "print(tukey_results)"
   ]
  },
  {
   "cell_type": "markdown",
   "metadata": {},
   "source": [
    "Our Tukey test reveals that none of these pairs are statistically significant and we should therefore accept the null for each. As a sanity test, let's run ANOVA to see if it matches these results. "
   ]
  },
  {
   "cell_type": "code",
   "execution_count": 91,
   "metadata": {},
   "outputs": [],
   "source": [
    "##### ANOVA Test"
   ]
  },
  {
   "cell_type": "code",
   "execution_count": 84,
   "metadata": {},
   "outputs": [
    {
     "data": {
      "text/html": [
       "<div>\n",
       "<style scoped>\n",
       "    .dataframe tbody tr th:only-of-type {\n",
       "        vertical-align: middle;\n",
       "    }\n",
       "\n",
       "    .dataframe tbody tr th {\n",
       "        vertical-align: top;\n",
       "    }\n",
       "\n",
       "    .dataframe thead th {\n",
       "        text-align: right;\n",
       "    }\n",
       "</style>\n",
       "<table border=\"1\" class=\"dataframe\">\n",
       "  <thead>\n",
       "    <tr style=\"text-align: right;\">\n",
       "      <th></th>\n",
       "      <th>CompanyName</th>\n",
       "      <th>Freight</th>\n",
       "    </tr>\n",
       "  </thead>\n",
       "  <tbody>\n",
       "    <tr>\n",
       "      <td>0</td>\n",
       "      <td>Federal Shipping</td>\n",
       "      <td>32.38</td>\n",
       "    </tr>\n",
       "    <tr>\n",
       "      <td>1</td>\n",
       "      <td>Speedy Express</td>\n",
       "      <td>11.61</td>\n",
       "    </tr>\n",
       "    <tr>\n",
       "      <td>2</td>\n",
       "      <td>United Package</td>\n",
       "      <td>65.83</td>\n",
       "    </tr>\n",
       "    <tr>\n",
       "      <td>3</td>\n",
       "      <td>Speedy Express</td>\n",
       "      <td>41.34</td>\n",
       "    </tr>\n",
       "    <tr>\n",
       "      <td>4</td>\n",
       "      <td>United Package</td>\n",
       "      <td>51.30</td>\n",
       "    </tr>\n",
       "  </tbody>\n",
       "</table>\n",
       "</div>"
      ],
      "text/plain": [
       "        CompanyName  Freight\n",
       "0  Federal Shipping    32.38\n",
       "1    Speedy Express    11.61\n",
       "2    United Package    65.83\n",
       "3    Speedy Express    41.34\n",
       "4    United Package    51.30"
      ]
     },
     "execution_count": 84,
     "metadata": {},
     "output_type": "execute_result"
    }
   ],
   "source": [
    "ship_df.head()"
   ]
  },
  {
   "cell_type": "code",
   "execution_count": 89,
   "metadata": {},
   "outputs": [],
   "source": [
    "formula = 'Freight ~ C(CompanyName)'"
   ]
  },
  {
   "cell_type": "code",
   "execution_count": 90,
   "metadata": {
    "scrolled": true
   },
   "outputs": [
    {
     "name": "stdout",
     "output_type": "stream",
     "text": [
      "                      sum_sq     df        F    PR(>F)\n",
      "C(CompanyName)  6.788200e+04    2.0  2.49781  0.082885\n",
      "Residual        1.123753e+07  827.0      NaN       NaN\n"
     ]
    }
   ],
   "source": [
    "lm = ols(formula, ship_df).fit()\n",
    "table = sm.stats.anova_lm(lm, typ=2)\n",
    "print(table)"
   ]
  },
  {
   "cell_type": "markdown",
   "metadata": {},
   "source": [
    "The ANOVA test results align with Tukey. We should accept the null in each scenario."
   ]
  },
  {
   "cell_type": "markdown",
   "metadata": {},
   "source": [
    "### Hypothesis 7 Result\n",
    "Both our ANOVA and Tukey tests display that Speedy express has statistically significant lower costs than the other two shippers. Of course, it could be that Speedy Express has lower quality shipping than the other two, but this is difficult to gather information on given our data. "
   ]
  },
  {
   "cell_type": "markdown",
   "metadata": {},
   "source": [
    "Now that we know Speedy does have lower shipping costs, we could also see whether this translates into different profits. Our next question could be 'Do Shippers have a statistically significant impact on profit (Revenue - Freight Cost)'? By answering this, we can determine if it is really worth switching entirely to Speedy Express as a sole shipper. We will call our new column 'Profit' although we are not factoring in any other cost but freight. Note that\n",
    "\n",
    "$$ Profit = Quantity * Unit Price * (1 - Discount) - Freight$$\n",
    "First, we need to get our data. This will be a join of the first and second queries."
   ]
  },
  {
   "cell_type": "markdown",
   "metadata": {},
   "source": [
    "## Hypothesis 8: Do shippers have a statistically significant impact on Revenue - Freight Cost?"
   ]
  },
  {
   "cell_type": "code",
   "execution_count": null,
   "metadata": {},
   "outputs": [],
   "source": [
    "# Query relevant columns using SQLite\n",
    "\n",
    "query = \"\"\"\n",
    "SELECT \n",
    "    od.UnitPrice, \n",
    "    od.Quantity, \n",
    "    od.Discount, \n",
    "    o.Freight,\n",
    "    s.CompanyName\n",
    "FROM \n",
    "    [Product] p\n",
    "    JOIN\n",
    "    [OrderDetail] od\n",
    "    ON \n",
    "    p.Id = od.ProductId\n",
    "    JOIN \n",
    "    [Order] o\n",
    "    ON\n",
    "    od.OrderId = o.Id \n",
    "    JOIN\n",
    "    [Shipper] s\n",
    "    ON\n",
    "    o.ShipVia = s.Id\n",
    "\"\"\"\n",
    "cur.execute(query)\n",
    "df = pd.DataFrame(cur.fetchall())\n",
    "df.columns = [x[0] for x in cur.description]\n",
    "df.head()\n"
   ]
  },
  {
   "cell_type": "code",
   "execution_count": null,
   "metadata": {},
   "outputs": [],
   "source": [
    "# Get Profit column\n",
    "df['Profit'] = df.UnitPrice*df.Quantity*(1-df.Discount) - df.Freight\n",
    "df.head()"
   ]
  },
  {
   "cell_type": "code",
   "execution_count": null,
   "metadata": {},
   "outputs": [],
   "source": [
    "# Get statistics\n",
    "df.groupby('CompanyName').Profit.describe()"
   ]
  },
  {
   "cell_type": "code",
   "execution_count": null,
   "metadata": {},
   "outputs": [],
   "source": [
    "# Generate PDF \n",
    "df.groupby('CompanyName').Profit.plot.kde(figsize=(15, 10))\n",
    "plt.legend(fontsize=20)\n",
    "plt.title('Profit per Order by Shipper',fontsize=20)\n",
    "plt.xlabel('Profit ($)')\n",
    "plt.show()"
   ]
  },
  {
   "cell_type": "markdown",
   "metadata": {},
   "source": [
    "These distributions are pretty tight again. Let's conduct one-vs-all t-tests similar to before. However, this time we will consider only two tail tests - that is: Null Hypothesis ($H_0$): $$\\mu_A = \\mu_B$$\n",
    "Alternative Hypothesis ($H_1$): $$\\mu_A \\neq \\mu_B$$\n",
    "where A represents one shipper and B represents the other two shippers."
   ]
  },
  {
   "cell_type": "code",
   "execution_count": null,
   "metadata": {
    "code_folding": []
   },
   "outputs": [],
   "source": [
    "# Get unique shippers\n",
    "shippers = list(df.CompanyName.unique())\n",
    "tot_results = {}\n",
    "alpha = 0.05\n",
    "\n",
    "# Conduct t-tests at once:\n",
    "for shipper in shippers:\n",
    "    for s in [x for x in shippers if x != shipper]:\n",
    "        results = stats.ttest_ind(df.loc[df.CompanyName == shipper].Profit,\n",
    "                                  df.loc[df.CompanyName == s].Profit, \n",
    "                                  equal_var=False)\n",
    "        if (results[1] < alpha):\n",
    "            print(f\"Reject null hypothesis, mean of {shipper} is different than than mean of {s}\")\n",
    "        else:\n",
    "            print(f\"Accept null hypothesis ({shipper} vs. {s})\")\n",
    "        tot_results[f\"{shipper} vs. {s}\"] = results"
   ]
  },
  {
   "cell_type": "markdown",
   "metadata": {},
   "source": [
    "We accept that there is no statistical difference for any of the tests."
   ]
  },
  {
   "cell_type": "code",
   "execution_count": null,
   "metadata": {},
   "outputs": [],
   "source": [
    "# View p-value > .05 for each test\n",
    "pprint(tot_results)"
   ]
  },
  {
   "cell_type": "markdown",
   "metadata": {},
   "source": [
    "The two distributions with the lowest compared p-values are United Package and Speedy Express. However, these p-values are not significant enough to consider that any shipping company has a statistically significant affect on Profit.\n",
    "\n",
    "These results are interesting since it means that although Speedy Express is statistically significantly less expensive, it does not guarantee that it is a good business decision to completely switch over to them as sole shipping providers. \n",
    "\n",
    "To probe a littler further, let's run the same tests only on orders that resulted in losses (i.e. Profit < 0)."
   ]
  },
  {
   "cell_type": "code",
   "execution_count": null,
   "metadata": {},
   "outputs": [],
   "source": [
    "# Limit dataframe to no profits or losses only\n",
    "losses = df.loc[df.Profit < 0]\n",
    "losses.groupby('CompanyName').Profit.describe()"
   ]
  },
  {
   "cell_type": "code",
   "execution_count": null,
   "metadata": {},
   "outputs": [],
   "source": [
    "# View PDF again for each shipping company on no profit/losses data\n",
    "losses.groupby('CompanyName').Profit.plot.kde(figsize=(20, 10))\n",
    "plt.legend(fontsize = 20)\n",
    "plt.title('Profit on Orders with Losses by Shipping Company', fontsize = 20)\n",
    "plt.xlabel('Profit')\n",
    "plt.savefig('loss.png')\n",
    "plt.show()"
   ]
  },
  {
   "cell_type": "markdown",
   "metadata": {},
   "source": [
    "This filter made a large difference visually. It seems that on orders that resulted in losses, Speedy Express (in orange) was less impacted than the other two shippers. Let's compare speedy express with the other two to see if this is statistically significant."
   ]
  },
  {
   "cell_type": "code",
   "execution_count": null,
   "metadata": {},
   "outputs": [],
   "source": [
    "# Run t-test on just losses\n",
    "res = []\n",
    "for s in [x for x in shippers if x != 'Speedy Express']:\n",
    "    results = stats.ttest_ind(losses.loc[losses.CompanyName == 'Speedy Express'].Profit,\n",
    "                              losses.loc[losses.CompanyName == s].Profit, \n",
    "                              equal_var=False)\n",
    "    if (results[0] > 0) & (results[1]/2 < alpha):\n",
    "        print(f\"Reject null hypothesis, mean of {shipper} is greater than than mean of {s}\")\n",
    "    else:\n",
    "        print(f\"Accept null hypothesis ({shipper} vs. {s})\")\n",
    "    res.append(results)"
   ]
  },
  {
   "cell_type": "code",
   "execution_count": null,
   "metadata": {
    "scrolled": true
   },
   "outputs": [],
   "source": [
    "res"
   ]
  },
  {
   "cell_type": "markdown",
   "metadata": {},
   "source": [
    "### Hypothesis 8 Result\n",
    "It looks like there is indeed significant evidence that Speedy Express results in smaller overall losses (both P-values are close to 0), reaffirming what the PDF illustrated."
   ]
  },
  {
   "cell_type": "markdown",
   "metadata": {},
   "source": [
    "# Topic 3: Performance of the US relative to the UK"
   ]
  },
  {
   "cell_type": "markdown",
   "metadata": {},
   "source": [
    "## Hypothesis 9: Is there a statistically significant difference in revenue between employees in the US and UK? "
   ]
  },
  {
   "cell_type": "markdown",
   "metadata": {},
   "source": [
    "It would be interesting to understand whether employees in the US or the UK bring in more revenue. In another words, does location matter?"
   ]
  },
  {
   "cell_type": "code",
   "execution_count": 92,
   "metadata": {
    "scrolled": false
   },
   "outputs": [
    {
     "data": {
      "text/html": [
       "<div>\n",
       "<style scoped>\n",
       "    .dataframe tbody tr th:only-of-type {\n",
       "        vertical-align: middle;\n",
       "    }\n",
       "\n",
       "    .dataframe tbody tr th {\n",
       "        vertical-align: top;\n",
       "    }\n",
       "\n",
       "    .dataframe thead th {\n",
       "        text-align: right;\n",
       "    }\n",
       "</style>\n",
       "<table border=\"1\" class=\"dataframe\">\n",
       "  <thead>\n",
       "    <tr style=\"text-align: right;\">\n",
       "      <th></th>\n",
       "      <th>EmployeeId</th>\n",
       "      <th>Region</th>\n",
       "      <th>TOTAL</th>\n",
       "    </tr>\n",
       "  </thead>\n",
       "  <tbody>\n",
       "    <tr>\n",
       "      <td>0</td>\n",
       "      <td>4</td>\n",
       "      <td>North America</td>\n",
       "      <td>249536.3550</td>\n",
       "    </tr>\n",
       "    <tr>\n",
       "      <td>1</td>\n",
       "      <td>3</td>\n",
       "      <td>North America</td>\n",
       "      <td>212652.6125</td>\n",
       "    </tr>\n",
       "    <tr>\n",
       "      <td>2</td>\n",
       "      <td>1</td>\n",
       "      <td>North America</td>\n",
       "      <td>201763.0405</td>\n",
       "    </tr>\n",
       "    <tr>\n",
       "      <td>3</td>\n",
       "      <td>2</td>\n",
       "      <td>North America</td>\n",
       "      <td>177431.4755</td>\n",
       "    </tr>\n",
       "    <tr>\n",
       "      <td>4</td>\n",
       "      <td>8</td>\n",
       "      <td>North America</td>\n",
       "      <td>132962.2245</td>\n",
       "    </tr>\n",
       "  </tbody>\n",
       "</table>\n",
       "</div>"
      ],
      "text/plain": [
       "   EmployeeId         Region        TOTAL\n",
       "0           4  North America  249536.3550\n",
       "1           3  North America  212652.6125\n",
       "2           1  North America  201763.0405\n",
       "3           2  North America  177431.4755\n",
       "4           8  North America  132962.2245"
      ]
     },
     "execution_count": 92,
     "metadata": {},
     "output_type": "execute_result"
    }
   ],
   "source": [
    "# Query employee revenue in North America\n",
    "queryNA = '''SELECT EmployeeId, Region, SUM(UnitPrice*Quantity-UnitPrice*Discount) AS TOTAL\n",
    "FROM [Order]\n",
    "INNER JOIN OrderDetail ON OrderDetail.OrderId = [Order].Id\n",
    "INNER JOIN Employee On Employee.Id = [Order].EmployeeId\n",
    "WHERE Region = 'North America'\n",
    "GROUP BY EmployeeId ORDER BY Total DESC'''\n",
    "\n",
    "# Display dataframe with correct columns\n",
    "cur.execute(queryNA)\n",
    "NAdf = pd.DataFrame(cur.fetchall())\n",
    "NAdf.columns = [x[0] for x in cur.description]\n",
    "NAdf.head()"
   ]
  },
  {
   "cell_type": "code",
   "execution_count": 113,
   "metadata": {},
   "outputs": [
    {
     "data": {
      "text/html": [
       "<div>\n",
       "<style scoped>\n",
       "    .dataframe tbody tr th:only-of-type {\n",
       "        vertical-align: middle;\n",
       "    }\n",
       "\n",
       "    .dataframe tbody tr th {\n",
       "        vertical-align: top;\n",
       "    }\n",
       "\n",
       "    .dataframe thead th {\n",
       "        text-align: right;\n",
       "    }\n",
       "</style>\n",
       "<table border=\"1\" class=\"dataframe\">\n",
       "  <thead>\n",
       "    <tr style=\"text-align: right;\">\n",
       "      <th></th>\n",
       "      <th>LastName</th>\n",
       "      <th>FirstName</th>\n",
       "      <th>Title</th>\n",
       "      <th>EmployeeId</th>\n",
       "      <th>Region</th>\n",
       "      <th>TOTAL</th>\n",
       "    </tr>\n",
       "  </thead>\n",
       "  <tbody>\n",
       "    <tr>\n",
       "      <td>0</td>\n",
       "      <td>Peacock</td>\n",
       "      <td>Margaret</td>\n",
       "      <td>Sales Representative</td>\n",
       "      <td>4</td>\n",
       "      <td>North America</td>\n",
       "      <td>249536.3550</td>\n",
       "    </tr>\n",
       "    <tr>\n",
       "      <td>1</td>\n",
       "      <td>Leverling</td>\n",
       "      <td>Janet</td>\n",
       "      <td>Sales Representative</td>\n",
       "      <td>3</td>\n",
       "      <td>North America</td>\n",
       "      <td>212652.6125</td>\n",
       "    </tr>\n",
       "    <tr>\n",
       "      <td>2</td>\n",
       "      <td>Davolio</td>\n",
       "      <td>Nancy</td>\n",
       "      <td>Sales Representative</td>\n",
       "      <td>1</td>\n",
       "      <td>North America</td>\n",
       "      <td>201763.0405</td>\n",
       "    </tr>\n",
       "    <tr>\n",
       "      <td>3</td>\n",
       "      <td>Fuller</td>\n",
       "      <td>Andrew</td>\n",
       "      <td>Vice President, Sales</td>\n",
       "      <td>2</td>\n",
       "      <td>North America</td>\n",
       "      <td>177431.4755</td>\n",
       "    </tr>\n",
       "    <tr>\n",
       "      <td>4</td>\n",
       "      <td>Callahan</td>\n",
       "      <td>Laura</td>\n",
       "      <td>Inside Sales Coordinator</td>\n",
       "      <td>8</td>\n",
       "      <td>North America</td>\n",
       "      <td>132962.2245</td>\n",
       "    </tr>\n",
       "  </tbody>\n",
       "</table>\n",
       "</div>"
      ],
      "text/plain": [
       "    LastName FirstName                     Title  EmployeeId         Region  \\\n",
       "0    Peacock  Margaret      Sales Representative           4  North America   \n",
       "1  Leverling     Janet      Sales Representative           3  North America   \n",
       "2    Davolio     Nancy      Sales Representative           1  North America   \n",
       "3     Fuller    Andrew     Vice President, Sales           2  North America   \n",
       "4   Callahan     Laura  Inside Sales Coordinator           8  North America   \n",
       "\n",
       "         TOTAL  \n",
       "0  249536.3550  \n",
       "1  212652.6125  \n",
       "2  201763.0405  \n",
       "3  177431.4755  \n",
       "4  132962.2245  "
      ]
     },
     "execution_count": 113,
     "metadata": {},
     "output_type": "execute_result"
    }
   ],
   "source": [
    "# Query employee revenue in North America\n",
    "queryNA = '''SELECT Lastname, Firstname, Title, EmployeeId, Region, SUM(UnitPrice*Quantity-UnitPrice*Discount) AS TOTAL\n",
    "FROM [Order]\n",
    "INNER JOIN OrderDetail ON OrderDetail.OrderId = [Order].Id\n",
    "INNER JOIN Employee On Employee.Id = [Order].EmployeeId\n",
    "WHERE Region = 'North America'\n",
    "GROUP BY EmployeeId ORDER BY Total DESC'''\n",
    "\n",
    "# Display dataframe with correct columns\n",
    "cur.execute(queryNA)\n",
    "NAdf = pd.DataFrame(cur.fetchall())\n",
    "NAdf.columns = [x[0] for x in cur.description]\n",
    "NAdf.head()"
   ]
  },
  {
   "cell_type": "code",
   "execution_count": 107,
   "metadata": {
    "scrolled": true
   },
   "outputs": [
    {
     "data": {
      "text/plain": [
       "EmployeeId         3.6000\n",
       "TOTAL         194869.1416\n",
       "dtype: float64"
      ]
     },
     "execution_count": 107,
     "metadata": {},
     "output_type": "execute_result"
    }
   ],
   "source": [
    "# Mean of NA revenue \n",
    "NAdf.mean()"
   ]
  },
  {
   "cell_type": "code",
   "execution_count": 139,
   "metadata": {},
   "outputs": [
    {
     "data": {
      "image/png": "[encoded data removed]",
      "text/plain": [
       "<Figure size 576x360 with 1 Axes>"
      ]
     },
     "metadata": {},
     "output_type": "display_data"
    }
   ],
   "source": [
    "# Display of revenue per employee in NA\n",
    "plt.figure(figsize=(8,5))\n",
    "sns.barplot(NAdf.LastName, NAdf.TOTAL, alpha=0.8)\n",
    "plt.title('Revenue per North America Employee')\n",
    "plt.ylabel('Revenue', fontsize=15)\n",
    "plt.xlabel('Emplyoee', fontsize=15)\n",
    "plt.show()"
   ]
  },
  {
   "cell_type": "code",
   "execution_count": 114,
   "metadata": {
    "scrolled": false
   },
   "outputs": [
    {
     "data": {
      "text/html": [
       "<div>\n",
       "<style scoped>\n",
       "    .dataframe tbody tr th:only-of-type {\n",
       "        vertical-align: middle;\n",
       "    }\n",
       "\n",
       "    .dataframe tbody tr th {\n",
       "        vertical-align: top;\n",
       "    }\n",
       "\n",
       "    .dataframe thead th {\n",
       "        text-align: right;\n",
       "    }\n",
       "</style>\n",
       "<table border=\"1\" class=\"dataframe\">\n",
       "  <thead>\n",
       "    <tr style=\"text-align: right;\">\n",
       "      <th></th>\n",
       "      <th>LastName</th>\n",
       "      <th>FirstName</th>\n",
       "      <th>Title</th>\n",
       "      <th>EmployeeId</th>\n",
       "      <th>Region</th>\n",
       "      <th>TOTAL</th>\n",
       "    </tr>\n",
       "  </thead>\n",
       "  <tbody>\n",
       "    <tr>\n",
       "      <td>0</td>\n",
       "      <td>King</td>\n",
       "      <td>Robert</td>\n",
       "      <td>Sales Representative</td>\n",
       "      <td>7</td>\n",
       "      <td>British Isles</td>\n",
       "      <td>140868.0110</td>\n",
       "    </tr>\n",
       "    <tr>\n",
       "      <td>1</td>\n",
       "      <td>Dodsworth</td>\n",
       "      <td>Anne</td>\n",
       "      <td>Sales Representative</td>\n",
       "      <td>9</td>\n",
       "      <td>British Isles</td>\n",
       "      <td>82771.5430</td>\n",
       "    </tr>\n",
       "    <tr>\n",
       "      <td>2</td>\n",
       "      <td>Suyama</td>\n",
       "      <td>Michael</td>\n",
       "      <td>Sales Representative</td>\n",
       "      <td>6</td>\n",
       "      <td>British Isles</td>\n",
       "      <td>78006.7955</td>\n",
       "    </tr>\n",
       "    <tr>\n",
       "      <td>3</td>\n",
       "      <td>Buchanan</td>\n",
       "      <td>Steven</td>\n",
       "      <td>Sales Manager</td>\n",
       "      <td>5</td>\n",
       "      <td>British Isles</td>\n",
       "      <td>75352.9100</td>\n",
       "    </tr>\n",
       "  </tbody>\n",
       "</table>\n",
       "</div>"
      ],
      "text/plain": [
       "    LastName FirstName                 Title  EmployeeId         Region  \\\n",
       "0       King    Robert  Sales Representative           7  British Isles   \n",
       "1  Dodsworth      Anne  Sales Representative           9  British Isles   \n",
       "2     Suyama   Michael  Sales Representative           6  British Isles   \n",
       "3   Buchanan    Steven         Sales Manager           5  British Isles   \n",
       "\n",
       "         TOTAL  \n",
       "0  140868.0110  \n",
       "1   82771.5430  \n",
       "2   78006.7955  \n",
       "3   75352.9100  "
      ]
     },
     "execution_count": 114,
     "metadata": {},
     "output_type": "execute_result"
    }
   ],
   "source": [
    "# Query employee revenue in British Isles\n",
    "queryBI = '''SELECT Lastname, Firstname, Title, EmployeeId, Region, SUM(UnitPrice*Quantity-UnitPrice*Discount) AS TOTAL\n",
    "FROM [Order]\n",
    "INNER JOIN OrderDetail ON OrderDetail.OrderId = [Order].Id\n",
    "INNER JOIN Employee On Employee.Id = [Order].EmployeeId\n",
    "WHERE Region = 'British Isles'\n",
    "GROUP BY EmployeeId ORDER BY Total DESC'''\n",
    "\n",
    "# Display dataframe with correct columns\n",
    "cur.execute(queryBI)\n",
    "BIdf = pd.DataFrame(cur.fetchall())\n",
    "BIdf.columns = [x[0] for x in cur.description]\n",
    "BIdf.head()"
   ]
  },
  {
   "cell_type": "code",
   "execution_count": 150,
   "metadata": {},
   "outputs": [
    {
     "data": {
      "image/png": "[encoded data removed]",
      "text/plain": [
       "<Figure size 576x360 with 1 Axes>"
      ]
     },
     "metadata": {},
     "output_type": "display_data"
    }
   ],
   "source": [
    "# Display of revenue per employee in BI\n",
    "plt.figure(figsize=(8,5))\n",
    "sns.barplot(BIdf.LastName, BIdf.TOTAL, alpha=0.8)\n",
    "plt.title('Revenue per British Isles Employee')\n",
    "plt.ylabel('Revenue', fontsize=15)\n",
    "plt.xlabel('Employee', fontsize=15)\n",
    "plt.show()"
   ]
  },
  {
   "cell_type": "code",
   "execution_count": 148,
   "metadata": {},
   "outputs": [
    {
     "name": "stdout",
     "output_type": "stream",
     "text": [
      "BI revenue: 194869.14160000003\n",
      "NA revenue: 94249.81487500001\n"
     ]
    }
   ],
   "source": [
    "# Mean of BI and NA revenue\n",
    "x = NAdf[\"TOTAL\"].mean()\n",
    "y = BIdf[\"TOTAL\"].mean()\n",
    "print('BI revenue:', x)\n",
    "print('NA revenue:', y)"
   ]
  },
  {
   "cell_type": "code",
   "execution_count": 94,
   "metadata": {
    "scrolled": true
   },
   "outputs": [
    {
     "data": {
      "text/plain": [
       "Ttest_indResult(statistic=4.046622329322822, pvalue=0.004940664900025047)"
      ]
     },
     "execution_count": 94,
     "metadata": {},
     "output_type": "execute_result"
    }
   ],
   "source": [
    "# Welch's t-testing\n",
    "stats.ttest_ind(NAdf.TOTAL.values, BIdf.TOTAL.values, equal_var=False)"
   ]
  },
  {
   "cell_type": "code",
   "execution_count": 95,
   "metadata": {
    "scrolled": false
   },
   "outputs": [
    {
     "data": {
      "text/plain": [
       "2.6211608834769646"
      ]
     },
     "execution_count": 95,
     "metadata": {},
     "output_type": "execute_result"
    }
   ],
   "source": [
    "# Run effect size calculation\n",
    "cohens_d(NAdf.TOTAL, BIdf.TOTAL)"
   ]
  },
  {
   "cell_type": "code",
   "execution_count": 151,
   "metadata": {},
   "outputs": [
    {
     "data": {
      "image/png": "[encoded data removed]",
      "text/plain": [
       "<Figure size 576x360 with 1 Axes>"
      ]
     },
     "metadata": {},
     "output_type": "display_data"
    }
   ],
   "source": [
    "# Display of revenue per employee in NA\n",
    "plt.figure(figsize=(8,5))\n",
    "sns.barplot(NAdf.LastName, NAdf.TOTAL, alpha=0.8)\n",
    "plt.title('Revenue per North America Employee')\n",
    "plt.ylabel('Revenue', fontsize=15)\n",
    "plt.xlabel('Employee', fontsize=15)\n",
    "plt.show()"
   ]
  },
  {
   "cell_type": "markdown",
   "metadata": {},
   "source": [
    "While our results are statistically significant due to a p-value close to 0, our effect size of 2.62 indicates the effect size is low. "
   ]
  },
  {
   "cell_type": "markdown",
   "metadata": {},
   "source": [
    "### Hypothesis 9 Result\n",
    "We can conclude there is a statistically significant difference in employee revenue in the US or UK, however, the effect size is low. "
   ]
  },
  {
   "cell_type": "markdown",
   "metadata": {},
   "source": [
    "## Hypothesis 10: Is there a statistically significant difference in performance between employees from US and UK (measured by amount of orders processed)?"
   ]
  },
  {
   "cell_type": "markdown",
   "metadata": {},
   "source": [
    " Next, we would like to determine if the number of orders are affected by how fast employees can process them."
   ]
  },
  {
   "cell_type": "code",
   "execution_count": 170,
   "metadata": {
    "scrolled": false
   },
   "outputs": [
    {
     "data": {
      "text/html": [
       "<div>\n",
       "<style scoped>\n",
       "    .dataframe tbody tr th:only-of-type {\n",
       "        vertical-align: middle;\n",
       "    }\n",
       "\n",
       "    .dataframe tbody tr th {\n",
       "        vertical-align: top;\n",
       "    }\n",
       "\n",
       "    .dataframe thead th {\n",
       "        text-align: right;\n",
       "    }\n",
       "</style>\n",
       "<table border=\"1\" class=\"dataframe\">\n",
       "  <thead>\n",
       "    <tr style=\"text-align: right;\">\n",
       "      <th></th>\n",
       "      <th>Id</th>\n",
       "      <th>OrderDate</th>\n",
       "      <th>ShippedDate</th>\n",
       "      <th>Country</th>\n",
       "    </tr>\n",
       "  </thead>\n",
       "  <tbody>\n",
       "    <tr>\n",
       "      <td>0</td>\n",
       "      <td>10248</td>\n",
       "      <td>2012-07-04</td>\n",
       "      <td>2012-07-16</td>\n",
       "      <td>UK</td>\n",
       "    </tr>\n",
       "    <tr>\n",
       "      <td>1</td>\n",
       "      <td>10249</td>\n",
       "      <td>2012-07-05</td>\n",
       "      <td>2012-07-10</td>\n",
       "      <td>UK</td>\n",
       "    </tr>\n",
       "    <tr>\n",
       "      <td>2</td>\n",
       "      <td>10250</td>\n",
       "      <td>2012-07-08</td>\n",
       "      <td>2012-07-12</td>\n",
       "      <td>USA</td>\n",
       "    </tr>\n",
       "    <tr>\n",
       "      <td>3</td>\n",
       "      <td>10251</td>\n",
       "      <td>2012-07-08</td>\n",
       "      <td>2012-07-15</td>\n",
       "      <td>USA</td>\n",
       "    </tr>\n",
       "    <tr>\n",
       "      <td>4</td>\n",
       "      <td>10252</td>\n",
       "      <td>2012-07-09</td>\n",
       "      <td>2012-07-11</td>\n",
       "      <td>USA</td>\n",
       "    </tr>\n",
       "    <tr>\n",
       "      <td>5</td>\n",
       "      <td>10253</td>\n",
       "      <td>2012-07-10</td>\n",
       "      <td>2012-07-16</td>\n",
       "      <td>USA</td>\n",
       "    </tr>\n",
       "    <tr>\n",
       "      <td>6</td>\n",
       "      <td>10254</td>\n",
       "      <td>2012-07-11</td>\n",
       "      <td>2012-07-23</td>\n",
       "      <td>UK</td>\n",
       "    </tr>\n",
       "    <tr>\n",
       "      <td>7</td>\n",
       "      <td>10255</td>\n",
       "      <td>2012-07-12</td>\n",
       "      <td>2012-07-15</td>\n",
       "      <td>UK</td>\n",
       "    </tr>\n",
       "    <tr>\n",
       "      <td>8</td>\n",
       "      <td>10256</td>\n",
       "      <td>2012-07-15</td>\n",
       "      <td>2012-07-17</td>\n",
       "      <td>USA</td>\n",
       "    </tr>\n",
       "    <tr>\n",
       "      <td>9</td>\n",
       "      <td>10257</td>\n",
       "      <td>2012-07-16</td>\n",
       "      <td>2012-07-22</td>\n",
       "      <td>USA</td>\n",
       "    </tr>\n",
       "  </tbody>\n",
       "</table>\n",
       "</div>"
      ],
      "text/plain": [
       "      Id   OrderDate ShippedDate Country\n",
       "0  10248  2012-07-04  2012-07-16      UK\n",
       "1  10249  2012-07-05  2012-07-10      UK\n",
       "2  10250  2012-07-08  2012-07-12     USA\n",
       "3  10251  2012-07-08  2012-07-15     USA\n",
       "4  10252  2012-07-09  2012-07-11     USA\n",
       "5  10253  2012-07-10  2012-07-16     USA\n",
       "6  10254  2012-07-11  2012-07-23      UK\n",
       "7  10255  2012-07-12  2012-07-15      UK\n",
       "8  10256  2012-07-15  2012-07-17     USA\n",
       "9  10257  2012-07-16  2012-07-22     USA"
      ]
     },
     "execution_count": 170,
     "metadata": {},
     "output_type": "execute_result"
    }
   ],
   "source": [
    "#SQLite query\n",
    "query = '''\n",
    "                    \n",
    "                    SELECT O.Id, O.OrderDate, O.ShippedDate, E.Country FROM [Order] AS O\n",
    "                    JOIN Employee AS E\n",
    "                    ON O.EmployeeId = E.Id\n",
    "'''\n",
    "usa_uk = pd.read_sql_query(query,conn)\n",
    "usa_uk.head(10)"
   ]
  },
  {
   "cell_type": "code",
   "execution_count": 157,
   "metadata": {},
   "outputs": [],
   "source": [
    "# Dataframes using timestamp\n",
    "usa_uk.OrderDate = pd.to_datetime(usa_uk.OrderDate)\n",
    "usa_uk.ShippedDate = pd.to_datetime(usa_uk.ShippedDate)\n",
    "usa_uk['ProcessingTime'] = usa_uk.ShippedDate - usa_uk.OrderDate\n",
    "usa_uk.ProcessingTime = usa_uk.ProcessingTime.dt.days\n",
    "\n",
    "# Drop null values\n",
    "usa_uk.dropna(inplace=True)\n",
    "\n",
    "usa = usa_uk[usa_uk.Country == 'USA']['ProcessingTime']\n",
    "uk  = usa_uk[usa_uk.Country == 'UK']['ProcessingTime']\n"
   ]
  },
  {
   "cell_type": "code",
   "execution_count": 158,
   "metadata": {},
   "outputs": [
    {
     "name": "stdout",
     "output_type": "stream",
     "text": [
      "8.375634517766498 8.807339449541285\n"
     ]
    }
   ],
   "source": [
    "# Determine mean processing time for both \n",
    "print(usa.mean(), uk.mean())"
   ]
  },
  {
   "cell_type": "code",
   "execution_count": null,
   "metadata": {},
   "outputs": [],
   "source": []
  },
  {
   "cell_type": "code",
   "execution_count": 153,
   "metadata": {},
   "outputs": [
    {
     "data": {
      "text/plain": [
       "Ttest_indResult(statistic=-0.7964601243449388, pvalue=0.42599888071882475)"
      ]
     },
     "execution_count": 153,
     "metadata": {},
     "output_type": "execute_result"
    }
   ],
   "source": [
    "# Generate stastistics\n",
    "stats.ttest_ind(usa, uk)"
   ]
  },
  {
   "cell_type": "code",
   "execution_count": 154,
   "metadata": {
    "scrolled": true
   },
   "outputs": [
    {
     "name": "stdout",
     "output_type": "stream",
     "text": [
      "0.06310985453186796\n"
     ]
    }
   ],
   "source": [
    "# Cohen's D for effect size\n",
    "print(Cohen_d(usa, uk))"
   ]
  },
  {
   "cell_type": "markdown",
   "metadata": {},
   "source": [
    "### Hypothesis 10 Result\n",
    "Our high p-value indicates there is no statistically significant difference in processing time between both nations, hence we falied to reject null hypothesis."
   ]
  },
  {
   "cell_type": "markdown",
   "metadata": {},
   "source": [
    "# Conclusion"
   ]
  },
  {
   "cell_type": "markdown",
   "metadata": {},
   "source": [
    "## Summary of Results"
   ]
  },
  {
   "cell_type": "markdown",
   "metadata": {},
   "source": [
    "The results of our tests will play a critical role in guiding business decision making on where to invest.\n",
    "\n",
    "The following is a list of the factors which do have a significant difference and therefore should be considered from a decision-makers point of view: \n",
    "\n",
    "- While discounts have a significant effect on the number of items customers order, the increased quantity of products ordered due to discounts do not result in higher revenue.\n",
    "\n",
    "- There is a statistically significant difference in the quantities of orders purchased with no discount vs. those with discounts at every level (5%, 10%, 15%, 20%, 25%). However, not when comparing discount increment ranges. The highest quantity of orders were in the 15%, 25% and 5% categories. \n",
    "\n",
    "- There is statistically significant difference in discount amount between employees from USA and UK; employees from USA tend to give smaller discount to their clients.\n",
    "\n",
    "- Speedy Express has statistically significant lower shipping costs than both United Package and Federal Shipping.\n",
    "\n",
    "- There is significant evidence that Speedy Express results in smaller overall losses. When it comes to profitabiility in general, we cannot make overarching assumptions, but this is nonethless interesting.\n",
    "\n",
    "- On orders that resulted in losses, Speedy Express was statistically less impacted than the other two shippers.\n",
    "\n",
    "Knowing this, 3 potential recommendations could be:\n",
    "\n",
    "1. Offer discounts at the 15% level as they are the most effective in solicting larger purchases.\n",
    "2. Choose to purchase in the U.K. if interested in more generous discounts.\n",
    "2. Choose Speedy Express as your shipping company.\n",
    "\n"
   ]
  },
  {
   "cell_type": "markdown",
   "metadata": {},
   "source": [
    "## Ideas for Future Exploration"
   ]
  },
  {
   "cell_type": "markdown",
   "metadata": {},
   "source": [
    "Some questions we could explore in the future include:\n",
    "1. Why do employees from U.S. make so many more orders than those from the U.K.?\n",
    "2. What clients respond better to discounts?\n",
    "3. What’s the optimal level of discount for products according to their price and possible seasonal demand?\n",
    "4. How can logistics be improved?\n"
   ]
  }
 ],
 "metadata": {
  "kernelspec": {
   "display_name": "Python 3",
   "language": "python",
   "name": "python3"
  },
  "language_info": {
   "codemirror_mode": {
    "name": "ipython",
    "version": 3
   },
   "file_extension": ".py",
   "mimetype": "text/x-python",
   "name": "python",
   "nbconvert_exporter": "python",
   "pygments_lexer": "ipython3",
   "version": "3.6.9"
  },
  "toc": {
   "base_numbering": 1,
   "nav_menu": {},
   "number_sections": true,
   "sideBar": true,
   "skip_h1_title": false,
   "title_cell": "Table of Contents",
   "title_sidebar": "Contents",
   "toc_cell": true,
   "toc_position": {},
   "toc_section_display": true,
   "toc_window_display": false
  }
 },
 "nbformat": 4,
 "nbformat_minor": 2
}
